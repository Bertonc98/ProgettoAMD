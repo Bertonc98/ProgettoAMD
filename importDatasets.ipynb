{
 "cells": [
  {
   "cell_type": "code",
   "execution_count": 7,
   "metadata": {
    "colab": {
     "base_uri": "https://localhost:8080/",
     "height": 89,
     "resources": {
      "http://localhost:8080/nbextensions/google.colab/files.js": {
       "data": "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",
       "headers": [
        [
         "content-type",
         "application/javascript"
        ]
       ],
       "ok": true,
       "status": 200,
       "status_text": ""
      }
     }
    },
    "executionInfo": {
     "elapsed": 15448,
     "status": "ok",
     "timestamp": 1620810559303,
     "user": {
      "displayName": "Alberto Bertoncini",
      "photoUrl": "https://lh3.googleusercontent.com/a-/AOh14GgP4pS51xFUyrHC1yIPnOHRwEXsOQC87C0j1niubw=s64",
      "userId": "09719288159644208970"
     },
     "user_tz": -120
    },
    "id": "VkX2HZP_1BRA",
    "outputId": "fb686b7b-5167-487c-ed1d-fa81e3eca3ed"
   },
   "outputs": [
    {
     "data": {
      "text/html": [
       "\n",
       "     <input type=\"file\" id=\"files-59554f15-bf65-4620-8e65-03e37e616938\" name=\"files[]\" multiple disabled\n",
       "        style=\"border:none\" />\n",
       "     <output id=\"result-59554f15-bf65-4620-8e65-03e37e616938\">\n",
       "      Upload widget is only available when the cell has been executed in the\n",
       "      current browser session. Please rerun this cell to enable.\n",
       "      </output>\n",
       "      <script src=\"/nbextensions/google.colab/files.js\"></script> "
      ],
      "text/plain": [
       "<IPython.core.display.HTML object>"
      ]
     },
     "metadata": {
      "tags": []
     },
     "output_type": "display_data"
    },
    {
     "name": "stdout",
     "output_type": "stream",
     "text": [
      "Saving kaggle.json to kaggle.json\n"
     ]
    },
    {
     "data": {
      "text/plain": [
       "{'kaggle.json': b'{\"username\":\"ricopallazzo\",\"key\":\"cfa9f6bb4e74ece7d765d0dfeb3a007c\"}'}"
      ]
     },
     "execution_count": 7,
     "metadata": {
      "tags": []
     },
     "output_type": "execute_result"
    }
   ],
   "source": [
    "from google.colab import files\n",
    "files.upload()"
   ]
  },
  {
   "cell_type": "code",
   "execution_count": 8,
   "metadata": {
    "colab": {
     "base_uri": "https://localhost:8080/"
    },
    "executionInfo": {
     "elapsed": 4057,
     "status": "ok",
     "timestamp": 1620810603396,
     "user": {
      "displayName": "Alberto Bertoncini",
      "photoUrl": "https://lh3.googleusercontent.com/a-/AOh14GgP4pS51xFUyrHC1yIPnOHRwEXsOQC87C0j1niubw=s64",
      "userId": "09719288159644208970"
     },
     "user_tz": -120
    },
    "id": "TKx-4Psq1wMN",
    "outputId": "adb34b36-036f-4a9e-a005-bb6eba2b5c51"
   },
   "outputs": [
    {
     "name": "stdout",
     "output_type": "stream",
     "text": [
      "kaggle.json\n"
     ]
    }
   ],
   "source": [
    "!pip install -q kaggle\n",
    "!mkdir -p ~/.kaggle\n",
    "!cp kaggle.json ~/.kaggle/\n",
    "!ls ~/.kaggle\n",
    "!chmod 600 /root/.kaggle/kaggle.json"
   ]
  },
  {
   "cell_type": "code",
   "execution_count": 3,
   "metadata": {},
   "outputs": [
    {
     "name": "stdout",
     "output_type": "stream",
     "text": [
      "name                      size  creationDate         \n",
      "-----------------------  -----  -------------------  \n",
      "name.basics.tsv.gz       180MB  2019-11-18 18:36:47  \n",
      "title.ratings.tsv.gz       5MB  2019-11-18 18:36:47  \n",
      "title.basics.tsv.gz      108MB  2019-11-18 18:36:47  \n",
      "title.principals.tsv.gz  290MB  2019-11-18 18:36:47  \n",
      "title.akas.tsv.gz        158MB  2019-11-18 18:36:47  \n"
     ]
    }
   ],
   "source": [
    "!kaggle datasets files \"ashirwadsangwan/imdb-dataset\""
   ]
  },
  {
   "cell_type": "code",
   "execution_count": 4,
   "metadata": {
    "colab": {
     "base_uri": "https://localhost:8080/"
    },
    "executionInfo": {
     "elapsed": 2006,
     "status": "ok",
     "timestamp": 1620811351726,
     "user": {
      "displayName": "Alberto Bertoncini",
      "photoUrl": "https://lh3.googleusercontent.com/a-/AOh14GgP4pS51xFUyrHC1yIPnOHRwEXsOQC87C0j1niubw=s64",
      "userId": "09719288159644208970"
     },
     "user_tz": -120
    },
    "id": "5kbN_QLd1ye9",
    "outputId": "bd12aef2-a18b-44c9-c1d5-d181e8da2c54"
   },
   "outputs": [
    {
     "name": "stdout",
     "output_type": "stream",
     "text": [
      "Downloading title.principals.tsv.gz.zip to C:\\Users\\massi\\Desktop\\ALGO\\ProgettoAMD\n",
      "\n"
     ]
    },
    {
     "name": "stderr",
     "output_type": "stream",
     "text": [
      "\n",
      "  0%|          | 0.00/287M [00:00<?, ?B/s]\n",
      "  0%|          | 1.00M/287M [00:01<06:22, 784kB/s]\n",
      "  1%|          | 2.00M/287M [00:01<04:03, 1.22MB/s]\n",
      "  1%|1         | 3.00M/287M [00:02<03:17, 1.51MB/s]\n",
      "  1%|1         | 4.00M/287M [00:02<02:56, 1.68MB/s]\n",
      "  2%|1         | 5.00M/287M [00:03<02:44, 1.79MB/s]\n",
      "  2%|2         | 6.00M/287M [00:03<02:33, 1.92MB/s]\n",
      "  2%|2         | 7.00M/287M [00:04<02:28, 1.97MB/s]\n",
      "  3%|2         | 8.00M/287M [00:04<02:24, 2.02MB/s]\n",
      "  3%|3         | 9.00M/287M [00:05<02:21, 2.06MB/s]\n",
      "  3%|3         | 10.0M/287M [00:05<02:20, 2.07MB/s]\n",
      "  4%|3         | 11.0M/287M [00:06<02:30, 1.92MB/s]\n",
      "  4%|4         | 12.0M/287M [00:06<02:25, 1.98MB/s]\n",
      "  5%|4         | 13.0M/287M [00:07<02:27, 1.95MB/s]\n",
      "  5%|4         | 14.0M/287M [00:08<02:24, 1.98MB/s]\n",
      "  5%|5         | 15.0M/287M [00:08<02:19, 2.05MB/s]\n",
      "  6%|5         | 16.0M/287M [00:09<02:18, 2.05MB/s]\n",
      "  6%|5         | 17.0M/287M [00:09<02:16, 2.08MB/s]\n",
      "  6%|6         | 18.0M/287M [00:10<02:17, 2.05MB/s]\n",
      "  7%|6         | 19.0M/287M [00:10<02:14, 2.09MB/s]\n",
      "  7%|6         | 20.0M/287M [00:11<02:15, 2.07MB/s]\n",
      "  7%|7         | 21.0M/287M [00:11<02:18, 2.02MB/s]\n",
      "  8%|7         | 22.0M/287M [00:12<02:22, 1.95MB/s]\n",
      "  8%|8         | 23.0M/287M [00:12<02:16, 2.03MB/s]\n",
      "  8%|8         | 24.0M/287M [00:13<02:18, 1.99MB/s]\n",
      "  9%|8         | 25.0M/287M [00:13<02:13, 2.05MB/s]\n",
      "  9%|9         | 26.0M/287M [00:14<02:12, 2.07MB/s]\n",
      "  9%|9         | 27.0M/287M [00:14<02:11, 2.08MB/s]\n",
      " 10%|9         | 28.0M/287M [00:15<02:10, 2.09MB/s]\n",
      " 10%|#         | 29.0M/287M [00:15<02:09, 2.09MB/s]\n",
      " 10%|#         | 30.0M/287M [00:16<02:08, 2.09MB/s]\n",
      " 11%|#         | 31.0M/287M [00:16<02:09, 2.07MB/s]\n",
      " 11%|#1        | 32.0M/287M [00:17<02:17, 1.95MB/s]\n",
      " 12%|#1        | 33.0M/287M [00:17<02:16, 1.95MB/s]\n",
      " 12%|#1        | 34.0M/287M [00:18<02:12, 2.01MB/s]\n",
      " 12%|#2        | 35.0M/287M [00:18<02:09, 2.04MB/s]\n",
      " 13%|#2        | 36.0M/287M [00:19<02:08, 2.05MB/s]\n",
      " 13%|#2        | 37.0M/287M [00:19<02:08, 2.04MB/s]\n",
      " 13%|#3        | 38.0M/287M [00:20<02:07, 2.05MB/s]\n",
      " 14%|#3        | 39.0M/287M [00:20<02:05, 2.07MB/s]\n",
      " 14%|#3        | 40.0M/287M [00:21<02:04, 2.08MB/s]\n",
      " 14%|#4        | 41.0M/287M [00:21<02:03, 2.08MB/s]\n",
      " 15%|#4        | 42.0M/287M [00:22<02:14, 1.91MB/s]\n",
      " 15%|#4        | 43.0M/287M [00:22<02:10, 1.96MB/s]\n",
      " 15%|#5        | 44.0M/287M [00:23<02:09, 1.97MB/s]\n",
      " 16%|#5        | 45.0M/287M [00:24<02:05, 2.01MB/s]\n",
      " 16%|#6        | 46.0M/287M [00:24<02:03, 2.05MB/s]\n",
      " 16%|#6        | 47.0M/287M [00:24<02:01, 2.07MB/s]\n",
      " 17%|#6        | 48.0M/287M [00:25<02:00, 2.08MB/s]\n",
      " 17%|#7        | 49.0M/287M [00:25<01:58, 2.10MB/s]\n",
      " 17%|#7        | 50.0M/287M [00:26<02:02, 2.03MB/s]\n",
      " 18%|#7        | 51.0M/287M [00:26<01:56, 2.12MB/s]\n",
      " 18%|#8        | 52.0M/287M [00:27<02:05, 1.97MB/s]\n",
      " 18%|#8        | 53.0M/287M [00:28<02:02, 2.01MB/s]\n",
      " 19%|#8        | 54.0M/287M [00:28<01:59, 2.04MB/s]\n",
      " 19%|#9        | 55.0M/287M [00:29<02:09, 1.88MB/s]\n",
      " 20%|#9        | 56.0M/287M [00:29<02:04, 1.94MB/s]\n",
      " 20%|#9        | 57.0M/287M [00:30<02:00, 1.99MB/s]\n",
      " 20%|##        | 58.0M/287M [00:30<01:58, 2.03MB/s]\n",
      " 21%|##        | 59.0M/287M [00:31<01:56, 2.05MB/s]\n",
      " 21%|##        | 60.0M/287M [00:31<01:55, 2.06MB/s]\n",
      " 21%|##1       | 61.0M/287M [00:32<01:56, 2.04MB/s]\n",
      " 22%|##1       | 62.0M/287M [00:33<02:21, 1.67MB/s]\n",
      " 22%|##1       | 63.0M/287M [00:33<02:11, 1.78MB/s]\n",
      " 22%|##2       | 64.0M/287M [00:34<02:04, 1.87MB/s]\n",
      " 23%|##2       | 65.0M/287M [00:34<02:00, 1.93MB/s]\n",
      " 23%|##3       | 66.0M/287M [00:35<01:56, 1.99MB/s]\n",
      " 23%|##3       | 67.0M/287M [00:35<01:53, 2.03MB/s]\n",
      " 24%|##3       | 68.0M/287M [00:36<01:51, 2.05MB/s]\n",
      " 24%|##4       | 69.0M/287M [00:36<01:50, 2.07MB/s]\n",
      " 24%|##4       | 70.0M/287M [00:37<01:50, 2.05MB/s]\n",
      " 25%|##4       | 71.0M/287M [00:37<01:47, 2.10MB/s]\n",
      " 25%|##5       | 72.0M/287M [00:38<01:47, 2.10MB/s]\n",
      " 25%|##5       | 73.0M/287M [00:38<01:46, 2.11MB/s]\n",
      " 26%|##5       | 74.0M/287M [00:39<01:46, 2.09MB/s]\n",
      " 26%|##6       | 75.0M/287M [00:39<01:45, 2.11MB/s]\n",
      " 26%|##6       | 76.0M/287M [00:40<01:44, 2.12MB/s]\n",
      " 27%|##6       | 77.0M/287M [00:40<01:44, 2.11MB/s]\n",
      " 27%|##7       | 78.0M/287M [00:41<01:43, 2.12MB/s]\n",
      " 28%|##7       | 79.0M/287M [00:41<01:44, 2.08MB/s]\n",
      " 28%|##7       | 80.0M/287M [00:42<02:09, 1.68MB/s]\n",
      " 28%|##8       | 81.0M/287M [00:43<02:00, 1.79MB/s]\n",
      " 29%|##8       | 82.0M/287M [00:43<01:54, 1.88MB/s]\n",
      " 29%|##8       | 83.0M/287M [00:44<01:50, 1.94MB/s]\n",
      " 29%|##9       | 84.0M/287M [00:44<01:53, 1.87MB/s]\n",
      " 30%|##9       | 85.0M/287M [00:45<01:45, 2.01MB/s]\n",
      " 30%|##9       | 86.0M/287M [00:45<01:43, 2.03MB/s]\n",
      " 30%|###       | 87.0M/287M [00:46<01:41, 2.06MB/s]\n",
      " 31%|###       | 88.0M/287M [00:46<01:40, 2.07MB/s]\n",
      " 31%|###1      | 89.0M/287M [00:47<01:47, 1.93MB/s]\n",
      " 31%|###1      | 90.0M/287M [00:47<01:44, 1.97MB/s]\n",
      " 32%|###1      | 91.0M/287M [00:48<01:57, 1.75MB/s]\n",
      " 32%|###2      | 92.0M/287M [00:48<01:50, 1.84MB/s]\n",
      " 32%|###2      | 93.0M/287M [00:49<01:45, 1.92MB/s]\n",
      " 33%|###2      | 94.0M/287M [00:49<01:43, 1.96MB/s]\n",
      " 33%|###3      | 95.0M/287M [00:50<01:39, 2.01MB/s]\n",
      " 33%|###3      | 96.0M/287M [00:50<01:38, 2.04MB/s]\n",
      " 34%|###3      | 97.0M/287M [00:51<01:37, 2.05MB/s]\n",
      " 34%|###4      | 98.0M/287M [00:51<01:36, 2.04MB/s]\n",
      " 35%|###4      | 99.0M/287M [00:52<01:36, 2.05MB/s]\n",
      " 35%|###4      | 100M/287M [00:53<01:41, 1.93MB/s] \n",
      " 35%|###5      | 101M/287M [00:53<01:38, 1.98MB/s]\n",
      " 36%|###5      | 102M/287M [00:54<01:36, 2.02MB/s]\n",
      " 36%|###5      | 103M/287M [00:54<01:34, 2.04MB/s]\n",
      " 36%|###6      | 104M/287M [00:55<01:33, 2.06MB/s]\n",
      " 37%|###6      | 105M/287M [00:55<01:32, 2.05MB/s]\n",
      " 37%|###6      | 106M/287M [00:56<01:31, 2.08MB/s]\n",
      " 37%|###7      | 107M/287M [00:56<01:30, 2.08MB/s]\n",
      " 38%|###7      | 108M/287M [00:57<01:30, 2.06MB/s]\n",
      " 38%|###7      | 109M/287M [00:57<01:34, 1.98MB/s]\n",
      " 38%|###8      | 110M/287M [00:58<01:31, 2.02MB/s]\n",
      " 39%|###8      | 111M/287M [00:58<01:30, 2.04MB/s]\n",
      " 39%|###9      | 112M/287M [00:59<01:28, 2.07MB/s]\n",
      " 39%|###9      | 113M/287M [00:59<01:29, 2.03MB/s]\n",
      " 40%|###9      | 114M/287M [01:00<01:26, 2.09MB/s]\n",
      " 40%|####      | 115M/287M [01:00<01:25, 2.10MB/s]\n",
      " 40%|####      | 116M/287M [01:01<01:26, 2.07MB/s]\n",
      " 41%|####      | 117M/287M [01:01<01:25, 2.08MB/s]\n",
      " 41%|####1     | 118M/287M [01:02<01:24, 2.09MB/s]\n",
      " 41%|####1     | 119M/287M [01:02<01:29, 1.96MB/s]\n",
      " 42%|####1     | 120M/287M [01:03<01:31, 1.91MB/s]\n",
      " 42%|####2     | 121M/287M [01:03<01:28, 1.96MB/s]\n",
      " 43%|####2     | 122M/287M [01:04<01:26, 2.00MB/s]\n",
      " 43%|####2     | 123M/287M [01:04<01:24, 2.03MB/s]\n",
      " 43%|####3     | 124M/287M [01:05<01:22, 2.06MB/s]\n",
      " 44%|####3     | 125M/287M [01:05<01:22, 2.07MB/s]\n",
      " 44%|####3     | 126M/287M [01:06<01:21, 2.07MB/s]\n",
      " 44%|####4     | 127M/287M [01:06<01:20, 2.09MB/s]\n",
      " 45%|####4     | 128M/287M [01:07<01:19, 2.10MB/s]\n",
      " 45%|####4     | 129M/287M [01:08<01:26, 1.92MB/s]\n",
      " 45%|####5     | 130M/287M [01:08<01:24, 1.94MB/s]\n",
      " 46%|####5     | 131M/287M [01:09<01:20, 2.02MB/s]\n",
      " 46%|####6     | 132M/287M [01:09<01:20, 2.02MB/s]\n",
      " 46%|####6     | 133M/287M [01:10<01:18, 2.07MB/s]\n",
      " 47%|####6     | 134M/287M [01:10<01:17, 2.08MB/s]\n",
      " 47%|####7     | 135M/287M [01:10<01:16, 2.09MB/s]\n",
      " 47%|####7     | 136M/287M [01:11<01:15, 2.09MB/s]\n",
      " 48%|####7     | 137M/287M [01:11<01:14, 2.10MB/s]\n",
      " 48%|####8     | 138M/287M [01:12<01:14, 2.10MB/s]\n",
      " 48%|####8     | 139M/287M [01:13<01:17, 2.01MB/s]\n",
      " 49%|####8     | 140M/287M [01:13<01:18, 1.95MB/s]\n",
      " 49%|####9     | 141M/287M [01:14<01:16, 1.99MB/s]\n",
      " 49%|####9     | 142M/287M [01:14<01:14, 2.03MB/s]\n",
      " 50%|####9     | 143M/287M [01:15<01:13, 2.06MB/s]\n",
      " 50%|#####     | 144M/287M [01:15<01:12, 2.07MB/s]\n",
      " 51%|#####     | 145M/287M [01:16<01:11, 2.07MB/s]\n",
      " 51%|#####     | 146M/287M [01:16<01:10, 2.08MB/s]\n",
      " 51%|#####1    | 147M/287M [01:17<01:09, 2.10MB/s]\n",
      " 52%|#####1    | 148M/287M [01:17<01:09, 2.11MB/s]\n",
      " 52%|#####1    | 149M/287M [01:18<01:09, 2.09MB/s]\n",
      " 52%|#####2    | 150M/287M [01:18<01:10, 2.05MB/s]\n",
      " 53%|#####2    | 151M/287M [01:19<01:07, 2.12MB/s]\n",
      " 53%|#####2    | 152M/287M [01:19<01:07, 2.09MB/s]\n",
      " 53%|#####3    | 153M/287M [01:20<01:11, 1.98MB/s]\n",
      " 54%|#####3    | 154M/287M [01:20<01:04, 2.17MB/s]\n",
      " 54%|#####4    | 155M/287M [01:21<01:04, 2.16MB/s]\n",
      " 54%|#####4    | 156M/287M [01:21<01:04, 2.14MB/s]\n",
      " 55%|#####4    | 157M/287M [01:22<01:03, 2.14MB/s]\n",
      " 55%|#####5    | 158M/287M [01:22<01:03, 2.13MB/s]\n",
      " 55%|#####5    | 159M/287M [01:23<01:08, 1.96MB/s]\n",
      " 56%|#####5    | 160M/287M [01:23<01:06, 2.00MB/s]\n",
      " 56%|#####6    | 161M/287M [01:24<01:05, 2.03MB/s]\n",
      " 56%|#####6    | 162M/287M [01:24<01:03, 2.05MB/s]\n",
      " 57%|#####6    | 163M/287M [01:25<01:02, 2.08MB/s]\n",
      " 57%|#####7    | 164M/287M [01:25<01:03, 2.04MB/s]\n",
      " 58%|#####7    | 165M/287M [01:26<01:00, 2.11MB/s]\n",
      " 58%|#####7    | 166M/287M [01:26<01:00, 2.11MB/s]\n",
      " 58%|#####8    | 167M/287M [01:27<00:59, 2.11MB/s]\n",
      " 59%|#####8    | 168M/287M [01:27<00:59, 2.10MB/s]\n",
      " 59%|#####8    | 169M/287M [01:28<01:03, 1.94MB/s]\n",
      " 59%|#####9    | 170M/287M [01:28<01:01, 1.98MB/s]\n",
      " 60%|#####9    | 171M/287M [01:29<01:00, 2.00MB/s]\n",
      " 60%|#####9    | 172M/287M [01:29<00:58, 2.05MB/s]\n",
      " 60%|######    | 173M/287M [01:30<00:57, 2.07MB/s]\n",
      " 61%|######    | 174M/287M [01:30<00:57, 2.04MB/s]\n",
      " 61%|######    | 175M/287M [01:31<00:56, 2.06MB/s]\n",
      " 61%|######1   | 176M/287M [01:31<00:56, 2.08MB/s]\n",
      " 62%|######1   | 177M/287M [01:32<00:55, 2.08MB/s]\n",
      " 62%|######2   | 178M/287M [01:32<00:54, 2.09MB/s]\n",
      " 62%|######2   | 179M/287M [01:33<00:54, 2.08MB/s]\n",
      " 63%|######2   | 180M/287M [01:34<00:59, 1.88MB/s]\n",
      " 63%|######3   | 181M/287M [01:34<00:57, 1.95MB/s]\n",
      " 63%|######3   | 182M/287M [01:35<00:55, 1.99MB/s]\n",
      " 64%|######3   | 183M/287M [01:35<00:54, 2.01MB/s]\n",
      " 64%|######4   | 184M/287M [01:36<00:52, 2.05MB/s]\n",
      " 64%|######4   | 185M/287M [01:36<00:51, 2.06MB/s]\n",
      " 65%|######4   | 186M/287M [01:37<00:52, 2.02MB/s]\n",
      " 65%|######5   | 187M/287M [01:37<00:58, 1.79MB/s]\n",
      " 66%|######5   | 188M/287M [01:38<00:55, 1.88MB/s]\n",
      " 66%|######5   | 189M/287M [01:38<00:57, 1.78MB/s]\n",
      " 66%|######6   | 190M/287M [01:39<00:54, 1.87MB/s]\n",
      " 67%|######6   | 191M/287M [01:39<00:52, 1.93MB/s]\n",
      " 67%|######6   | 192M/287M [01:40<00:50, 1.98MB/s]\n",
      " 67%|######7   | 193M/287M [01:40<00:48, 2.01MB/s]\n",
      " 68%|######7   | 194M/287M [01:41<00:47, 2.04MB/s]\n",
      " 68%|######7   | 195M/287M [01:41<00:47, 2.03MB/s]\n",
      " 68%|######8   | 196M/287M [01:42<00:46, 2.05MB/s]\n",
      " 69%|######8   | 197M/287M [01:42<00:45, 2.06MB/s]\n",
      " 69%|######9   | 198M/287M [01:43<00:44, 2.08MB/s]\n",
      " 69%|######9   | 199M/287M [01:43<00:44, 2.08MB/s]\n",
      " 70%|######9   | 200M/287M [01:44<00:43, 2.08MB/s]\n",
      " 70%|#######   | 201M/287M [01:44<00:42, 2.10MB/s]\n",
      " 70%|#######   | 202M/287M [01:45<00:42, 2.10MB/s]\n",
      " 71%|#######   | 203M/287M [01:45<00:42, 2.09MB/s]\n",
      " 71%|#######1  | 204M/287M [01:46<00:42, 2.05MB/s]\n",
      " 71%|#######1  | 205M/287M [01:47<00:41, 2.05MB/s]\n",
      " 72%|#######1  | 206M/287M [01:47<00:43, 1.95MB/s]\n",
      " 72%|#######2  | 207M/287M [01:48<00:41, 2.00MB/s]\n",
      " 72%|#######2  | 208M/287M [01:48<00:40, 2.03MB/s]\n",
      " 73%|#######2  | 209M/287M [01:49<00:39, 2.05MB/s]\n",
      " 73%|#######3  | 210M/287M [01:49<00:39, 2.07MB/s]\n",
      " 74%|#######3  | 211M/287M [01:50<00:38, 2.08MB/s]\n",
      " 74%|#######3  | 212M/287M [01:50<00:38, 2.06MB/s]\n",
      " 74%|#######4  | 213M/287M [01:51<00:44, 1.73MB/s]\n",
      " 75%|#######4  | 214M/287M [01:51<00:40, 1.88MB/s]\n",
      " 75%|#######4  | 215M/287M [01:52<00:39, 1.89MB/s]\n",
      " 75%|#######5  | 216M/287M [01:53<00:39, 1.90MB/s]\n",
      " 76%|#######5  | 217M/287M [01:53<00:37, 1.94MB/s]\n",
      " 76%|#######5  | 218M/287M [01:54<00:36, 1.99MB/s]\n",
      " 76%|#######6  | 219M/287M [01:54<00:35, 2.03MB/s]\n",
      " 77%|#######6  | 220M/287M [01:55<00:36, 1.92MB/s]\n",
      " 77%|#######7  | 221M/287M [01:55<00:33, 2.08MB/s]\n",
      " 77%|#######7  | 222M/287M [01:56<00:32, 2.11MB/s]\n",
      " 78%|#######7  | 223M/287M [01:56<00:31, 2.11MB/s]\n",
      " 78%|#######8  | 224M/287M [01:57<00:32, 2.01MB/s]\n",
      " 78%|#######8  | 225M/287M [01:57<00:30, 2.14MB/s]\n",
      " 79%|#######8  | 226M/287M [01:58<00:33, 1.93MB/s]\n",
      " 79%|#######9  | 227M/287M [01:58<00:31, 1.99MB/s]\n",
      " 79%|#######9  | 228M/287M [01:59<00:30, 2.02MB/s]\n",
      " 80%|#######9  | 229M/287M [01:59<00:30, 2.02MB/s]\n",
      " 80%|########  | 230M/287M [02:00<00:29, 2.05MB/s]\n",
      " 81%|########  | 231M/287M [02:00<00:28, 2.09MB/s]\n",
      " 81%|########  | 232M/287M [02:01<00:27, 2.10MB/s]\n",
      " 81%|########1 | 233M/287M [02:01<00:27, 2.07MB/s]\n",
      " 82%|########1 | 234M/287M [02:02<00:27, 2.04MB/s]\n",
      " 82%|########1 | 235M/287M [02:02<00:26, 2.06MB/s]\n",
      " 82%|########2 | 236M/287M [02:03<00:27, 1.95MB/s]\n",
      " 83%|########2 | 237M/287M [02:03<00:26, 1.97MB/s]\n",
      " 83%|########2 | 238M/287M [02:04<00:25, 2.01MB/s]\n",
      " 83%|########3 | 239M/287M [02:04<00:24, 2.04MB/s]\n",
      " 84%|########3 | 240M/287M [02:05<00:24, 2.04MB/s]\n",
      " 84%|########4 | 241M/287M [02:05<00:24, 1.99MB/s]\n",
      " 84%|########4 | 242M/287M [02:06<00:23, 1.99MB/s]\n",
      " 85%|########4 | 243M/287M [02:06<00:22, 2.09MB/s]\n",
      " 85%|########5 | 244M/287M [02:07<00:21, 2.09MB/s]\n",
      " 85%|########5 | 245M/287M [02:07<00:20, 2.10MB/s]\n",
      " 86%|########5 | 246M/287M [02:08<00:23, 1.79MB/s]\n",
      " 86%|########6 | 247M/287M [02:09<00:22, 1.82MB/s]\n",
      " 86%|########6 | 248M/287M [02:09<00:23, 1.77MB/s]\n",
      " 87%|########6 | 249M/287M [02:10<00:21, 1.86MB/s]\n",
      " 87%|########7 | 250M/287M [02:10<00:20, 1.92MB/s]\n",
      " 87%|########7 | 251M/287M [02:11<00:19, 1.96MB/s]\n",
      " 88%|########7 | 252M/287M [02:12<00:20, 1.81MB/s]\n",
      " 88%|########8 | 253M/287M [02:12<00:18, 1.89MB/s]\n",
      " 89%|########8 | 254M/287M [02:13<00:17, 1.95MB/s]\n",
      " 89%|########8 | 255M/287M [02:13<00:16, 2.00MB/s]\n",
      " 89%|########9 | 256M/287M [02:14<00:17, 1.86MB/s]\n",
      " 90%|########9 | 257M/287M [02:14<00:16, 1.94MB/s]\n",
      " 90%|########9 | 258M/287M [02:15<00:15, 1.99MB/s]\n",
      " 90%|######### | 259M/287M [02:15<00:14, 2.02MB/s]\n",
      " 91%|######### | 260M/287M [02:16<00:13, 2.05MB/s]\n",
      " 91%|######### | 261M/287M [02:16<00:13, 2.06MB/s]\n",
      " 91%|#########1| 262M/287M [02:17<00:14, 1.81MB/s]\n",
      " 92%|#########1| 263M/287M [02:17<00:13, 1.89MB/s]\n",
      " 92%|#########2| 264M/287M [02:18<00:12, 1.95MB/s]\n",
      " 92%|#########2| 265M/287M [02:18<00:11, 2.00MB/s]\n",
      " 93%|#########2| 266M/287M [02:19<00:11, 1.90MB/s]\n",
      " 93%|#########3| 267M/287M [02:20<00:11, 1.86MB/s]\n",
      " 93%|#########3| 268M/287M [02:20<00:09, 2.00MB/s]\n",
      " 94%|#########3| 269M/287M [02:21<00:09, 2.04MB/s]\n",
      " 94%|#########4| 270M/287M [02:21<00:08, 2.03MB/s]\n",
      " 94%|#########4| 271M/287M [02:22<00:08, 2.05MB/s]\n",
      " 95%|#########4| 272M/287M [02:22<00:07, 2.07MB/s]\n",
      " 95%|#########5| 273M/287M [02:23<00:06, 2.08MB/s]\n",
      " 96%|#########5| 274M/287M [02:23<00:06, 2.09MB/s]\n",
      " 96%|#########5| 275M/287M [02:24<00:05, 2.10MB/s]\n",
      " 96%|#########6| 276M/287M [02:24<00:06, 1.72MB/s]\n",
      " 97%|#########6| 277M/287M [02:25<00:05, 1.82MB/s]\n",
      " 97%|#########6| 278M/287M [02:25<00:04, 1.90MB/s]\n",
      " 97%|#########7| 279M/287M [02:26<00:04, 1.94MB/s]\n",
      " 98%|#########7| 280M/287M [02:26<00:03, 2.00MB/s]\n",
      " 98%|#########7| 281M/287M [02:27<00:03, 2.04MB/s]\n",
      " 98%|#########8| 282M/287M [02:28<00:02, 1.83MB/s]\n",
      " 99%|#########8| 283M/287M [02:28<00:02, 1.90MB/s]\n",
      " 99%|#########8| 284M/287M [02:29<00:01, 1.97MB/s]\n",
      " 99%|#########9| 285M/287M [02:29<00:00, 2.00MB/s]\n",
      "100%|#########9| 286M/287M [02:30<00:00, 1.85MB/s]\n",
      "100%|##########| 287M/287M [02:30<00:00, 1.80MB/s]\n",
      "100%|##########| 287M/287M [02:30<00:00, 1.99MB/s]\n",
      "\"unzip\" non Š riconosciuto come comando interno o esterno,\n",
      " un programma eseguibile o un file batch.\n"
     ]
    },
    {
     "name": "stderr",
     "output_type": "stream",
     "text": [
      "\"rm\" non Š riconosciuto come comando interno o esterno,\n",
      " un programma eseguibile o un file batch.\n",
      "\"gunzip\" non Š riconosciuto come comando interno o esterno,\n",
      " un programma eseguibile o un file batch.\n",
      "\"rm\" non Š riconosciuto come comando interno o esterno,\n",
      " un programma eseguibile o un file batch.\n",
      "\"ls\" non Š riconosciuto come comando interno o esterno,\n",
      " un programma eseguibile o un file batch.\n"
     ]
    }
   ],
   "source": [
    "\n",
    "!kaggle datasets download \"ashirwadsangwan/imdb-dataset\" -f \"title.principals.tsv.gz\"\n",
    "!unzip \"title.principals.tsv.gz.zip\"\n",
    "!rm \"title.principals.tsv.gz.zip\"\n",
    "!gunzip -k \"title.principals.tsv.gz\"\n",
    "!rm \"title.principals.tsv.gz\"\n",
    "!ls"
   ]
  },
  {
   "cell_type": "code",
   "execution_count": 31,
   "metadata": {
    "executionInfo": {
     "elapsed": 1218,
     "status": "ok",
     "timestamp": 1620811276528,
     "user": {
      "displayName": "Alberto Bertoncini",
      "photoUrl": "https://lh3.googleusercontent.com/a-/AOh14GgP4pS51xFUyrHC1yIPnOHRwEXsOQC87C0j1niubw=s64",
      "userId": "09719288159644208970"
     },
     "user_tz": -120
    },
    "id": "NVywIove2j1x"
   },
   "outputs": [],
   "source": []
  }
 ],
 "metadata": {
  "colab": {
   "authorship_tag": "ABX9TyOYi0H4PyY9Er3Y/D7Y06Fa",
   "collapsed_sections": [],
   "name": "importDatasets.ipynb",
   "provenance": []
  },
  "kernelspec": {
   "display_name": "Python 3",
   "language": "python",
   "name": "python3"
  },
  "language_info": {
   "codemirror_mode": {
    "name": "ipython",
    "version": 3
   },
   "file_extension": ".py",
   "mimetype": "text/x-python",
   "name": "python",
   "nbconvert_exporter": "python",
   "pygments_lexer": "ipython3",
   "version": "3.7.3"
  }
 },
 "nbformat": 4,
 "nbformat_minor": 1
}
