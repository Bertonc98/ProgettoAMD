{
  "nbformat": 4,
  "nbformat_minor": 0,
  "metadata": {
    "colab": {
      "name": "preprocessing.ipynb",
      "provenance": []
    },
    "kernelspec": {
      "display_name": "Python 3",
      "language": "python",
      "name": "python3"
    },
    "language_info": {
      "codemirror_mode": {
        "name": "ipython",
        "version": 3
      },
      "file_extension": ".py",
      "mimetype": "text/x-python",
      "name": "python",
      "nbconvert_exporter": "python",
      "pygments_lexer": "ipython3",
      "version": "3.8.5"
    }
  },
  "cells": [
    {
      "cell_type": "code",
      "metadata": {
        "id": "7Xs1S3VcjVRk"
      },
      "source": [
        "import csv\n",
        "import json\n",
        "import sys\n",
        "import pandas as pd\n",
        "import os\n",
        "import copy\n",
        "import math\n",
        "import json\n",
        "# from bitmap import BitMap\n",
        "from collections import defaultdict\n",
        "import numpy as np\n",
        "import itertools as it\n",
        "import time"
      ],
      "execution_count": 1,
      "outputs": []
    },
    {
      "cell_type": "code",
      "metadata": {
        "colab": {
          "resources": {
            "http://localhost:8080/nbextensions/google.colab/files.js": {
              "data": "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",
              "ok": true,
              "headers": [
                [
                  "content-type",
                  "application/javascript"
                ]
              ],
              "status": 200,
              "status_text": ""
            }
          },
          "base_uri": "https://localhost:8080/",
          "height": 463
        },
        "id": "LYf8LEHnjVRt",
        "outputId": "078c3a3d-388d-4db3-90e4-23db80314492"
      },
      "source": [
        "!apt-get install openjdk-8-jdk-headless -qq > /dev/null\n",
        "!wget -q https://downloads.apache.org/spark/spark-3.1.1/spark-3.1.1-bin-hadoop3.2.tgz    \n",
        "!tar xf spark-3.1.1-bin-hadoop3.2.tgz\n",
        "!pip3 install -q findspark\n",
        "!pip3 install -q pyspark\n",
        "!pip3 install -q kaggle\n",
        "!pip3 install bitmap\n",
        "from bitmap import BitMap\n",
        "\n",
        "from google.colab import files\n",
        "print(\"Upload kaggle.json to use kaggle APIs\")\n",
        "files.upload()\n",
        "!mkdir -p ~/.kaggle\n",
        "!cp kaggle.json ~/.kaggle/\n",
        "!ls ~/.kaggle\n",
        "!chmod 600 /root/.kaggle/kaggle.json\n",
        "\n",
        "# !curl -OL https://raw.githubusercontent.com/Bertonc98/ProgettoAMD/main/sample.csv\n",
        "\n",
        "!kaggle datasets files \"ashirwadsangwan/imdb-dataset\"\n",
        "!kaggle datasets download \"ashirwadsangwan/imdb-dataset\" -f \"title.principals.tsv.gz\"\n",
        "!unzip \"title.principals.tsv.gz.zip\"\n",
        "!rm \"title.principals.tsv.gz.zip\"\n",
        "!gunzip -k \"title.principals.tsv.gz\"\n",
        "!rm \"title.principals.tsv.gz\""
      ],
      "execution_count": 2,
      "outputs": [
        {
          "output_type": "stream",
          "text": [
            "\u001b[K     |████████████████████████████████| 212.4MB 60kB/s \n",
            "\u001b[K     |████████████████████████████████| 204kB 16.0MB/s \n",
            "\u001b[?25h  Building wheel for pyspark (setup.py) ... \u001b[?25l\u001b[?25hdone\n",
            "Collecting bitmap\n",
            "  Downloading https://files.pythonhosted.org/packages/3a/18/0cf0116c3faf5023a6e971549055d42907020bca37320b3ada380e07f3ff/bitmap-0.0.7-py3-none-any.whl\n",
            "Requirement already satisfied: future in /usr/local/lib/python3.7/dist-packages (from bitmap) (0.16.0)\n",
            "Installing collected packages: bitmap\n",
            "Successfully installed bitmap-0.0.7\n",
            "Upload kaggle.json to use kaggle APIs\n"
          ],
          "name": "stdout"
        },
        {
          "output_type": "display_data",
          "data": {
            "text/html": [
              "\n",
              "     <input type=\"file\" id=\"files-726f5665-dcc7-48a8-803e-c35ea087e3ef\" name=\"files[]\" multiple disabled\n",
              "        style=\"border:none\" />\n",
              "     <output id=\"result-726f5665-dcc7-48a8-803e-c35ea087e3ef\">\n",
              "      Upload widget is only available when the cell has been executed in the\n",
              "      current browser session. Please rerun this cell to enable.\n",
              "      </output>\n",
              "      <script src=\"/nbextensions/google.colab/files.js\"></script> "
            ],
            "text/plain": [
              "<IPython.core.display.HTML object>"
            ]
          },
          "metadata": {
            "tags": []
          }
        },
        {
          "output_type": "stream",
          "text": [
            "Saving kaggle.json to kaggle.json\n",
            "kaggle.json\n",
            "Warning: Looks like you're using an outdated API Version, please consider updating (server 1.5.12 / client 1.5.4)\n",
            "name                      size  creationDate         \n",
            "-----------------------  -----  -------------------  \n",
            "title.ratings.tsv.gz       5MB  2019-11-18 18:36:47  \n",
            "title.principals.tsv.gz  290MB  2019-11-18 18:36:47  \n",
            "name.basics.tsv.gz       180MB  2019-11-18 18:36:47  \n",
            "title.basics.tsv.gz      108MB  2019-11-18 18:36:47  \n",
            "title.akas.tsv.gz        158MB  2019-11-18 18:36:47  \n",
            "Downloading title.principals.tsv.gz.zip to /content\n",
            " 94% 270M/287M [00:03<00:00, 79.0MB/s]\n",
            "100% 287M/287M [00:03<00:00, 82.9MB/s]\n",
            "Archive:  title.principals.tsv.gz.zip\n",
            "  inflating: title.principals.tsv.gz  \n"
          ],
          "name": "stdout"
        }
      ]
    },
    {
      "cell_type": "code",
      "metadata": {
        "id": "CRV-pFU7nl8Q"
      },
      "source": [
        "os.environ[\"JAVA_HOME\"] = \"/usr/lib/jvm/java-8-openjdk-amd64\"\n",
        "os.environ[\"SPARK_HOME\"] = \"/content/spark-3.1.1-bin-hadoop3.2\"\n",
        "\n",
        "home = os.environ[\"SPARK_HOME\"]\n",
        "os.environ[\"PYTHONPATH\"] = home+\"/python\"+home+\"/python/lib/py4j-0.10.9-src.zip:\"+os.environ[\"PYTHONPATH\"]"
      ],
      "execution_count": 3,
      "outputs": []
    },
    {
      "cell_type": "code",
      "metadata": {
        "id": "nj2Stk8SjVRu"
      },
      "source": [
        "import findspark\n",
        "from pyspark.sql import SparkSession\n",
        "import pyspark\n",
        "from pyspark import SparkConf\n",
        "findspark.init()\n",
        "conf = SparkConf()\n",
        "conf.set(\"spark.driver.memory\", \"5g\")\n",
        "conf.set(\"spark.executor.memory\", \"5g\")\n",
        "spark = SparkSession.builder.config(conf = conf).master(\"local[*]\").getOrCreate()"
      ],
      "execution_count": 4,
      "outputs": []
    },
    {
      "cell_type": "code",
      "metadata": {
        "id": "ImqZKjluxmRC"
      },
      "source": [
        "sourceFile = 'title.principals.tsv'\n",
        "\n",
        "data = spark.read.options(delimiter = \"\\t\", header=True).csv(sourceFile)\n",
        "\n",
        "from pyspark.sql.window import Window\n",
        "\n",
        "from pyspark.sql.functions import monotonically_increasing_id,row_number\n",
        "\n",
        "# rdd_result = data.select(['nconst', 'category'])\\\n",
        "#             .where(\"category == 'actress' or category == 'actor' \")\\\n",
        "#             .select(['nconst'])\\\n",
        "#             .distinct()\n",
        "\n",
        "# rdd_result = rdd_result.withColumn(\"idx\",row_number().over(Window.orderBy(monotonically_increasing_id())))\n",
        "\n",
        "#ALTERNATIVA\n",
        "filter_actors = lambda row: row[\"category\"] in [\"actor\", \"actress\"]\n",
        "map_actors = lambda row: (row[\"tconst\"], int(row[\"nconst\"][2:])) \n",
        "\n",
        "rdd_basket = data.rdd.filter(filter_actors)\\\n",
        "                 .map(map_actors)\\\n",
        "                 .groupByKey()\\\n",
        "                 .mapValues(list)\\\n",
        "                 .values()"
      ],
      "execution_count": 5,
      "outputs": []
    },
    {
      "cell_type": "code",
      "metadata": {
        "id": "JCTrxZrOMcwW"
      },
      "source": [
        "# this dictionary maps all the items to an int\n",
        "# itemToInt = {key:value for (key, value) in rdd_result.collect()}"
      ],
      "execution_count": null,
      "outputs": []
    },
    {
      "cell_type": "code",
      "metadata": {
        "id": "0Z3slbhWZpBZ",
        "colab": {
          "base_uri": "https://localhost:8080/"
        },
        "outputId": "087b8873-f851-4d3a-ae56-9a795d9e9d51"
      },
      "source": [
        "sample = rdd_basket.sample(False, 0.0001)\n",
        "sample.cache()"
      ],
      "execution_count": 6,
      "outputs": [
        {
          "output_type": "execute_result",
          "data": {
            "text/plain": [
              "PythonRDD[19] at RDD at PythonRDD.scala:53"
            ]
          },
          "metadata": {
            "tags": []
          },
          "execution_count": 6
        }
      ]
    },
    {
      "cell_type": "code",
      "metadata": {
        "colab": {
          "base_uri": "https://localhost:8080/"
        },
        "id": "xQhFC0RTRSCV",
        "outputId": "dc0f4054-2aaa-4231-bcae-396528657c61"
      },
      "source": [
        "sample.count()"
      ],
      "execution_count": 7,
      "outputs": [
        {
          "output_type": "execute_result",
          "data": {
            "text/plain": [
              "361"
            ]
          },
          "metadata": {
            "tags": []
          },
          "execution_count": 7
        }
      ]
    },
    {
      "cell_type": "code",
      "metadata": {
        "id": "3DyuV_BoKEk0"
      },
      "source": [
        "#Apriori\n",
        "def get_minimum(chunk):\n",
        "  mi = 10000000000000\n",
        "  for basket in chunk:\n",
        "    m = min(list(map(int, basket)))\n",
        "    mi = min(m, mi)\n",
        "  return mi\n",
        "\n",
        "def get_combinations(basket, size):\n",
        "    return it.combinations(sorted(basket), size)\n",
        "\n",
        "def update_frequency(l, item):\n",
        "    if item + 1 > len(l):\n",
        "        l.extend((item+1-len(l))*[0])\n",
        "    l[item] += 1\n",
        "    \n",
        "def singleton_pairs_frequency_apriori(chunk, threshold, m):\n",
        "    singleton_freq = []\n",
        "    for basket in chunk:\n",
        "        basket = list(map(int, basket))\n",
        "        for item in basket:\n",
        "            update_frequency(singleton_freq, (item-m))\n",
        "    return filter_singletons(singleton_freq, m, threshold)\n",
        "\n",
        "# this function filter the given singletons with the absolute freqeuncy, deleting the ones with\n",
        "# frequency below the threshold\n",
        "def filter_singletons(singleton, m, threshold):\n",
        "    print(singleton)\n",
        "    return [(iid+m,) for iid, freq in enumerate(singleton) if freq>=threshold]    \n",
        "\n",
        "def get_joins(tuples, k):\n",
        "    #to obtain an element of lenght k:\n",
        "    #join 2 elements of length k-1 with the first k-1 elements in common\n",
        "    l = []\n",
        "    for i in range(len(tuples)-1):\n",
        "        for j in range(i+1, len(tuples)):\n",
        "            if(tuples[i][:k-2] == tuples[j][:k-2]):\n",
        "                l += [tuples[i] + tuples[j][k-2:]]\n",
        "    return l\n",
        "\n",
        "def get_kth_apriori(chunk, precedents, threshold, k):\n",
        "    kth = {tpl:0 for tpl in get_joins(precedents, k)}\n",
        "\n",
        "    for basket in chunk:\n",
        "        # basket = list(map(int, basket))\n",
        "        tpls = list(get_combinations(basket, k))\n",
        "        for t in tpls:\n",
        "          try:\n",
        "            kth[t] += 1\n",
        "          except:\n",
        "            pass\n",
        "        # for i in range(len(kth)):\n",
        "        #     if kth[i] in tpls:\n",
        "        #         counters[i] += 1\n",
        "\n",
        "    return [i for i in kth.keys() if kth[i] >= threshold]"
      ],
      "execution_count": 48,
      "outputs": []
    },
    {
      "cell_type": "code",
      "metadata": {
        "id": "8yoVyyxcMGoV"
      },
      "source": [
        "def apriori_main(partition, threshold):\n",
        "      generator, chunk = it.tee(partition, 2)\n",
        "      frequent_sets = []\n",
        "      #get minimum\n",
        "      m = get_minimum(chunk)\n",
        "      chunk = copy.copy(generator)\n",
        "      singleton = singleton_pairs_frequency_apriori(chunk, threshold, m)\n",
        "      \n",
        "      frequent_sets += singleton\n",
        "      \n",
        "      k = 2\n",
        "      result = [\"placeholder\"]\n",
        "      while result != []:\n",
        "          \n",
        "          precedents = [i for i in frequent_sets if len(i) == k-1 ]\n",
        "          \n",
        "          chunk = copy.copy(generator)\n",
        "          result = get_kth_apriori(chunk, precedents, threshold, k)\n",
        "          \n",
        "          frequent_sets = frequent_sets + result\n",
        "          #print(\"Found frequent itemset of length: \",k)\n",
        "          k += 1\n",
        "      return frequent_sets\n",
        "\n",
        "def apriori(threshold):\n",
        "  def main(partition):\n",
        "      return apriori_main(partition, threshold)\n",
        "  return main"
      ],
      "execution_count": 49,
      "outputs": []
    },
    {
      "cell_type": "code",
      "metadata": {
        "id": "SDckd8npTuUE",
        "colab": {
          "base_uri": "https://localhost:8080/"
        },
        "outputId": "400f37b7-9781-4d5d-eea8-348c06ba6ac2"
      },
      "source": [
        "#Apriori total\n",
        "# t = math.ceil(sample.count()/ 1000 )\n",
        "t = 2\n",
        "start_time = time.time()\n",
        "result_apriori = apriori_main(sample.toLocalIterator(), t)\n",
        "print(\"--- %s seconds ---\" % (time.time() - start_time))"
      ],
      "execution_count": 50,
      "outputs": [
        {
          "output_type": "stream",
          "text": [
            "IOPub data rate exceeded.\n",
            "The notebook server will temporarily stop sending output\n",
            "to the client in order to avoid crashing it.\n",
            "To change this limit, set the config variable\n",
            "`--NotebookApp.iopub_data_rate_limit`.\n",
            "\n",
            "Current values:\n",
            "NotebookApp.iopub_data_rate_limit=1000000.0 (bytes/sec)\n",
            "NotebookApp.rate_limit_window=3.0 (secs)\n",
            "\n"
          ],
          "name": "stderr"
        },
        {
          "output_type": "stream",
          "text": [
            "--- 2.782212018966675 seconds ---\n"
          ],
          "name": "stdout"
        }
      ]
    },
    {
      "cell_type": "code",
      "metadata": {
        "id": "CRameaA-Y9xx"
      },
      "source": [
        "#PCY\n",
        "def hashF(element, size):\n",
        "    return hash(element)%size\n",
        "\n",
        "def singleton_pairs_frequency_pcy(chunk, hash_size, threshold, m):\n",
        "    singleton_freq = []\n",
        "    hashmap = np.zeros(hash_size)\n",
        "    for basket in chunk:\n",
        "        basket = list(map(int, basket))\n",
        "        for item in basket:\n",
        "            update_frequency(singleton_freq, item-m)\n",
        "        for pair in get_combinations(basket, 2):\n",
        "            hashmap[hashF(pair, hash_size)] += 1\n",
        "    return filter_singletons(singleton_freq, m, threshold), hashmap \n",
        "\n",
        "# this function collapse the hashmap given in input into a bitmap of size \"size\" and set a 1 in the bitmap if the value in\n",
        "# the hashmap is over the the given threshold\n",
        "def hash_to_bitmap(hashmap, size, threshold):\n",
        "    bmap = BitMap(size)\n",
        "    for position in range(len(hashmap)):\n",
        "        if hashmap[position] >= threshold:\n",
        "            bmap.set(position)\n",
        "    del hashmap\n",
        "    return bmap\n",
        "\n",
        "def get_kth(chunk, precedents, hash_size, bmap, threshold, k):\n",
        "    kth = {tpl:0 for tpl in get_joins(precedents, k) if bmap[hashF(tpl, hash_size)]}\n",
        "    next_hashmap = np.zeros(hash_size)\n",
        "    \n",
        "    for basket in chunk:\n",
        "        # basket = list(map(int, basket))\n",
        "        tpls = list(get_combinations(basket, k))\n",
        "        for t in tpls:\n",
        "          try:\n",
        "            kth[t] += 1\n",
        "          except:\n",
        "            pass\n",
        "        for kth_tuples in get_combinations(basket, k+1):\n",
        "            next_hashmap[hashF(kth_tuples, hash_size)] += 1\n",
        "\n",
        "    return [k for k,v in kth.items() if v >= threshold], next_hashmap"
      ],
      "execution_count": 13,
      "outputs": []
    },
    {
      "cell_type": "code",
      "metadata": {
        "id": "Xv-3FjDA1sib"
      },
      "source": [
        "def pcy_main(partition, threshold, hash_size):\n",
        "      generator, chunk = it.tee(partition, 2)\n",
        "      frequent_sets = []\n",
        "      m = get_minimum(chunk)\n",
        "      chunk = copy.copy(generator)\n",
        "  #     phase 1: compute frequency of singletons and pairs; filter nonfrequent singletons\n",
        "      singleton, hashmap = singleton_pairs_frequency_pcy(chunk, hash_size, threshold, m)\n",
        "  #     phase 2: collpse the hahsmap into a bitmap\n",
        "      bitmap = hash_to_bitmap(hashmap, hash_size, threshold)\n",
        "  #     phase 3\n",
        "  #     frequent_sets contains all the sets of all the kth length that are frequent\n",
        "  #     bitmap is the bitmap mapping the sets of length k+1\n",
        "  #     frequent_sets, bitmap = frequent_couple(data, singleton, hash_size, bitmap, threshold)\n",
        "      frequent_sets += singleton\n",
        "      \n",
        "      k = 2\n",
        "      result = [\"placeholder\"]\n",
        "      while result != []:\n",
        "          precedents = [i for i in frequent_sets if len(i) == k-1 ]\n",
        "          chunk = copy.copy(generator)\n",
        "          result, hashmap = get_kth(chunk, precedents, hash_size, bitmap, threshold, k)\n",
        "          bitmap = hash_to_bitmap(hashmap, hash_size, threshold)\n",
        "          frequent_sets = frequent_sets + result\n",
        "          # print(\"Found frequent itemset of length: \",k)\n",
        "          k += 1\n",
        "          \n",
        "      return frequent_sets\n",
        "\n",
        "def pcy(threshold, hash_size):\n",
        "# def main(chunk, threshold, hash_size):\n",
        "  def main(partition):\n",
        "    return pcy_main(partition, threshold, hash_size)\n",
        "  return main"
      ],
      "execution_count": 14,
      "outputs": []
    },
    {
      "cell_type": "code",
      "metadata": {
        "id": "SHyIsWtDz4QS",
        "colab": {
          "base_uri": "https://localhost:8080/"
        },
        "outputId": "b9242c8d-1501-4aaa-df72-9805885db2dc"
      },
      "source": [
        "#PCY total\n",
        "# t = math.ceil(sample.count()/500)\n",
        "t = 2\n",
        "start_time = time.time()\n",
        "hash_size = 504\n",
        "result_pcy = pcy_main(sample.toLocalIterator(), t, hash_size)\n",
        "print(\"--- %s seconds ---\" % (time.time() - start_time))"
      ],
      "execution_count": 25,
      "outputs": [
        {
          "output_type": "stream",
          "text": [
            "--- 1.453624963760376 seconds ---\n"
          ],
          "name": "stdout"
        }
      ]
    },
    {
      "cell_type": "code",
      "metadata": {
        "id": "-gXlBubRNcrb",
        "outputId": "3fd31251-bb30-4b63-bae8-7daa452408ab",
        "colab": {
          "base_uri": "https://localhost:8080/"
        }
      },
      "source": [
        "sorted(result_apriori) == sorted(frequent_apriori_son)"
      ],
      "execution_count": 39,
      "outputs": [
        {
          "output_type": "execute_result",
          "data": {
            "text/plain": [
              "False"
            ]
          },
          "metadata": {
            "tags": []
          },
          "execution_count": 39
        }
      ]
    },
    {
      "cell_type": "code",
      "metadata": {
        "id": "amQ0UjaqOIBk",
        "outputId": "af61fed8-7036-4634-db14-92cd2fc7ccce",
        "colab": {
          "base_uri": "https://localhost:8080/"
        }
      },
      "source": [
        "[x for x in result_apriori if x not in frequent_apriori_son]"
      ],
      "execution_count": 40,
      "outputs": [
        {
          "output_type": "execute_result",
          "data": {
            "text/plain": [
              "[(7429539,)]"
            ]
          },
          "metadata": {
            "tags": []
          },
          "execution_count": 40
        }
      ]
    },
    {
      "cell_type": "code",
      "metadata": {
        "id": "c96zEXhBOfJg",
        "outputId": "ed27dad4-2c34-4c46-d897-ca685a4c063e",
        "colab": {
          "base_uri": "https://localhost:8080/"
        }
      },
      "source": [
        ""
      ],
      "execution_count": 31,
      "outputs": [
        {
          "output_type": "execute_result",
          "data": {
            "text/plain": [
              "PythonRDD[19] at RDD at PythonRDD.scala:53"
            ]
          },
          "metadata": {
            "tags": []
          },
          "execution_count": 31
        }
      ]
    },
    {
      "cell_type": "code",
      "metadata": {
        "id": "wKqNH4H32-Mk"
      },
      "source": [
        "# SON\n",
        "\n",
        "# phase 1 scan all baskets \n",
        "# -input: id_movie, list(int_actor)\n",
        "# -compute frequency (count)\n",
        "# -count combinations (size 2) into hashmap\n",
        "# -filter frequent singletons (count >= s)\n",
        "# -output: int_actor: count\n",
        "def son(candidates):\n",
        "  def son_main(partition):\n",
        "    count = {item: 0 for item in candidates}\n",
        "    for basket in partition:\n",
        "      for c in candidates:\n",
        "          if c in get_combinations(basket, len(c)):\n",
        "            count[c] += 1\n",
        "    return [(k, v) for k, v in count.items()]\n",
        "  return son_main"
      ],
      "execution_count": 10,
      "outputs": []
    },
    {
      "cell_type": "code",
      "metadata": {
        "id": "FtqdK8HzWOGR",
        "colab": {
          "base_uri": "https://localhost:8080/"
        },
        "outputId": "e22b7231-6020-47b0-b3a2-ccff9aac7401"
      },
      "source": [
        "#SON Apriori\n",
        "p = 1/sample.getNumPartitions()\n",
        "#to fix\n",
        "# threshold = math.ceil(sample.count()/1000)\n",
        "# s_threshold = math.ceil(0.95 * threshold * p)\n",
        "threshold = 2\n",
        "s_threshold = 1\n",
        "start_time = time.time()\n",
        "candidates = sample.mapPartitions(apriori(s_threshold))\\\n",
        "                   .map(lambda item: (1,[item]))\\\n",
        "                   .reduceByKey(lambda a, b: list(set(a + b )))\\\n",
        "                   .values()\\\n",
        "                   .collect()[0]\n",
        "print(candidates.count((7429539,)))\n",
        "frequent_apriori_son = sample.mapPartitions(son(candidates))\\\n",
        "                            .reduceByKey(lambda a,b: a+b)\\\n",
        "                            .filter(lambda item: item[1] >= threshold)\\\n",
        "                            .map(lambda item: item[0])\\\n",
        "                            .collect()\n",
        "print(\"--- %s seconds ---\" % (time.time() - start_time))"
      ],
      "execution_count": 36,
      "outputs": [
        {
          "output_type": "stream",
          "text": [
            "1\n",
            "--- 36.77401542663574 seconds ---\n"
          ],
          "name": "stdout"
        }
      ]
    },
    {
      "cell_type": "code",
      "metadata": {
        "id": "_GmaRxEiHdnS",
        "colab": {
          "base_uri": "https://localhost:8080/"
        },
        "outputId": "839bfe70-55bb-4b31-b430-0cb2d8f20a3b"
      },
      "source": [
        "#SON PCY\n",
        "p = 1/sample.getNumPartitions()\n",
        "#to fix\n",
        "# threshold = math.ceil(sample.count()/500)\n",
        "threshold = 2\n",
        "# s_threshold = math.ceil(0.95 * threshold * p)\n",
        "s_threshold = 1\n",
        "hash_size = 504\n",
        "start_time = time.time()\n",
        "candidates = sample.mapPartitions(pcy(s_threshold, hash_size))\\\n",
        "                   .map(lambda item: (1,[item]))\\\n",
        "                   .reduceByKey(lambda a, b: list(set(a + b )))\\\n",
        "                   .values()\\\n",
        "                   .collect()[0]\n",
        "frequent_pcy_son = sample.mapPartitions(son(candidates))\\\n",
        "                 .reduceByKey(lambda a,b: a+b)\\\n",
        "                 .filter(lambda item: item[1] >= threshold)\\\n",
        "                 .map(lambda item: item[0])\\\n",
        "                 .collect()\n",
        "print(\"--- %s seconds ---\" % (time.time() - start_time))"
      ],
      "execution_count": 21,
      "outputs": [
        {
          "output_type": "stream",
          "text": [
            "--- 37.00053119659424 seconds ---\n"
          ],
          "name": "stdout"
        }
      ]
    },
    {
      "cell_type": "code",
      "metadata": {
        "id": "HAn83yQgM32j",
        "outputId": "45c13d3f-bcac-4a82-b8a0-a23ddeba9fad",
        "colab": {
          "base_uri": "https://localhost:8080/"
        }
      },
      "source": [
        "sorted(frequent_pcy_son) == sorted(frequent_apriori_son)"
      ],
      "execution_count": 24,
      "outputs": [
        {
          "output_type": "execute_result",
          "data": {
            "text/plain": [
              "True"
            ]
          },
          "metadata": {
            "tags": []
          },
          "execution_count": 24
        }
      ]
    },
    {
      "cell_type": "code",
      "metadata": {
        "id": "SHSpE5exyoej"
      },
      "source": [
        "# TOIVONEN\n",
        "# V Take a sample of the total, a fraction p€[0,1] (adjust the threshold s = p * s)\n",
        "# V Run Apriori over it and obtain the candidates frequent itemset from the sample\n",
        "# V Build the negative border from candidates\n",
        "# Scan all the basket and check for itemset in candidates or in negative border:\n",
        "#   - If no element from the negative border is frequent return candidates as frequent itemsets\n",
        "#   - Otherwise no answer, need to rerun with different sample or threshold\n",
        "\n",
        "# sample.filter(lambda basket: basket not in candidates)\n",
        "\n",
        "p = 1/sample.getNumPartitions() #to fix\n",
        "t = math.ceil(sample.count()/1000)\n",
        "hash_size = 504 #this because we run PCY to find candidates\n",
        "candidates = sample.coalesce(1)\\\n",
        "                   .mapPartitions(pcy(t, hash_size))\\\n",
        "                   .map(lambda item: (1,[item]))\\\n",
        "                   .reduceByKey(lambda a, b: list(set(a + b )))\\\n",
        "                   .values()\\\n",
        "                   .collect()[0]\n",
        "# nb = negative_border(candidates)"
      ],
      "execution_count": null,
      "outputs": []
    },
    {
      "cell_type": "code",
      "metadata": {
        "id": "29YorVRv8KGD"
      },
      "source": [
        "# frequent_s = sorted([s[0] for s in candidates if s not in nb and len(s)==1])\n",
        "# nb += [el for el in list(it.combinations(frequent_s, 2)) if el not in candidates]\n",
        "def negative_border(candidates, sample):\n",
        "  diff = sample.flatMap(lambda xs: [x for x in xs])\\\n",
        "              .distinct()\\\n",
        "              .map(lambda el: (el,))\\\n",
        "              .filter(lambda el: el not in candidates)\\\n",
        "              .collect()\n",
        "  nb = diff\n",
        "  #singleton frequenti\n",
        "  prev_freq = [c for c in candidates if len(c) == 1]\n",
        "  k=2\n",
        "  while diff!=[]:\n",
        "    candidates_k = [el for el in candidates if len(el) == k]\n",
        "    diff = [kth for kth in get_joins(prev_freq, k) if kth not in candidates_k]\n",
        "    nb += diff\n",
        "    prev_freq = candidates_k\n",
        "    k += 1\n",
        "  return nb\n",
        "\n",
        "nb = dict.fromkeys(negative_border(candidates, sample), 0)\n",
        "c_dict = dict.fromkeys(candidates, 0)"
      ],
      "execution_count": null,
      "outputs": []
    },
    {
      "cell_type": "code",
      "metadata": {
        "id": "Xhhe3N1_D8ne"
      },
      "source": [
        "def update(basket):\n",
        "  l = len(basket)\n",
        "  b = sorted(basket)\n",
        "  lista = []\n",
        "  for i in range(l):\n",
        "    for el in it.combinations(b, i+1):\n",
        "      try:\n",
        "        nb[el] += 1\n",
        "      except:\n",
        "        pass\n",
        "      \n",
        "      try:\n",
        "        c_dict[el] += 1\n",
        "      except:\n",
        "        pass\n",
        "  return None\n",
        "\n",
        "for basket in rdd_basket.toLocalIterator():\n",
        "  update(basket)\n",
        "t2 = math.ceil(rdd_basket.count()/1000)\n",
        "buleano = True\n",
        "for v in nb.values():\n",
        "  if (v > t2):\n",
        "    buleano = False\n",
        "    break\n",
        "buleano\n",
        "if (buleano):\n",
        "  c_dict = {k:v for (k:v) in c_dict if v>t2}\n"
      ],
      "execution_count": null,
      "outputs": []
    },
    {
      "cell_type": "code",
      "metadata": {
        "id": "-WZlRVjkHtYR"
      },
      "source": [
        "# f = csv.reader(open(\"intToItem.csv\", encoding=\"utf-8\", newline=\"\\n\"), delimiter=\";\")\n",
        "# intToItem = { int(k):v for (k, v) in f}"
      ],
      "execution_count": null,
      "outputs": []
    },
    {
      "cell_type": "code",
      "metadata": {
        "id": "DBAvWudHWfMR"
      },
      "source": [
        "# def getItemIdFromInt(l):\n",
        "#   return [intToItem[k] for k in l[0]]\n",
        "def getItemIdFromInt(l):\n",
        "  return [\"nm\" + str(k).zfill(7) if len(str(k))<7 else  \"nm\" + str(k) for k in l]\n",
        "\n",
        "frequentId = frequent.map(getItemIdFromInt)"
      ],
      "execution_count": null,
      "outputs": []
    },
    {
      "cell_type": "code",
      "metadata": {
        "colab": {
          "base_uri": "https://localhost:8080/"
        },
        "id": "L9g2zehpJDqc",
        "outputId": "2e891685-deb6-4d38-ba5f-462bae9d9a2e"
      },
      "source": [
        "!kaggle datasets download \"ashirwadsangwan/imdb-dataset\" -f \"name.basics.tsv.gz\"\n",
        "!unzip \"name.basics.tsv.gz.zip\"\n",
        "!rm \"name.basics.tsv.gz.zip\"\n",
        "!gunzip -k \"name.basics.tsv.gz\"\n",
        "!rm \"name.basics.tsv.gz\""
      ],
      "execution_count": null,
      "outputs": [
        {
          "output_type": "stream",
          "text": [
            "Downloading name.basics.tsv.gz.zip to /content\n",
            " 93% 167M/180M [00:01<00:00, 114MB/s]\n",
            "100% 180M/180M [00:01<00:00, 104MB/s]\n",
            "Archive:  name.basics.tsv.gz.zip\n",
            "  inflating: name.basics.tsv.gz      \n"
          ],
          "name": "stdout"
        }
      ]
    },
    {
      "cell_type": "code",
      "metadata": {
        "id": "hy5HeYS_LBqV"
      },
      "source": [
        "nameTable = spark.read.options(delimiter = \"\\t\", header=True).csv(\"name.basics.tsv\")\n",
        "# idName = {id:name for (id, name) in nameTable.select([\"nconst\",\"primaryName\"]).collect()}"
      ],
      "execution_count": null,
      "outputs": []
    },
    {
      "cell_type": "code",
      "metadata": {
        "id": "hn5feAdR1khJ"
      },
      "source": [
        "flattened_frequentId = frequentId.flatMap(lambda xs: [x for x in xs]).collect()\n",
        "\n",
        "nameTable = nameTable.filter(nameTable.nconst.isin(flattened_frequentId))\\\n",
        "                     .select([\"nconst\", \"primaryName\"])\\\n",
        "                     .collect()\n",
        "nameTable = {id : name for (id, name) in nameTable}"
      ],
      "execution_count": null,
      "outputs": []
    },
    {
      "cell_type": "code",
      "metadata": {
        "id": "PE4ciAOIOeGg"
      },
      "source": [
        "frequentId = frequentId.collect()\n",
        "basket_translated = []\n",
        "for basket in frequentId:\n",
        "  basket_translated.append([nameTable[id] for id in basket])\n",
        "basket_translated"
      ],
      "execution_count": null,
      "outputs": []
    }
  ]
}