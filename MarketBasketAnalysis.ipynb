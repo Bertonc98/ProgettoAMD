{
  "nbformat": 4,
  "nbformat_minor": 0,
  "metadata": {
    "colab": {
      "name": "MarketBasketAnalysis.ipynb",
      "provenance": [],
      "collapsed_sections": [],
      "include_colab_link": true
    },
    "kernelspec": {
      "display_name": "Python 3",
      "language": "python",
      "name": "python3"
    },
    "language_info": {
      "codemirror_mode": {
        "name": "ipython",
        "version": 3
      },
      "file_extension": ".py",
      "mimetype": "text/x-python",
      "name": "python",
      "nbconvert_exporter": "python",
      "pygments_lexer": "ipython3",
      "version": "3.8.5"
    }
  },
  "cells": [
    {
      "cell_type": "markdown",
      "metadata": {
        "id": "view-in-github",
        "colab_type": "text"
      },
      "source": [
        "<a href=\"https://colab.research.google.com/github/Bertonc98/ProgettoAMD/blob/main/MarketBasketAnalysis.ipynb\" target=\"_parent\"><img src=\"https://colab.research.google.com/assets/colab-badge.svg\" alt=\"Open In Colab\"/></a>"
      ]
    },
    {
      "cell_type": "code",
      "metadata": {
        "id": "GXMW60Di8Fui",
        "outputId": "934dbcc5-9214-4583-9a77-f9d5a82b94e3",
        "colab": {
          "base_uri": "https://localhost:8080/"
        }
      },
      "source": [
        "import csv\n",
        "import pandas as pd\n",
        "import copy\n",
        "import math\n",
        "import json\n",
        "from collections import defaultdict\n",
        "import numpy as np\n",
        "import itertools as it\n",
        "import time\n",
        "import random\n",
        "import matplotlib.pyplot as plt\n",
        "!pip3 install bitmap\n",
        "from bitmap import BitMap\n",
        "from fractions import Fraction\n",
        "!pip install ipython-autotime\n",
        "%load_ext autotime"
      ],
      "execution_count": 1,
      "outputs": [
        {
          "output_type": "stream",
          "text": [
            "Collecting bitmap\n",
            "  Downloading https://files.pythonhosted.org/packages/3a/18/0cf0116c3faf5023a6e971549055d42907020bca37320b3ada380e07f3ff/bitmap-0.0.7-py3-none-any.whl\n",
            "Requirement already satisfied: future in /usr/local/lib/python3.7/dist-packages (from bitmap) (0.16.0)\n",
            "Installing collected packages: bitmap\n",
            "Successfully installed bitmap-0.0.7\n",
            "Collecting ipython-autotime\n",
            "  Downloading https://files.pythonhosted.org/packages/b4/c9/b413a24f759641bc27ef98c144b590023c8038dfb8a3f09e713e9dff12c1/ipython_autotime-0.3.1-py2.py3-none-any.whl\n",
            "Requirement already satisfied: ipython in /usr/local/lib/python3.7/dist-packages (from ipython-autotime) (5.5.0)\n",
            "Requirement already satisfied: prompt-toolkit<2.0.0,>=1.0.4 in /usr/local/lib/python3.7/dist-packages (from ipython->ipython-autotime) (1.0.18)\n",
            "Requirement already satisfied: pygments in /usr/local/lib/python3.7/dist-packages (from ipython->ipython-autotime) (2.6.1)\n",
            "Requirement already satisfied: traitlets>=4.2 in /usr/local/lib/python3.7/dist-packages (from ipython->ipython-autotime) (5.0.5)\n",
            "Requirement already satisfied: simplegeneric>0.8 in /usr/local/lib/python3.7/dist-packages (from ipython->ipython-autotime) (0.8.1)\n",
            "Requirement already satisfied: pexpect; sys_platform != \"win32\" in /usr/local/lib/python3.7/dist-packages (from ipython->ipython-autotime) (4.8.0)\n",
            "Requirement already satisfied: decorator in /usr/local/lib/python3.7/dist-packages (from ipython->ipython-autotime) (4.4.2)\n",
            "Requirement already satisfied: setuptools>=18.5 in /usr/local/lib/python3.7/dist-packages (from ipython->ipython-autotime) (57.2.0)\n",
            "Requirement already satisfied: pickleshare in /usr/local/lib/python3.7/dist-packages (from ipython->ipython-autotime) (0.7.5)\n",
            "Requirement already satisfied: wcwidth in /usr/local/lib/python3.7/dist-packages (from prompt-toolkit<2.0.0,>=1.0.4->ipython->ipython-autotime) (0.2.5)\n",
            "Requirement already satisfied: six>=1.9.0 in /usr/local/lib/python3.7/dist-packages (from prompt-toolkit<2.0.0,>=1.0.4->ipython->ipython-autotime) (1.15.0)\n",
            "Requirement already satisfied: ipython-genutils in /usr/local/lib/python3.7/dist-packages (from traitlets>=4.2->ipython->ipython-autotime) (0.2.0)\n",
            "Requirement already satisfied: ptyprocess>=0.5 in /usr/local/lib/python3.7/dist-packages (from pexpect; sys_platform != \"win32\"->ipython->ipython-autotime) (0.7.0)\n",
            "Installing collected packages: ipython-autotime\n",
            "Successfully installed ipython-autotime-0.3.1\n",
            "time: 1.03 ms (started: 2021-07-16 18:03:17 +00:00)\n"
          ],
          "name": "stdout"
        }
      ]
    },
    {
      "cell_type": "markdown",
      "metadata": {
        "id": "pRbCCBUxweRT"
      },
      "source": [
        "# Retrieve dataset\n",
        "The part1 recreates the baskets file from raw dataset.<br>\n",
        "Is possible retrieve an already elaborated baskets file from github (part2)"
      ]
    },
    {
      "cell_type": "code",
      "metadata": {
        "id": "wH_rT3hW8FzO",
        "outputId": "7a3f81d9-4ac1-40ee-e01e-b9af3a77ebfd",
        "colab": {
          "base_uri": "https://localhost:8080/"
        }
      },
      "source": [
        "#PART1\n",
        "# !pip3 install -q kaggle\n",
        "# from google.colab import filesy\n",
        "# print(\"Upload kaggle.json to use kaggle APIs\")\n",
        "# files.upload()\n",
        "# !mkdir -p ~/.kaggle\n",
        "# !cp kaggle.json ~/.kaggle/\n",
        "# !ls ~/.kaggle\n",
        "# !chmod 600 /root/.kaggle/kaggle.json\n",
        "\n",
        "# !kaggle datasets download \"ashirwadsangwan/imdb-dataset\" -f \"title.principals.tsv.gz\"\n",
        "# !unzip \"title.principals.tsv.gz.zip\"\n",
        "# !rm \"title.principals.tsv.gz.zip\"\n",
        "# !gunzip -k \"title.principals.tsv.gz\"\n",
        "# !rm \"title.principals.tsv.gz\"\n",
        "\n",
        "#PART2\n",
        "!wget https://raw.githubusercontent.com/Bertonc98/ProgettoAMD/main/basket.zip\n",
        "!unzip \"basket.zip\"\n",
        "!rm \"basket.zip\""
      ],
      "execution_count": 2,
      "outputs": [
        {
          "output_type": "stream",
          "text": [
            "--2021-07-16 18:03:18--  https://raw.githubusercontent.com/Bertonc98/ProgettoAMD/main/basket.zip\n",
            "Resolving raw.githubusercontent.com (raw.githubusercontent.com)... 185.199.109.133, 185.199.108.133, 185.199.111.133, ...\n",
            "Connecting to raw.githubusercontent.com (raw.githubusercontent.com)|185.199.109.133|:443... connected.\n",
            "HTTP request sent, awaiting response... 200 OK\n",
            "Length: 33371405 (32M) [application/zip]\n",
            "Saving to: ‘basket.zip’\n",
            "\n",
            "basket.zip          100%[===================>]  31.83M   167MB/s    in 0.2s    \n",
            "\n",
            "2021-07-16 18:03:19 (167 MB/s) - ‘basket.zip’ saved [33371405/33371405]\n",
            "\n",
            "Archive:  basket.zip\n",
            "  inflating: basket.txt              \n",
            "time: 2.9 s (started: 2021-07-16 18:03:17 +00:00)\n"
          ],
          "name": "stdout"
        }
      ]
    },
    {
      "cell_type": "markdown",
      "metadata": {
        "id": "axXQNMP8rro2"
      },
      "source": [
        "# Preprocessing\n",
        "Code to extract baskets file<br>\n",
        "If executed part2 skip this cell\n"
      ]
    },
    {
      "cell_type": "code",
      "metadata": {
        "id": "D7dCNJje8RDh",
        "colab": {
          "base_uri": "https://localhost:8080/"
        },
        "outputId": "008f0e8b-b08f-4d28-da51-9286d6811fa5"
      },
      "source": [
        "#PREPROCESSING \n",
        "# filename = 'title.principals.tsv'\n",
        "# chunksize = 50041642\n",
        "\n",
        "# for chunk in pd.read_csv(filename, delimiter = '\\t', encoding='utf-8', chunksize=chunksize, usecols=[0,2,3]):\n",
        "#   actors_df = chunk[(chunk[\"category\"] == \"actor\") | (chunk[\"category\"] == \"actress\")]\n",
        "# with open('basket.txt', 'a', encoding='UTF8') as f:\n",
        "#   writer = csv.writer(f)\n",
        "#   for group in actors_df[[\"tconst\", \"nconst\"]].groupby(by = 'tconst'):\n",
        "#     row = [int(act[2:]) for act in group[1][\"nconst\"]]\n",
        "#     writer.writerow(row)"
      ],
      "execution_count": 3,
      "outputs": [
        {
          "output_type": "stream",
          "text": [
            "time: 2.89 ms (started: 2021-07-16 18:03:20 +00:00)\n"
          ],
          "name": "stdout"
        }
      ]
    },
    {
      "cell_type": "markdown",
      "metadata": {
        "id": "hg0NtiQyrkuQ"
      },
      "source": [
        "# Definitions of functions"
      ]
    },
    {
      "cell_type": "code",
      "metadata": {
        "id": "CaWCoU-kr41k",
        "colab": {
          "base_uri": "https://localhost:8080/"
        },
        "outputId": "c0163895-fde8-41e6-9664-7958a19ba2f0"
      },
      "source": [
        "#Parse the first N rows in the basket file\n",
        "#Arguments: iterator pointer, int N\n",
        "#Return: list parsed_basket\n",
        "def create_baskets(pointer, N):\n",
        "  #Create baskets parsing chunk\n",
        "  basket = []\n",
        "  row = next(pointer, None)\n",
        "  counter = 1\n",
        "  while counter < N and row != None:\n",
        "    basket += [[int(x) for x in row.strip().split(',')]]\n",
        "    row = next(pointer, None)\n",
        "    counter += 1\n",
        "  return basket\n",
        "\n",
        "# The function extract the fraction from a total of tot_num_rows\n",
        "# Arguments: float fraction, int tot_num_rows\n",
        "# Return: list sample\n",
        "def create_sample(fraction, tot_num_rows = 3602202):\n",
        "  sample = []\n",
        "  counter = 0\n",
        "  # Sampling\n",
        "  with open(\"basket.txt\") as f:\n",
        "    for row in f:\n",
        "      if random.random() < fraction:\n",
        "        sample.append([int(x) for x in row.strip().split(',')])\n",
        "      if len(sample) == int(fraction*tot_num_rows):\n",
        "        return sample\n",
        "  return sample"
      ],
      "execution_count": 4,
      "outputs": [
        {
          "output_type": "stream",
          "text": [
            "time: 17.3 ms (started: 2021-07-16 18:03:20 +00:00)\n"
          ],
          "name": "stdout"
        }
      ]
    },
    {
      "cell_type": "code",
      "metadata": {
        "colab": {
          "base_uri": "https://localhost:8080/"
        },
        "id": "uezMC-R7l5NB",
        "outputId": "dfafe979-02e5-4891-adfe-f66133cf0edc"
      },
      "source": [
        "#Apriori\n",
        "#Obtain the minimum index in the chunk containing the baskets\n",
        "#Arguments: iterator chunk\n",
        "#Return: int minimum\n",
        "def get_minimum(chunk):\n",
        "  mi = math.inf\n",
        "  for basket in chunk:\n",
        "    m = min(basket)\n",
        "    mi = min(m, mi)\n",
        "  return mi\n",
        "\n",
        "#Obtain the combination of the size in the basket\n",
        "#Arguments: list basket, int size\n",
        "#Return: list combinations\n",
        "def get_combinations(basket, size):\n",
        "    return it.combinations(sorted(basket), size)\n",
        "\n",
        "#Update the frequency of a specific singleton, if it's not present it adds the \n",
        "#item in the position indicated by the value of the item\n",
        "#Arguments: list l, int item\n",
        "#Return: ---\n",
        "def update_frequency(l, item):\n",
        "    if item + 1 > len(l):\n",
        "        l.extend((item+1-len(l))*[0])\n",
        "    l[item] += 1\n",
        "\n",
        "#Create the list of the frequency of the singletons and return only the frequent ones\n",
        "#Arguments: iterator chunk, int threshold, int m\n",
        "#Return: list frequent_singletons, int number_singletons\n",
        "def singleton_frequency_apriori(chunk, threshold, m):\n",
        "    singleton_freq = []\n",
        "    for basket in chunk:\n",
        "        for item in basket:\n",
        "            update_frequency(singleton_freq, (item-m))\n",
        "    return filter_singletons(singleton_freq, m, threshold), len(singleton_freq)\n",
        "\n",
        "#Filter the singletons, saving only the ones with a frequency over the threshold\n",
        "#Arguments: list singleton, int m, int threshold\n",
        "#Return: list frequent singletons\n",
        "def filter_singletons(singleton, m, threshold):\n",
        "    return [(iid+m,) for iid, freq in enumerate(singleton) if freq >= threshold]    \n",
        "\n",
        "#Given tuples obtain the combinations of the size k\n",
        "#Arguments: list tuples, int k\n",
        "#Return: list l\n",
        "def get_joins(tuples, k):\n",
        "    #to obtain an element of lenght k:\n",
        "    #join 2 elements of length k-1 with the first k-2 elements in common\n",
        "    l = []\n",
        "    for i in range(len(tuples)-1):\n",
        "        for j in range(i+1, len(tuples)):\n",
        "            if(tuples[i][:k-2] == tuples[j][:k-2]):\n",
        "                l += [tuples[i] + tuples[j][k-2:]]\n",
        "    return l\n",
        "\n",
        "#Obtains the frequent tuples of size k, respecting the given threshold.\n",
        "#The precedents frequent itemsets (of size k-1) are used to compute the combinations of size k\n",
        "#Arguments: list chunk, list precedents, int threshold, int k\n",
        "#Return: list frequent_itemset_size_k, int number_kth_itemsets\n",
        "def get_kth_apriori(chunk, precedents, threshold, k):\n",
        "    kth = {tpl:0 for tpl in get_joins(precedents, k)}\n",
        "\n",
        "    for basket in chunk:\n",
        "        tpls = list(get_combinations(basket, k))\n",
        "        for t in tpls:\n",
        "          try:\n",
        "            kth[t] += 1\n",
        "          except:\n",
        "            pass\n",
        "\n",
        "    return [i for i in kth.keys() if kth[i] >= threshold], len(kth)\n",
        "\n",
        "#Given a partition and a threshold compute the frequent itemsets of increasing size\n",
        "#Until it gets a size for which there aren't more frequent itemsets\n",
        "#Arguments: iterator partition, int threshold\n",
        "#Return: list frequent_itemsets, int number_candidates_generated\n",
        "def apriori_main(partition, threshold):\n",
        "      generator, chunk = it.tee(partition, 2)\n",
        "      frequent_sets = []\n",
        "      m = get_minimum(chunk)\n",
        "      #Re-generate the iterator\n",
        "      chunk = copy.copy(generator)\n",
        "\n",
        "      result, n_comb = singleton_frequency_apriori(chunk, threshold, m)\n",
        "      frequent_sets += result\n",
        "      precedents = result\n",
        "      n_combinations = [n_comb]\n",
        "\n",
        "      k = 2\n",
        "      while result != []:\n",
        "          chunk = copy.copy(generator)\n",
        "          result, n_comb_k = get_kth_apriori(chunk, precedents, threshold, k)\n",
        "          n_combinations.append(n_comb_k)\n",
        "          \n",
        "          frequent_sets = frequent_sets + result\n",
        "          precedents = result\n",
        "          k += 1\n",
        "\n",
        "      return frequent_sets, n_combinations\n",
        "\n",
        "# ---------------------------------------------------------------------\n",
        "#SON functions\n",
        "\n",
        "#Given the dictionary of candidates, updates the frequency of the item (used to filter false positives)\n",
        "#Arguments: dict candidates_dict, int el\n",
        "#Return: ---\n",
        "def dict_update(candidates_dict, el):\n",
        "  try:\n",
        "    candidates_dict[el] += 1\n",
        "  except:\n",
        "    pass\n",
        "\n",
        "#Given the threshold for a single chunk, the number of chunks and their size\n",
        "#compute the frequent itemsets using the apriori algorithm\n",
        "#Arguments: int t, int N, int n_chunk, int experiment\n",
        "#Return: list frequent_itemsets, list number_combinations, list times\n",
        "def apriori_SON(t, N, n_chunk, experiment = 0):\n",
        "  result_apriori = []\n",
        "  n_combinations = []\n",
        "  son_times = []\n",
        "  with open(\"basket.txt\") as f:\n",
        "    for i in range(n_chunk):\n",
        "      print(f\"Elaborating chunk {i}\")\n",
        "\n",
        "      basket = create_baskets(f, N)\n",
        "      \n",
        "      son_start_time = time.time()\n",
        "      #Applying Apriori\n",
        "      chunk_candidates, n_comb_partition = apriori_main(iter(basket), t)\n",
        "      result_apriori += chunk_candidates\n",
        "\n",
        "      #Update combinations lists to match the maximum size of frequent itemsets found\n",
        "      #For experimental purpose\n",
        "      if experiment == 0:\n",
        "        n_combinations.append(n_comb_partition[1:])\n",
        "      elif experiment == 1:\n",
        "        n_combinations.append(sum(n_comb_partition[1:]))\n",
        "      else:\n",
        "        print(\"experiment value out of range [0,1]\")\n",
        "        exit(0)\n",
        "      son_times += [time.time()-son_start_time]\n",
        "      \n",
        "  result_apriori = {k:0 for k in set(result_apriori)}\n",
        "\n",
        "  counter = 0\n",
        "  #Check\n",
        "  son_start_time = time.time()\n",
        "  with open(\"basket.txt\") as f:\n",
        "    for row in f:\n",
        "      basket = [int(x) for x in row.strip().split(',')]\n",
        "\n",
        "      for size in range(1, len(basket)+1):\n",
        "        for el in get_combinations(basket, size):\n",
        "          dict_update(result_apriori, el)\n",
        "      counter += 1\n",
        "      if counter > N*n_chunk:\n",
        "        break\n",
        "  filtered_baskets = [el for el,v in result_apriori.items() if v >= (t*n_chunk)]\n",
        "  son_times += [time.time()-son_start_time]\n",
        "  return filtered_baskets, n_combinations, son_times"
      ],
      "execution_count": 5,
      "outputs": [
        {
          "output_type": "stream",
          "text": [
            "time: 227 ms (started: 2021-07-16 18:03:21 +00:00)\n"
          ],
          "name": "stdout"
        }
      ]
    },
    {
      "cell_type": "code",
      "metadata": {
        "colab": {
          "base_uri": "https://localhost:8080/"
        },
        "id": "Qyks0L-zS_DZ",
        "outputId": "eec08812-aed5-4336-c8d1-0ed8d3bc445c"
      },
      "source": [
        "#PCY\n",
        "#Return the hashed element mod the size of the hashmap\n",
        "#Arguments: int element, int size\n",
        "#Return: int hashed_value\n",
        "def hashF(element, size):\n",
        "    return hash(element)%size\n",
        "\n",
        "#Create the list of the frequency of the singletons and return only the frequent ones\n",
        "#Meanwhile it creates the hashmap of the couple of items\n",
        "#Arguments: iterator chunk, int hash_size, int threshold, int m\n",
        "#Return: list frequent singletons, list hashmap, int number_singletons\n",
        "def singleton_pairs_frequency_pcy(chunk, hash_size, threshold, m):\n",
        "    singleton_freq = []\n",
        "    hashmap = np.zeros(hash_size)\n",
        "    for basket in chunk:\n",
        "        basket = list(map(int, basket))\n",
        "        for item in basket:\n",
        "            update_frequency(singleton_freq, item-m)\n",
        "        for pair in get_combinations(basket, 2):\n",
        "            hashmap[hashF(pair, hash_size)] += 1\n",
        "    return filter_singletons(singleton_freq, m, threshold), hashmap, len(singleton_freq)\n",
        "\n",
        "# this function collapse the hashmap given in input into a bitmap of size \"size\" \n",
        "# and set a 1 in the bitmap if the value in\n",
        "# the hashmap is over the the given threshold\n",
        "# Arguments: list hashmap, int size, int threshold\n",
        "# Return: bitmap bmap\n",
        "def hash_to_bitmap(hashmap, size, threshold):\n",
        "    bmap = BitMap(size)\n",
        "    for position in range(len(hashmap)):\n",
        "        if hashmap[position] >= threshold:\n",
        "            bmap.set(position)\n",
        "    del hashmap\n",
        "    return bmap\n",
        "\n",
        "# Obtains the frequent tuples of size k, respecting the give threshold.\n",
        "# The precedents frequent itemsets (of size k-1) are used to compute the combinations of size k\n",
        "# The bmap is used to filter nonfrequent itemsets of size k-1\n",
        "# Meanwhile it computes the hashmap for itemsets od size k+1\n",
        "# Arguments: list chunk, list precedents, int hash_size, list bmap, int threshold, int k\n",
        "# Return: list frequent_itemset_size_k, list next_hashmap, int number_candidates_kth\n",
        "def get_kth(chunk, precedents, hash_size, bmap, threshold, k):\n",
        "    kth = {tpl:0 for tpl in get_joins(precedents, k) if bmap[hashF(tpl, hash_size)]}\n",
        "    next_hashmap = np.zeros(hash_size)\n",
        "    \n",
        "    for basket in chunk:\n",
        "        # basket = list(map(int, basket))\n",
        "        tpls = list(get_combinations(basket, k))\n",
        "        for t in tpls:\n",
        "          try:\n",
        "            kth[t] += 1\n",
        "          except:\n",
        "            pass\n",
        "        for kth_tuples in get_combinations(basket, k+1):\n",
        "            next_hashmap[hashF(kth_tuples, hash_size)] += 1\n",
        "\n",
        "    return [k for k,v in kth.items() if v >= threshold], next_hashmap, len(kth)\n",
        "\n",
        "#Given a partition and a threshold compute the frequent itemsets of increasing size\n",
        "#Until get a size for which there aren't more frequent itemsets\n",
        "#Arguments: iterator partition, int threshold, int hash_size\n",
        "#Return: list frequent_itemsets, list combinations\n",
        "def pcy_main(partition, threshold, hash_size):\n",
        "      #Create a copy of the iterator and initialize structures\n",
        "      generator, chunk = it.tee(partition, 2)\n",
        "      frequent_sets = []\n",
        "      m = get_minimum(chunk)\n",
        "      chunk = copy.copy(generator)\n",
        "\n",
        "      result, hashmap, n_comb = singleton_pairs_frequency_pcy(chunk, hash_size, threshold, m)\n",
        "      bitmap = hash_to_bitmap(hashmap, hash_size, threshold)\n",
        "\n",
        "      #Update frequent_sets with the singletons\n",
        "      frequent_sets += result\n",
        "      precedents = result\n",
        "      n_combinations = [n_comb]\n",
        "\n",
        "      k = 2\n",
        "      result = [\"placeholder\"]\n",
        "      while result != []:\n",
        "          chunk = copy.copy(generator)\n",
        "          result, hashmap, n_comb = get_kth(chunk, precedents, hash_size, bitmap, threshold, k)\n",
        "          bitmap = hash_to_bitmap(hashmap, hash_size, threshold)\n",
        "\n",
        "          n_combinations.append(n_comb)\n",
        "          frequent_sets += result\n",
        "          precedents = result\n",
        "          k += 1\n",
        "          \n",
        "      return frequent_sets, n_combinations\n",
        "\n",
        "# Given the threshold for a single chunk, the number of chunks and their size\n",
        "# compute the frequent itemsets using the apriori algorithm, exploiting a bitmap\n",
        "# in order to filter more itemsets\n",
        "# Arguments: int t, int N, int n_chunk, int hash_size, int experiment\n",
        "# Return: list frequent_itemsets, list number_combinations, list times\n",
        "def PCY_SON(t, N, n_chunk, hash_size, experiment = 0):\n",
        "  result_pcy = []\n",
        "  n_combinations = []\n",
        "  son_times = []\n",
        "  with open(\"basket.txt\") as f:\n",
        "    for i in range(n_chunk):\n",
        "      print(f\"Elaborating chunk {i}\")\n",
        "\n",
        "      #Create baskets parsing chunk\n",
        "      basket = create_baskets(f, N)\n",
        "\n",
        "      son_start_time = time.time()\n",
        "      #Applying PCY\n",
        "      chunk_candidates, n_comb_partition= pcy_main(iter(basket), t, hash_size)\n",
        "      result_pcy += chunk_candidates\n",
        "\n",
        "      #Update combinations lists to match the maximum size of frequent itemsets found\n",
        "      if experiment == 0:\n",
        "        n_combinations.append(n_comb_partition[1:])\n",
        "      elif experiment == 1:\n",
        "        n_combinations.append(sum(n_comb_partition[1:]))\n",
        "      else:\n",
        "        print(\"experiment value out of range [0,1]\")\n",
        "        exit(0)\n",
        "      son_times += [time.time()-son_start_time]\n",
        "\n",
        "  result_pcy = {k:0 for k in set(result_pcy)}  \n",
        "\n",
        "  counter = 0\n",
        "  #Check\n",
        "  son_start_time = time.time()\n",
        "  with open(\"basket.txt\") as f:\n",
        "    for row in f:\n",
        "      basket = [int(x) for x in row.strip().split(',')]\n",
        "\n",
        "      for size in range(1, len(basket)+1):\n",
        "        for el in get_combinations(basket, size):\n",
        "          dict_update(result_pcy, el)\n",
        "      counter += 1\n",
        "      if counter > N*n_chunk:\n",
        "        break\n",
        "  son_times += [time.time()-son_start_time]\n",
        "  return [el for el,v in result_pcy.items() if v >= (t*n_chunk)], n_combinations, son_times"
      ],
      "execution_count": 6,
      "outputs": [
        {
          "output_type": "stream",
          "text": [
            "time: 183 ms (started: 2021-07-16 18:03:22 +00:00)\n"
          ],
          "name": "stdout"
        }
      ]
    },
    {
      "cell_type": "code",
      "metadata": {
        "colab": {
          "base_uri": "https://localhost:8080/"
        },
        "id": "ISeG9fZEsSjc",
        "outputId": "fa7edc2e-1214-41ee-bf1e-6226b6a08ece"
      },
      "source": [
        "# TOIVONEN\n",
        "\n",
        "# Run the apriori over the sample\n",
        "# Arguments: int t, list sample\n",
        "# Return: list chunk_candidates\n",
        "def APRIORI_TOIVONEN(t, sample):\n",
        "  #Applying a priori algorithm\n",
        "  chunk_candidates, _ = apriori_main(iter(sample), t)\n",
        "  return chunk_candidates\n",
        "\n",
        "# Given the sample and the candidates it computes the negative border\n",
        "# Arguments: list candidates, list sample\n",
        "# Return: list negative_border\n",
        "def negative_border(candidates, sample):\n",
        "  #find all the singleton that must be in NB = all non frequent singletons\n",
        "  diff = []\n",
        "  for row in sample:\n",
        "    for el in row:\n",
        "      try:\n",
        "        candidates[(el,)]\n",
        "      except:\n",
        "        diff += [(el,)]\n",
        "\n",
        "  nb = diff\n",
        "  prev_freq = [el for el, _  in candidates.items() if len(el) == 1]\n",
        "  k=2\n",
        "  #for each k find all the itemset of lenght k composed by frequent sets of length k-1 that are not frequent.\n",
        "  # max(map(len, c))+1 take the maximum length in frequent set. The cycle must find all sets in the NB till this length + 1\n",
        "  max_k = max(map(len, candidates.items()))+1\n",
        "  while k<= max_k:\n",
        "    diff = []\n",
        "    # Get every composition of size k, from candidates frequent elements of size k-1\n",
        "    for kth in get_joins(prev_freq, k):\n",
        "      try:\n",
        "        candidates[kth]\n",
        "      except:\n",
        "        diff += [kth]\n",
        "\n",
        "    nb += diff\n",
        "    prev_freq = [el for el, _ in candidates.items() if len(el) == k]\n",
        "    k += 1\n",
        "  return nb\n",
        "\n",
        "# Updates the negative border dictionary or the candidates dictionary for each \n",
        "# combinations in the baskets\n",
        "# Arguments: list baskets\n",
        "# Return: ---\n",
        "def candidates_nb_update(basket):\n",
        "  l = len(basket)\n",
        "  b = sorted(basket)\n",
        "  lista = []\n",
        "  for i in range(1, l+1):\n",
        "    for el in it.combinations(b, i):\n",
        "      try:\n",
        "        nb[el] += 1\n",
        "      except:\n",
        "        pass\n",
        "      try:\n",
        "        c_dict[el] += 1\n",
        "      except:\n",
        "        pass"
      ],
      "execution_count": 7,
      "outputs": [
        {
          "output_type": "stream",
          "text": [
            "time: 33.5 ms (started: 2021-07-16 18:03:23 +00:00)\n"
          ],
          "name": "stdout"
        }
      ]
    },
    {
      "cell_type": "markdown",
      "metadata": {
        "id": "7CJSRFRAtn2U"
      },
      "source": [
        "# CANDIDATES SIZES"
      ]
    },
    {
      "cell_type": "code",
      "metadata": {
        "colab": {
          "base_uri": "https://localhost:8080/"
        },
        "id": "Hyfjs5K9Zkq3",
        "outputId": "889ed225-2656-43e8-f581-d54fe8af8b78"
      },
      "source": [
        "#Apriori\n",
        "t = 2000\n",
        "N = 600367\n",
        "n_chunks = 6\n",
        "tot = N * n_chunks\n",
        "with open(\"basket.txt\") as f:\n",
        "  baskets = create_baskets(f, tot)"
      ],
      "execution_count": 8,
      "outputs": [
        {
          "output_type": "stream",
          "text": [
            "time: 11.4 s (started: 2021-07-16 18:03:28 +00:00)\n"
          ],
          "name": "stdout"
        }
      ]
    },
    {
      "cell_type": "code",
      "metadata": {
        "id": "tiBWx1YUwHx2"
      },
      "source": [
        "apriori_times = []\n",
        "start_time = time.time()\n",
        "res, apriori_sizes = apriori_main(iter(baskets), t)\n",
        "print(apriori_sizes)"
      ],
      "execution_count": null,
      "outputs": []
    },
    {
      "cell_type": "code",
      "metadata": {
        "id": "7pbP7rtJBGIV"
      },
      "source": [
        "#PCY\n",
        "hash_size = 2**20\n",
        "pcy_memory = []\n",
        "pcy_times = []\n",
        "\n",
        "start_time = time.time()\n",
        "res, pcy_sizes = pcy_main(iter(baskets), t, hash_size)\n",
        "print(pcy_sizes)"
      ],
      "execution_count": null,
      "outputs": []
    },
    {
      "cell_type": "code",
      "metadata": {
        "id": "zP0LsMAdmRDW"
      },
      "source": [
        "#apriori SON\n",
        "t = 2000//6\n",
        "N = 600367\n",
        "n_chunk = 6\n",
        "\n",
        "result, son_apriori_sizes, _ = apriori_SON(t, N, n_chunk, 0)\n",
        "\n",
        "print(son_apriori_sizes)"
      ],
      "execution_count": null,
      "outputs": []
    },
    {
      "cell_type": "code",
      "metadata": {
        "id": "pfV9xWSxTFgi"
      },
      "source": [
        "#PCY SON\n",
        "hash_size = 2**18\n",
        "result_pcy, son_pcy_sizes, _ = PCY_SON(t, N, n_chunk, hash_size, 0)\n",
        "print(son_pcy_sizes)"
      ],
      "execution_count": null,
      "outputs": []
    },
    {
      "cell_type": "markdown",
      "metadata": {
        "id": "hnY5HQOxuah1"
      },
      "source": [
        "# Time changhing threshold"
      ]
    },
    {
      "cell_type": "code",
      "metadata": {
        "colab": {
          "base_uri": "https://localhost:8080/"
        },
        "id": "t7ybPuZxwu3B",
        "outputId": "21d47543-eed2-4080-ffe2-35e76e88214c"
      },
      "source": [
        "N = 600000\n",
        "t = range(150, 500, 50)\n",
        "with open(\"basket.txt\") as f:\n",
        "  baskets = create_baskets(f, N)"
      ],
      "execution_count": 15,
      "outputs": [
        {
          "output_type": "stream",
          "text": [
            "time: 2.3 s (started: 2021-07-16 18:11:00 +00:00)\n"
          ],
          "name": "stdout"
        }
      ]
    },
    {
      "cell_type": "code",
      "metadata": {
        "id": "KvbqpPtTu_FB",
        "colab": {
          "base_uri": "https://localhost:8080/"
        },
        "outputId": "283c199d-48cd-446a-9090-3b5201a0ee4a"
      },
      "source": [
        "apriori_times = []\n",
        "for threshold in t:\n",
        "  print(f\"computing with t = {threshold}\")\n",
        "  start_time = time.time()\n",
        "  res, _ = apriori_main(iter(baskets), threshold)\n",
        "  apriori_times += [time.time() - start_time]"
      ],
      "execution_count": null,
      "outputs": [
        {
          "output_type": "stream",
          "text": [
            "time: 2min 12s (started: 2021-07-14 08:17:24 +00:00)\n"
          ],
          "name": "stdout"
        }
      ]
    },
    {
      "cell_type": "code",
      "metadata": {
        "colab": {
          "base_uri": "https://localhost:8080/"
        },
        "id": "_XbvmmLEeA78",
        "outputId": "0f13236a-55be-4505-fcb1-fcd21717c0f0"
      },
      "source": [
        "pcy_times = []\n",
        "for threshold in t:\n",
        "  print(f\"computing with t = {threshold}\")\n",
        "  start_time = time.time()\n",
        "  res, _ = pcy_main(iter(baskets), threshold, 2**18)\n",
        "  pcy_times += [time.time() - start_time]"
      ],
      "execution_count": null,
      "outputs": [
        {
          "output_type": "stream",
          "text": [
            "time: 7min 43s (started: 2021-07-14 07:42:08 +00:00)\n"
          ],
          "name": "stdout"
        }
      ]
    },
    {
      "cell_type": "code",
      "metadata": {
        "id": "qWs_elLn00jI"
      },
      "source": [
        "n_chunk = 10\n",
        "# contains worst chunk's execution time\n",
        "son_apriori_times = []\n",
        "for threshold in t:\n",
        "  print(f\"computing with t = {threshold}\")\n",
        "  result, _, tmp_apriori_son_times = apriori_SON(threshold/n_chunk, N/n_chunk, n_chunk)\n",
        "  son_apriori_times.append(max(tmp_apriori_son_times[:n_chunk]) + tmp_apriori_son_times[n_chunk])"
      ],
      "execution_count": null,
      "outputs": []
    },
    {
      "cell_type": "code",
      "metadata": {
        "id": "F7eO_A7_bY0h"
      },
      "source": [
        "n_chunk = 10\n",
        "# contains worst chunk's execution time\n",
        "son_pcy_times = []\n",
        "for threshold in t:\n",
        "  print(f\"computing with t = {threshold}\")\n",
        "  result, _, tmp_pcy_son_times = PCY_SON(threshold/n_chunk, N/n_chunk, n_chunk, 2**18)\n",
        "  son_pcy_times.append(max(tmp_pcy_son_times[:n_chunk]) + tmp_pcy_son_times[n_chunk])"
      ],
      "execution_count": null,
      "outputs": []
    },
    {
      "cell_type": "code",
      "metadata": {
        "id": "iU4H97YygZqH"
      },
      "source": [
        "#TOIVONEN\n",
        "toivonen_times = []\n",
        "with open(\"basket.txt\") as f:\n",
        "  baskets = create_baskets(f, N)\n",
        "for tr in t:\n",
        "  start_time = time.time()\n",
        "  c_dict = dict.fromkeys(APRIORI_TOIVONEN(tr//6, baskets[:N//6]), 0)\n",
        "  nb = dict.fromkeys(negative_border(c_dict, baskets[:N//6]), 0)\n",
        "  counter = 0\n",
        "\n",
        "  #Check to filter out FP and count frequencies of NB's items\n",
        "  for basket in baskets:\n",
        "    candidates_nb_update(basket)\n",
        "  \n",
        "  buleano = True\n",
        "  for frequency in nb.values():\n",
        "    if (frequency >= tr):\n",
        "      buleano = False\n",
        "      break\n",
        "  if (buleano):\n",
        "    c_dict = {k:v for k,v in c_dict.items() if v >= tr}\n",
        "    print(\"V\")\n",
        "  else:\n",
        "    print(\"E\")\n",
        "  toivonen_times.append(round(time.time()-start_time, 2))"
      ],
      "execution_count": null,
      "outputs": []
    },
    {
      "cell_type": "code",
      "metadata": {
        "colab": {
          "base_uri": "https://localhost:8080/"
        },
        "id": "rQEATpzlZ6MU",
        "outputId": "c0d2ffde-04ac-4e18-d832-91c4b1cbc8f1"
      },
      "source": [
        "#Execution time already computed and used in the chart below\n",
        "# apriori_times = [26.04, 22.17, 21.24, 18.19, 17.72, 13.59, 13.67]\n",
        "# pcy_times = [80.3, 73.13, 73.46, 64.96, 64.81, 53.35, 53.04]\n",
        "# son_apriori_times = [59.4, 45.51, 39.15, 35.51, 34.12, 33.07, 31.83]\n",
        "# son_pcy_times = [66.0, 51.23, 45.1, 41.26, 38.6, 37.75, 35.86]\n",
        "# toivonen_times = [67.88, 56.97, 51.43, 48.87, 47.83, 46.0, 44.98]"
      ],
      "execution_count": 18,
      "outputs": [
        {
          "output_type": "stream",
          "text": [
            "time: 3.61 ms (started: 2021-07-16 18:13:10 +00:00)\n"
          ],
          "name": "stdout"
        }
      ]
    },
    {
      "cell_type": "code",
      "metadata": {
        "id": "6EJO05_C3o8p",
        "colab": {
          "base_uri": "https://localhost:8080/",
          "height": 368
        },
        "outputId": "60b651d0-d296-4aad-c088-641bcfa4ee8b"
      },
      "source": [
        "plt.figure(figsize=(8,5))\n",
        "t = range(150, 500, 50)\n",
        "plt.plot(list(t), apriori_times, \"-o\")\n",
        "plt.plot(list(t), pcy_times, \"-o\")\n",
        "plt.plot(list(t), son_apriori_times, \"-o\")\n",
        "plt.plot(list(t), son_pcy_times, \"-o\")\n",
        "plt.plot(list(t), toivonen_times, \"-o\")\n",
        "plt.legend([\"apriori\", \"pcy\", \"son apriori\", \"son pcy\", \"Toivonen\"])\n",
        "plt.xlabel(\"threshold\")\n",
        "plt.ylabel(\"time (s)\")\n",
        "plt.title(\"Timing by threshold\")\n",
        "plt.ylim(0, 85)\n",
        "plt.show()"
      ],
      "execution_count": 19,
      "outputs": [
        {
          "output_type": "display_data",
          "data": {
            "image/png": "[encoded data removed]",
            "text/plain": [
              "<Figure size 576x360 with 1 Axes>"
            ]
          },
          "metadata": {
            "tags": [],
            "needs_background": "light"
          }
        },
        {
          "output_type": "stream",
          "text": [
            "time: 242 ms (started: 2021-07-16 18:13:11 +00:00)\n"
          ],
          "name": "stdout"
        }
      ]
    },
    {
      "cell_type": "markdown",
      "metadata": {
        "id": "-xYTztYl3lil"
      },
      "source": [
        "# Candidates number and timing with different hash size"
      ]
    },
    {
      "cell_type": "code",
      "metadata": {
        "colab": {
          "base_uri": "https://localhost:8080/"
        },
        "id": "o3UMS1aA3rx1",
        "outputId": "284b6f4e-d350-423a-b14b-14e3b9b261ea"
      },
      "source": [
        "N = 600000\n",
        "t = 350\n",
        "with open(\"basket.txt\") as f:\n",
        "  baskets = create_baskets(f, N)\n",
        "#Hashmap sizes\n",
        "h = [2**x for x in range(12, 21)]"
      ],
      "execution_count": 20,
      "outputs": [
        {
          "output_type": "stream",
          "text": [
            "time: 2.15 s (started: 2021-07-16 18:20:00 +00:00)\n"
          ],
          "name": "stdout"
        }
      ]
    },
    {
      "cell_type": "code",
      "metadata": {
        "colab": {
          "base_uri": "https://localhost:8080/"
        },
        "id": "MugK-xxU4U8S",
        "outputId": "da6eb38b-6739-4301-c453-cb3f90e9d091"
      },
      "source": [
        "pcy_times = []\n",
        "pcy_sizes = []\n",
        "for h_size in h:\n",
        "  start_time = time.time()\n",
        "  res, candidates = pcy_main(iter(baskets), t, h_size)\n",
        "  pcy_times += [time.time() - start_time]\n",
        "  pcy_sizes.append(candidates)"
      ],
      "execution_count": null,
      "outputs": [
        {
          "output_type": "stream",
          "text": [
            "time: 8min 18s (started: 2021-07-13 20:39:00 +00:00)\n"
          ],
          "name": "stdout"
        }
      ]
    },
    {
      "cell_type": "code",
      "metadata": {
        "colab": {
          "base_uri": "https://localhost:8080/",
          "height": 313
        },
        "id": "7H2fNPK-8Eux",
        "outputId": "062cb73d-3e16-4693-c3be-0b552213cf2e"
      },
      "source": [
        "sizes = [sum(el[1:]) for el in pcy_sizes]\n",
        "plt.plot(h, sizes, \"g-o\")\n",
        "plt.ticklabel_format(useOffset=False, style='plain')\n",
        "plt.xlabel(\"Hash table size\")\n",
        "plt.ylabel(\"Number of candidates\")\n",
        "plt.title(\"PCY\")\n",
        "plt.show()"
      ],
      "execution_count": null,
      "outputs": [
        {
          "output_type": "display_data",
          "data": {
            "image/png": "[encoded data removed]",
            "text/plain": [
              "<Figure size 432x288 with 1 Axes>"
            ]
          },
          "metadata": {
            "tags": [],
            "needs_background": "light"
          }
        },
        {
          "output_type": "stream",
          "text": [
            "time: 311 ms (started: 2021-07-13 20:28:01 +00:00)\n"
          ],
          "name": "stdout"
        }
      ]
    },
    {
      "cell_type": "code",
      "metadata": {
        "colab": {
          "base_uri": "https://localhost:8080/",
          "height": 313
        },
        "id": "vUCBCYa1BOaY",
        "outputId": "683bc56e-d3e5-40de-d204-37cdd15637b2"
      },
      "source": [
        "plt.plot(h, pcy_times, \"-o\")\n",
        "plt.xlabel(\"Hash table size\")\n",
        "plt.ticklabel_format(useOffset=False, style='plain')\n",
        "plt.ylabel(\"Time(s)\")\n",
        "plt.title(\"PCY\")\n",
        "plt.show()"
      ],
      "execution_count": null,
      "outputs": [
        {
          "output_type": "display_data",
          "data": {
            "image/png": "[encoded data removed]",
            "text/plain": [
              "<Figure size 432x288 with 1 Axes>"
            ]
          },
          "metadata": {
            "tags": [],
            "needs_background": "light"
          }
        },
        {
          "output_type": "stream",
          "text": [
            "time: 322 ms (started: 2021-07-13 21:14:53 +00:00)\n"
          ],
          "name": "stdout"
        }
      ]
    },
    {
      "cell_type": "code",
      "metadata": {
        "id": "7sdhp5HDi7Fv",
        "outputId": "b754daa1-06ad-4c6f-c2e0-fab734bec5f1",
        "colab": {
          "base_uri": "https://localhost:8080/"
        }
      },
      "source": [
        "n_chunk = 10\n",
        "son_pcy_candidates = []\n",
        "for h_size in h:\n",
        "  print(f\"computing with hash size = {h_size}\")\n",
        "  result, candidates, _ = PCY_SON(t/n_chunk, N/n_chunk, n_chunk, h_size)\n",
        "  son_pcy_candidates.append(candidates)"
      ],
      "execution_count": 21,
      "outputs": [
        {
          "output_type": "stream",
          "text": [
            "computing with hash size = 4096\n",
            "Elaborating chunk 0\n",
            "Elaborating chunk 1\n",
            "Elaborating chunk 2\n",
            "Elaborating chunk 3\n",
            "Elaborating chunk 4\n",
            "Elaborating chunk 5\n",
            "Elaborating chunk 6\n",
            "Elaborating chunk 7\n",
            "Elaborating chunk 8\n",
            "Elaborating chunk 9\n",
            "computing with hash size = 8192\n",
            "Elaborating chunk 0\n",
            "Elaborating chunk 1\n",
            "Elaborating chunk 2\n",
            "Elaborating chunk 3\n",
            "Elaborating chunk 4\n",
            "Elaborating chunk 5\n",
            "Elaborating chunk 6\n",
            "Elaborating chunk 7\n",
            "Elaborating chunk 8\n",
            "Elaborating chunk 9\n",
            "computing with hash size = 16384\n",
            "Elaborating chunk 0\n",
            "Elaborating chunk 1\n",
            "Elaborating chunk 2\n",
            "Elaborating chunk 3\n",
            "Elaborating chunk 4\n",
            "Elaborating chunk 5\n",
            "Elaborating chunk 6\n",
            "Elaborating chunk 7\n",
            "Elaborating chunk 8\n",
            "Elaborating chunk 9\n",
            "computing with hash size = 32768\n",
            "Elaborating chunk 0\n",
            "Elaborating chunk 1\n",
            "Elaborating chunk 2\n",
            "Elaborating chunk 3\n",
            "Elaborating chunk 4\n",
            "Elaborating chunk 5\n",
            "Elaborating chunk 6\n",
            "Elaborating chunk 7\n",
            "Elaborating chunk 8\n",
            "Elaborating chunk 9\n",
            "computing with hash size = 65536\n",
            "Elaborating chunk 0\n",
            "Elaborating chunk 1\n",
            "Elaborating chunk 2\n",
            "Elaborating chunk 3\n",
            "Elaborating chunk 4\n",
            "Elaborating chunk 5\n",
            "Elaborating chunk 6\n",
            "Elaborating chunk 7\n",
            "Elaborating chunk 8\n",
            "Elaborating chunk 9\n",
            "computing with hash size = 131072\n",
            "Elaborating chunk 0\n",
            "Elaborating chunk 1\n",
            "Elaborating chunk 2\n",
            "Elaborating chunk 3\n",
            "Elaborating chunk 4\n",
            "Elaborating chunk 5\n",
            "Elaborating chunk 6\n",
            "Elaborating chunk 7\n",
            "Elaborating chunk 8\n",
            "Elaborating chunk 9\n",
            "computing with hash size = 262144\n",
            "Elaborating chunk 0\n",
            "Elaborating chunk 1\n",
            "Elaborating chunk 2\n",
            "Elaborating chunk 3\n",
            "Elaborating chunk 4\n",
            "Elaborating chunk 5\n",
            "Elaborating chunk 6\n",
            "Elaborating chunk 7\n",
            "Elaborating chunk 8\n",
            "Elaborating chunk 9\n",
            "computing with hash size = 524288\n",
            "Elaborating chunk 0\n",
            "Elaborating chunk 1\n",
            "Elaborating chunk 2\n",
            "Elaborating chunk 3\n",
            "Elaborating chunk 4\n",
            "Elaborating chunk 5\n",
            "Elaborating chunk 6\n",
            "Elaborating chunk 7\n",
            "Elaborating chunk 8\n",
            "Elaborating chunk 9\n",
            "computing with hash size = 1048576\n",
            "Elaborating chunk 0\n",
            "Elaborating chunk 1\n",
            "Elaborating chunk 2\n",
            "Elaborating chunk 3\n",
            "Elaborating chunk 4\n",
            "Elaborating chunk 5\n",
            "Elaborating chunk 6\n",
            "Elaborating chunk 7\n",
            "Elaborating chunk 8\n",
            "Elaborating chunk 9\n",
            "time: 17min 47s (started: 2021-07-16 18:20:10 +00:00)\n"
          ],
          "name": "stdout"
        }
      ]
    },
    {
      "cell_type": "code",
      "metadata": {
        "colab": {
          "base_uri": "https://localhost:8080/"
        },
        "id": "CxT0cNDg7MED",
        "outputId": "88a5562e-5a1f-48ae-b06b-6e7e375780f6"
      },
      "source": [
        "#Already co\n",
        "son_pcy_candidates=[[1298466, 2708, 1885, 1132, 490, 141, 18, 0],\n",
        " [1184986, 2708, 1885, 1132, 490, 138, 16, 0],\n",
        " [426376, 2610, 1872, 1116, 472, 126, 16, 0],\n",
        " [136309, 2251, 1656, 990, 432, 122, 16, 0],\n",
        " [54448, 2019, 1472, 886, 399, 116, 16, 0],\n",
        " [25377, 1940, 1353, 811, 378, 111, 13, 0],\n",
        " [3604, 782, 301, 66, 8, 0],\n",
        " [2301, 771, 294, 64, 8, 0],\n",
        " [1671, 754, 284, 59, 7, 0]]"
      ],
      "execution_count": null,
      "outputs": [
        {
          "output_type": "execute_result",
          "data": {
            "text/plain": [
              "[1304840, 1191355, 432588, 141776, 59356, 29983, 4761, 3438, 2775]"
            ]
          },
          "metadata": {
            "tags": []
          },
          "execution_count": 2
        }
      ]
    },
    {
      "cell_type": "code",
      "metadata": {
        "id": "E-27U0jpnLox",
        "outputId": "626c325f-c8c8-4121-8766-102e9bd9336b",
        "colab": {
          "base_uri": "https://localhost:8080/"
        }
      },
      "source": [
        "son_pcy_candidates"
      ],
      "execution_count": 24,
      "outputs": [
        {
          "output_type": "execute_result",
          "data": {
            "text/plain": [
              "[[[891780, 98, 13, 2, 0],\n",
              "  [114481, 2],\n",
              "  [109746, 69, 0],\n",
              "  [73153, 172, 3],\n",
              "  [84255, 44, 9, 1, 0],\n",
              "  [196878, 19, 1],\n",
              "  [680361, 1505, 620, 213, 48, 3, 0],\n",
              "  [1073845, 1707, 631, 162, 29, 2, 0],\n",
              "  [1298466, 2708, 1885, 1132, 490, 141, 18, 0],\n",
              "  [517653, 960, 349, 80, 10, 0]],\n",
              " [[891570, 98, 13, 2, 0],\n",
              "  [114481, 2],\n",
              "  [109746, 69, 0],\n",
              "  [73153, 172, 3],\n",
              "  [84255, 44, 9, 1, 0],\n",
              "  [196878, 19, 1],\n",
              "  [666293, 1505, 620, 213, 48, 3, 0],\n",
              "  [975241, 1707, 631, 162, 29, 2, 0],\n",
              "  [1184986, 2708, 1885, 1132, 490, 138, 16, 0],\n",
              "  [504924, 960, 349, 80, 10, 0]],\n",
              " [[345943, 96, 12, 2, 0],\n",
              "  [82404, 2],\n",
              "  [93831, 69, 0],\n",
              "  [59462, 172, 3],\n",
              "  [58996, 44, 9, 1, 0],\n",
              "  [179538, 19, 1],\n",
              "  [237483, 1472, 620, 212, 46, 3, 0],\n",
              "  [339963, 1652, 629, 159, 29, 2, 0],\n",
              "  [426376, 2610, 1872, 1116, 472, 126, 16, 0],\n",
              "  [187271, 948, 348, 80, 10, 0]],\n",
              " [[13355, 58, 12, 2, 0],\n",
              "  [1004, 0],\n",
              "  [4569, 58, 0],\n",
              "  [2148, 151, 3],\n",
              "  [1638, 40, 9, 1, 0],\n",
              "  [10047, 19, 1],\n",
              "  [60199, 1231, 578, 200, 45, 3, 0],\n",
              "  [103680, 1499, 604, 156, 29, 2, 0],\n",
              "  [136309, 2251, 1656, 990, 432, 122, 16, 0],\n",
              "  [43714, 875, 336, 78, 10, 0]],\n",
              " [[2622, 42, 11, 2, 0],\n",
              "  [85, 0],\n",
              "  [455, 8, 0],\n",
              "  [253, 37, 2],\n",
              "  [275, 34, 9, 1, 0],\n",
              "  [518, 19, 1],\n",
              "  [21783, 1129, 547, 192, 42, 3, 0],\n",
              "  [40918, 1429, 593, 156, 29, 2, 0],\n",
              "  [54448, 2019, 1472, 886, 399, 116, 16, 0],\n",
              "  [14749, 825, 319, 74, 9, 0]],\n",
              " [[1062, 33, 11, 2, 0],\n",
              "  [26, 0],\n",
              "  [156, 4, 0],\n",
              "  [111, 14, 0],\n",
              "  [143, 31, 9, 1, 0],\n",
              "  [192, 16, 1],\n",
              "  [9779, 1091, 537, 185, 41, 3, 0],\n",
              "  [19063, 1400, 589, 155, 28, 2, 0],\n",
              "  [25377, 1940, 1353, 811, 378, 111, 13, 0],\n",
              "  [6589, 801, 306, 69, 8, 0]],\n",
              " [[525, 28, 11, 2, 0],\n",
              "  [10, 0],\n",
              "  [99, 2, 0],\n",
              "  [80, 11, 0],\n",
              "  [107, 31, 9, 1, 0],\n",
              "  [99, 11, 1],\n",
              "  [5314, 1068, 521, 173, 37, 3, 0],\n",
              "  [9907, 1385, 583, 154, 25, 1, 0],\n",
              "  [13120, 1894, 1275, 763, 365, 107, 13, 0],\n",
              "  [3604, 782, 301, 66, 8, 0]],\n",
              " [[283, 27, 11, 2, 0],\n",
              "  [10, 0],\n",
              "  [71, 2, 0],\n",
              "  [55, 10, 0],\n",
              "  [85, 31, 8, 1, 0],\n",
              "  [70, 11, 0],\n",
              "  [3176, 1053, 512, 167, 34, 3, 0],\n",
              "  [5702, 1378, 580, 152, 25, 1, 0],\n",
              "  [7411, 1868, 1237, 727, 359, 104, 13, 0],\n",
              "  [2301, 771, 294, 64, 8, 0]],\n",
              " [[192, 26, 11, 2, 0],\n",
              "  [8, 0],\n",
              "  [61, 2, 0],\n",
              "  [49, 8, 0],\n",
              "  [72, 31, 8, 1, 0],\n",
              "  [54, 10, 0],\n",
              "  [2271, 1047, 506, 165, 34, 3, 0],\n",
              "  [3774, 1372, 578, 152, 25, 1, 0],\n",
              "  [4698, 1851, 1222, 712, 358, 102, 13, 0],\n",
              "  [1671, 754, 284, 59, 7, 0]]]"
            ]
          },
          "metadata": {
            "tags": []
          },
          "execution_count": 24
        },
        {
          "output_type": "stream",
          "text": [
            "time: 14.6 ms (started: 2021-07-16 18:38:24 +00:00)\n"
          ],
          "name": "stdout"
        }
      ]
    },
    {
      "cell_type": "code",
      "metadata": {
        "id": "5uCgi--0jYeQ",
        "outputId": "2ed2c851-9a56-4136-e0fc-d54fab548652",
        "colab": {
          "base_uri": "https://localhost:8080/",
          "height": 389
        }
      },
      "source": [
        "sizes = [sum(el[1:]) for el in son_pcy_candidates]\n",
        "plt.plot(h, sizes, \"g-o\")\n",
        "plt.ticklabel_format(useOffset=False, style='plain')\n",
        "plt.xlabel(\"Hash table size\")\n",
        "plt.ylabel(\"Number of candidates\")\n",
        "plt.title(\"SON PCY\")\n",
        "plt.show()"
      ],
      "execution_count": 22,
      "outputs": [
        {
          "output_type": "error",
          "ename": "TypeError",
          "evalue": "ignored",
          "traceback": [
            "\u001b[0;31m---------------------------------------------------------------------------\u001b[0m",
            "\u001b[0;31mTypeError\u001b[0m                                 Traceback (most recent call last)",
            "\u001b[0;32m<ipython-input-22-bd314c9f3adf>\u001b[0m in \u001b[0;36m<module>\u001b[0;34m()\u001b[0m\n\u001b[0;32m----> 1\u001b[0;31m \u001b[0msizes\u001b[0m \u001b[0;34m=\u001b[0m \u001b[0;34m[\u001b[0m\u001b[0msum\u001b[0m\u001b[0;34m(\u001b[0m\u001b[0mel\u001b[0m\u001b[0;34m[\u001b[0m\u001b[0;36m1\u001b[0m\u001b[0;34m:\u001b[0m\u001b[0;34m]\u001b[0m\u001b[0;34m)\u001b[0m \u001b[0;32mfor\u001b[0m \u001b[0mel\u001b[0m \u001b[0;32min\u001b[0m \u001b[0mson_pcy_candidates\u001b[0m\u001b[0;34m]\u001b[0m\u001b[0;34m\u001b[0m\u001b[0;34m\u001b[0m\u001b[0m\n\u001b[0m\u001b[1;32m      2\u001b[0m \u001b[0mplt\u001b[0m\u001b[0;34m.\u001b[0m\u001b[0mplot\u001b[0m\u001b[0;34m(\u001b[0m\u001b[0mh\u001b[0m\u001b[0;34m,\u001b[0m \u001b[0msizes\u001b[0m\u001b[0;34m,\u001b[0m \u001b[0;34m\"g-o\"\u001b[0m\u001b[0;34m)\u001b[0m\u001b[0;34m\u001b[0m\u001b[0;34m\u001b[0m\u001b[0m\n\u001b[1;32m      3\u001b[0m \u001b[0mplt\u001b[0m\u001b[0;34m.\u001b[0m\u001b[0mticklabel_format\u001b[0m\u001b[0;34m(\u001b[0m\u001b[0museOffset\u001b[0m\u001b[0;34m=\u001b[0m\u001b[0;32mFalse\u001b[0m\u001b[0;34m,\u001b[0m \u001b[0mstyle\u001b[0m\u001b[0;34m=\u001b[0m\u001b[0;34m'plain'\u001b[0m\u001b[0;34m)\u001b[0m\u001b[0;34m\u001b[0m\u001b[0;34m\u001b[0m\u001b[0m\n\u001b[1;32m      4\u001b[0m \u001b[0mplt\u001b[0m\u001b[0;34m.\u001b[0m\u001b[0mxlabel\u001b[0m\u001b[0;34m(\u001b[0m\u001b[0;34m\"Hash table size\"\u001b[0m\u001b[0;34m)\u001b[0m\u001b[0;34m\u001b[0m\u001b[0;34m\u001b[0m\u001b[0m\n\u001b[1;32m      5\u001b[0m \u001b[0mplt\u001b[0m\u001b[0;34m.\u001b[0m\u001b[0mylabel\u001b[0m\u001b[0;34m(\u001b[0m\u001b[0;34m\"Number of candidates\"\u001b[0m\u001b[0;34m)\u001b[0m\u001b[0;34m\u001b[0m\u001b[0;34m\u001b[0m\u001b[0m\n",
            "\u001b[0;32m<ipython-input-22-bd314c9f3adf>\u001b[0m in \u001b[0;36m<listcomp>\u001b[0;34m(.0)\u001b[0m\n\u001b[0;32m----> 1\u001b[0;31m \u001b[0msizes\u001b[0m \u001b[0;34m=\u001b[0m \u001b[0;34m[\u001b[0m\u001b[0msum\u001b[0m\u001b[0;34m(\u001b[0m\u001b[0mel\u001b[0m\u001b[0;34m[\u001b[0m\u001b[0;36m1\u001b[0m\u001b[0;34m:\u001b[0m\u001b[0;34m]\u001b[0m\u001b[0;34m)\u001b[0m \u001b[0;32mfor\u001b[0m \u001b[0mel\u001b[0m \u001b[0;32min\u001b[0m \u001b[0mson_pcy_candidates\u001b[0m\u001b[0;34m]\u001b[0m\u001b[0;34m\u001b[0m\u001b[0;34m\u001b[0m\u001b[0m\n\u001b[0m\u001b[1;32m      2\u001b[0m \u001b[0mplt\u001b[0m\u001b[0;34m.\u001b[0m\u001b[0mplot\u001b[0m\u001b[0;34m(\u001b[0m\u001b[0mh\u001b[0m\u001b[0;34m,\u001b[0m \u001b[0msizes\u001b[0m\u001b[0;34m,\u001b[0m \u001b[0;34m\"g-o\"\u001b[0m\u001b[0;34m)\u001b[0m\u001b[0;34m\u001b[0m\u001b[0;34m\u001b[0m\u001b[0m\n\u001b[1;32m      3\u001b[0m \u001b[0mplt\u001b[0m\u001b[0;34m.\u001b[0m\u001b[0mticklabel_format\u001b[0m\u001b[0;34m(\u001b[0m\u001b[0museOffset\u001b[0m\u001b[0;34m=\u001b[0m\u001b[0;32mFalse\u001b[0m\u001b[0;34m,\u001b[0m \u001b[0mstyle\u001b[0m\u001b[0;34m=\u001b[0m\u001b[0;34m'plain'\u001b[0m\u001b[0;34m)\u001b[0m\u001b[0;34m\u001b[0m\u001b[0;34m\u001b[0m\u001b[0m\n\u001b[1;32m      4\u001b[0m \u001b[0mplt\u001b[0m\u001b[0;34m.\u001b[0m\u001b[0mxlabel\u001b[0m\u001b[0;34m(\u001b[0m\u001b[0;34m\"Hash table size\"\u001b[0m\u001b[0;34m)\u001b[0m\u001b[0;34m\u001b[0m\u001b[0;34m\u001b[0m\u001b[0m\n\u001b[1;32m      5\u001b[0m \u001b[0mplt\u001b[0m\u001b[0;34m.\u001b[0m\u001b[0mylabel\u001b[0m\u001b[0;34m(\u001b[0m\u001b[0;34m\"Number of candidates\"\u001b[0m\u001b[0;34m)\u001b[0m\u001b[0;34m\u001b[0m\u001b[0;34m\u001b[0m\u001b[0m\n",
            "\u001b[0;31mTypeError\u001b[0m: unsupported operand type(s) for +: 'int' and 'list'"
          ]
        },
        {
          "output_type": "stream",
          "text": [
            "time: 21.8 ms (started: 2021-07-16 18:38:03 +00:00)\n"
          ],
          "name": "stdout"
        }
      ]
    },
    {
      "cell_type": "code",
      "metadata": {
        "colab": {
          "base_uri": "https://localhost:8080/",
          "height": 313
        },
        "id": "uP9mQ_vhT5Oc",
        "outputId": "bd17ca77-b0cf-4cd7-b9c9-83d733a01332"
      },
      "source": [
        "sizes = [sum(el[1:]) for el in son_pcy_candidates]\n",
        "plt.plot(h, sizes, \"g-o\")\n",
        "plt.ticklabel_format(useOffset=False, style='plain')\n",
        "plt.xlabel(\"Hash table size\")\n",
        "plt.ylabel(\"Number of candidates\")\n",
        "plt.title(\"SON PCY\")\n",
        "plt.show()"
      ],
      "execution_count": null,
      "outputs": [
        {
          "output_type": "display_data",
          "data": {
            "image/png": "[encoded data removed]",
            "text/plain": [
              "<Figure size 432x288 with 1 Axes>"
            ]
          },
          "metadata": {
            "tags": [],
            "needs_background": "light"
          }
        },
        {
          "output_type": "stream",
          "text": [
            "time: 278 ms (started: 2021-07-13 21:19:03 +00:00)\n"
          ],
          "name": "stdout"
        }
      ]
    },
    {
      "cell_type": "markdown",
      "metadata": {
        "id": "bbb077M8se2B"
      },
      "source": [
        "# TOIVONEN execution"
      ]
    },
    {
      "cell_type": "code",
      "metadata": {
        "id": "J0VE6-01cuRF"
      },
      "source": [
        "t = 333 #taking 1/6 of the total size\n",
        "#Chunk size in rows\n",
        "N = 600367\n",
        "\n",
        "sample = create_sample(1/6)\n",
        "c_dict = dict.fromkeys(APRIORI_TOIVONEN(t, sample), 0)\n",
        "nb = dict.fromkeys(negative_border(c_dict, sample), 0)\n",
        "with open(txt) as f:\n",
        "  counter = 0\n",
        "  basket = next(f, None)\n",
        "  while basket != None:\n",
        "    basket = [int(x) for x in basket.strip().split(',')]\n",
        "    candidates_nb_update(basket)\n",
        "    basket = next(f, None)\n",
        "\n",
        "t2 = 2000 #Total threshold over the whole dataset\n",
        "buleano = True\n",
        "for frequency in nb.values():\n",
        "  if (frequency >= t2):\n",
        "    buleano = False\n",
        "    break\n",
        "if (buleano):\n",
        "  c_dict = {k:v for k,v in c_dict.items() if v >= t2}\n",
        "  print(\"V\")\n",
        "else:\n",
        "  print(\"E\")"
      ],
      "execution_count": null,
      "outputs": []
    },
    {
      "cell_type": "markdown",
      "metadata": {
        "id": "qSYiS2pprboD"
      },
      "source": [
        "# Negative border size changing threshold"
      ]
    },
    {
      "cell_type": "code",
      "metadata": {
        "colab": {
          "base_uri": "https://localhost:8080/"
        },
        "id": "2VTlLX3Erg9E",
        "outputId": "a8858e1d-d920-4edf-9e00-2a18d690814f"
      },
      "source": [
        "thresholds = [x for x in range(1500, 4000, 500)]\n",
        "N = 600367\n",
        "sample = create_sample(N)\n",
        "toivonen_nb_sizes = []\n",
        "for t in thresholds:\n",
        "  #Apriori\n",
        "  c_dict = dict.fromkeys(APRIORI_TOIVONEN(t//6, sample), 0)\n",
        "  nb = dict.fromkeys(negative_border(c_dict, sample), 0)\n",
        "  toivonen_nb_sizes.append(len(nb))\n",
        "  with open(txt) as f:\n",
        "    counter = 0\n",
        "    basket = next(f, None)\n",
        "    while basket != None:\n",
        "      basket = [int(x) for x in basket.strip().split(',')]\n",
        "      candidates_nb_update(basket)\n",
        "      basket = next(f, None)\n",
        "\n",
        "  buleano = True\n",
        "  for frequency in nb.values():\n",
        "    if (frequency >= t):\n",
        "      buleano = False\n",
        "      break\n",
        "  if (buleano):\n",
        "    c_dict = {k:v for k,v in c_dict.items() if v >= t}\n",
        "    print(\"Frequent candidates found\")\n",
        "  else:\n",
        "    print(\"No answer\")"
      ],
      "execution_count": null,
      "outputs": [
        {
          "output_type": "stream",
          "text": [
            "No answer\n",
            "No answer\n",
            "No answer\n",
            "No answer\n",
            "No answer\n",
            "time: 22min 33s (started: 2021-07-15 09:34:10 +00:00)\n"
          ],
          "name": "stdout"
        }
      ]
    },
    {
      "cell_type": "code",
      "metadata": {
        "colab": {
          "base_uri": "https://localhost:8080/",
          "height": 312
        },
        "id": "-6lymdq1srhN",
        "outputId": "930886d5-f470-4682-8682-f3fca55568b9"
      },
      "source": [
        "plt.plot(thresholds, toivonen_nb_sizes, \"-o\")\n",
        "plt.title(\"Negative Border\")\n",
        "plt.ylabel(\"NB size\")\n",
        "plt.xlabel(\"Threshold\")\n",
        "plt.show()"
      ],
      "execution_count": null,
      "outputs": [
        {
          "output_type": "display_data",
          "data": {
            "image/png": "[encoded data removed]",
            "text/plain": [
              "<Figure size 432x288 with 1 Axes>"
            ]
          },
          "metadata": {
            "tags": [],
            "needs_background": "light"
          }
        },
        {
          "output_type": "stream",
          "text": [
            "time: 219 ms (started: 2021-07-15 09:58:42 +00:00)\n"
          ],
          "name": "stdout"
        }
      ]
    },
    {
      "cell_type": "code",
      "metadata": {
        "colab": {
          "base_uri": "https://localhost:8080/"
        },
        "id": "rylmTO8DUB98",
        "outputId": "e1bccc16-f35a-47db-e055-099305e0d797"
      },
      "source": [
        "t = 2000\n",
        "fractions = list(map(lambda x: 1/x,range(6, 13)))\n",
        "\n",
        "for fract in fractions:\n",
        "  sample = create_sample(fract)\n",
        "  c_dict = dict.fromkeys(APRIORI_TOIVONEN(int(t*fract), sample), 0)\n",
        "  \n",
        "  nb = dict.fromkeys(negative_border(c_dict, sample), 0)\n",
        "\n",
        "  with open(txt) as f:\n",
        "    counter = 0\n",
        "    basket = next(f, None)\n",
        "    while basket != None:\n",
        "      basket = [int(x) for x in basket.strip().split(',')]\n",
        "      candidates_nb_update(basket)\n",
        "      basket = next(f, None)\n",
        "\n",
        "  buleano = True\n",
        "  for frequency in nb.values():\n",
        "    if (frequency >= t):\n",
        "      buleano = False\n",
        "      break\n",
        "  if (buleano):\n",
        "    c_dict = {k:v for k,v in c_dict.items() if v >= t}\n",
        "    print(f\"Frequent candidates found with fraction {str(Fraction(fract)}\")\n",
        "  else:\n",
        "    print(f\"No answer with fraction {str(Fraction(fract))}\")"
      ],
      "execution_count": null,
      "outputs": [
        {
          "output_type": "stream",
          "text": [
            "Frequent candidates found with fraction 0.16666666666666666\n"
          ],
          "name": "stdout"
        }
      ]
    }
  ]
}