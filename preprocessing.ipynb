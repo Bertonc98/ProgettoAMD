{
  "nbformat": 4,
  "nbformat_minor": 0,
  "metadata": {
    "colab": {
      "name": "preprocessing.ipynb",
      "provenance": []
    },
    "kernelspec": {
      "display_name": "Python 3",
      "language": "python",
      "name": "python3"
    },
    "language_info": {
      "codemirror_mode": {
        "name": "ipython",
        "version": 3
      },
      "file_extension": ".py",
      "mimetype": "text/x-python",
      "name": "python",
      "nbconvert_exporter": "python",
      "pygments_lexer": "ipython3",
      "version": "3.8.5"
    }
  },
  "cells": [
    {
      "cell_type": "code",
      "metadata": {
        "id": "7Xs1S3VcjVRk"
      },
      "source": [
        "import csv\n",
        "import json\n",
        "import sys\n",
        "import pandas as pd\n",
        "import os"
      ],
      "execution_count": 1,
      "outputs": []
    },
    {
      "cell_type": "code",
      "metadata": {
        "id": "zpEiOePhjVRo"
      },
      "source": [
        "def createBaskets(sourceFile, destFile):\n",
        "    tsv = csv.reader(open(sourceFile, encoding=\"utf-8\"), delimiter=\"\\t\")\n",
        "    print(sys.getsizeof(tsv))\n",
        "    c=0\n",
        "    keys = []\n",
        "    baskets = []\n",
        "    items = []\n",
        "    for row in tsv:\n",
        "        if row[3]==\"actor\" or row[3]==\"actress\":\n",
        "            \n",
        "            if row[2] not in items:\n",
        "                items.append(row[2])\n",
        "            pos = items.index(row[2])\n",
        "            \n",
        "            if row[0] in keys:\n",
        "                baskets[keys.index(row[0])] += [pos]\n",
        "            else:\n",
        "                keys += [row[0]]\n",
        "                baskets.append([pos])\n",
        "            if c==1000:\n",
        "                break;\n",
        "            c = c+1\n",
        "#     return keys, baskets\n",
        "    with open(destFile+\".csv\",\"w\") as f:\n",
        "        wr = csv.writer(f,delimiter=\";\")\n",
        "        for el in baskets:\n",
        "            wr.writerow(el)\n",
        "    with open(\"actorIdToInt.csv\",\"w\") as f:\n",
        "        wr = csv.writer(f,delimiter=\";\")\n",
        "        for el in items:\n",
        "            wr.writerow([el])\n",
        "    #json.dump(baskets, open(destFile+'.json', 'w'))\n",
        "    #json.dump(keys, open('actorIdToInt.json', 'w'))"
      ],
      "execution_count": null,
      "outputs": []
    },
    {
      "cell_type": "code",
      "metadata": {
        "id": "lza-t6UhjVRr",
        "outputId": "dee7a29a-a486-417a-8c17-302da501a756"
      },
      "source": [
        "createBaskets(\"data.tsv\", \"preprocessed\")"
      ],
      "execution_count": null,
      "outputs": [
        {
          "output_type": "stream",
          "text": [
            "96\n"
          ],
          "name": "stdout"
        }
      ]
    },
    {
      "cell_type": "code",
      "metadata": {
        "id": "vqIy5YOPjVRt",
        "outputId": "cc720a9e-27a0-4f7a-ff45-1850bf934b8a"
      },
      "source": [
        "loaded = json.load(open(\"preprocessed.json\", encoding=\"utf-8\"))\n",
        "print(loaded)"
      ],
      "execution_count": null,
      "outputs": [
        {
          "output_type": "stream",
          "text": [
            "[[0, 1], [2, 3], [4], [5, 6, 7], [8], [9, 10], [11, 12], [13], [14, 15, 16, 17], [18], [19], [20], [21], [21], [21], [21], [22], [23, 21], [19], [23, 24, 21], [19], [19], [19], [19], [19], [19], [25, 26, 27], [21], [28, 29, 21, 30], [21], [31], [23], [21], [32, 33, 34, 35, 36], [37, 38], [39, 40], [41], [37], [39, 40], [21], [23, 21], [41], [39], [21], [42, 43, 44, 23, 45], [23, 21], [23, 21], [21], [21], [46, 47, 48, 49], [37, 50], [21], [21], [51], [52, 53, 54], [31], [31], [31], [55], [41], [56], [57], [58, 59, 60], [41], [61, 56], [62, 63], [51, 64], [37, 38], [65], [66, 67], [57], [57], [68, 69, 70, 71, 72, 73], [74], [74], [31], [75, 76], [77, 78, 79], [21], [75, 76], [80], [81], [82, 83, 84, 85, 86, 87, 88], [75, 76], [31], [89], [90], [91, 92], [38], [93, 94, 95], [21], [74], [21, 96, 43, 97], [62, 63, 98, 99], [79], [79], [21], [31], [31], [100], [79], [61], [101, 102, 103, 104, 105, 106, 107], [21], [108, 109], [79], [110, 111, 112, 91], [37], [102], [21], [19], [21, 113, 43, 114, 115], [116, 117], [118], [119, 120, 121], [21], [122, 123, 124, 41, 125], [126], [127, 128, 129, 130, 131, 132, 133, 134], [98, 62, 135, 63, 136, 137], [21, 138, 23, 139], [102, 123, 140], [141, 142], [114, 143, 144, 145], [114], [146, 147], [148, 149, 150, 151, 152, 153, 154, 155], [156, 157], [158], [159, 160, 161, 162, 163, 164, 165], [166, 167, 168, 169, 170, 171, 172, 173], [174, 175, 176, 177, 178, 179], [140, 125], [158], [180, 181], [182, 183], [180, 184, 185, 181], [186, 149, 154, 187], [188], [181, 180, 189], [185], [122, 190], [41], [191, 181, 189], [180, 181, 185], [192, 193, 194, 195, 196, 197, 198, 199], [200, 201], [202, 200, 201, 203], [21], [189, 185], [204, 205, 206, 207], [208, 21], [181, 189], [209], [102], [210], [211, 212, 213, 214], [185, 215, 216, 181, 189, 217, 218], [219], [220], [191, 181, 189, 221, 185, 222], [223, 224], [225, 226, 227, 228], [181, 189, 221, 229, 230], [181, 189, 221, 185, 231], [216, 181, 189, 185, 229, 232], [157], [21], [233, 181, 234], [235, 236, 182], [233, 181, 237, 238], [41], [185], [239, 223, 224], [240, 241], [200], [242, 243, 244, 245], [236, 182, 183], [246, 247, 248, 249, 250, 251, 252], [253, 254, 255, 256, 257, 258], [157], [259, 260, 261, 262, 263, 264], [185, 221, 181, 216], [265, 266, 267, 268], [181], [269, 270], [271, 272, 273, 240, 274], [275], [224], [276, 277, 224, 278], [279, 239, 280, 281, 282], [239, 281, 283, 278, 280], [245], [284, 158, 285, 286, 287, 288, 289], [122, 290, 283, 190, 291, 292, 293], [211], [294, 295, 296, 297], [298, 239, 299, 276, 277, 223, 281], [277, 239, 276, 223], [300, 301, 298, 278, 283, 280, 239, 302], [303, 239, 301, 277, 223, 279, 304, 278], [281, 239, 298, 278, 279, 283], [305, 306, 307], [304, 283, 280, 308, 301, 223, 281, 309], [304, 283, 278, 239, 308, 211, 301], [310, 311], [276, 301, 277, 224, 304], [276, 223], [312, 313], [223, 276], [224, 278, 239, 281, 301, 314, 223], [279, 281, 278, 283, 301, 314, 315], [316, 317, 318, 319, 320, 321, 289, 322], [277, 276], [298, 283, 323, 281, 314, 280, 301, 279], [21], [276, 239, 277], [304, 283, 239, 314, 301, 223, 279, 324], [325, 326, 327, 328], [304, 279, 283, 278, 239, 301, 223, 324], [247, 329], [330, 331, 332, 160, 333, 277], [158, 334], [182], [278, 335, 301, 279, 283, 304, 324], [158, 336, 240, 337, 289, 322], [338], [339, 158], [290, 312, 313, 340], [341, 342, 343, 344], [276, 277], [278, 277, 224], [324, 301, 278, 239, 299, 315, 298], [283, 304, 278, 301, 239, 345, 315, 281], [346, 278, 239, 279, 223, 301, 298], [275], [278, 301, 315, 281], [281, 278, 301, 239, 315, 279], [347], [348, 349, 350], [304, 281, 278, 211, 301, 279, 283, 351], [352, 351, 279, 298, 281, 239, 308], [149, 328, 353, 187], [304, 279, 354, 301, 281, 355, 356], [283, 301, 277, 309, 304, 278], [223, 357, 239, 358, 278, 279, 345, 301], [277, 223], [276], [276, 211, 277, 359, 224, 278], [351, 281, 278, 283, 301, 239, 279], [279, 283, 301, 356], [276, 277, 224, 304], [360, 361, 290, 190], [278, 276, 299, 277, 301], [278, 277, 239, 224], [277, 239, 304], [290, 275], [102], [276, 352, 224], [340, 190, 362, 122, 360, 363, 283], [301, 239, 281, 278], [276, 277, 301, 211, 224, 304], [167, 166], [364, 365, 366, 367, 368, 369], [370, 190, 340, 290, 122], [276, 223], [224, 314, 278, 276, 301, 223, 371], [281, 278, 301, 279, 283, 324, 304], [324, 314, 283, 304, 301, 281, 279], [372, 314, 283, 324, 357, 239, 224], [277], [276, 277, 304], [190, 370, 373, 122, 374, 291, 375, 376], [276], [377, 299, 276, 304, 224, 378, 379], [380], [309, 301, 239, 281, 279, 283], [279, 335, 278, 283, 301, 239, 281], [277, 276, 239], [223, 224, 277], [278, 283, 304, 276], [224, 283, 281, 239, 381, 301, 279], [281, 382, 239, 301, 278], [383, 384, 277, 385], [278, 190, 299, 290, 370, 386, 283, 122], [247, 248, 246, 249], [387, 283, 301, 280, 314, 359, 281, 279], [276, 211], [360, 122, 283, 374, 388, 362, 291, 389], [299, 276, 277, 224, 304, 278], [299, 190], [390, 391, 181, 189], [181, 391], [181, 392, 391, 393], [387, 314, 283, 239, 301, 223, 279, 309], [299, 223], [301, 283, 239, 223, 304, 278], [304, 277, 276, 239, 211, 301, 224], [275], [278, 283, 239, 280, 301, 314, 281], [391, 181, 189, 218, 229, 222, 232], [21], [283, 279, 239, 278], [301, 276, 299, 298, 278, 394], [298, 279, 283, 278, 301, 239, 223, 281], [224, 276, 211, 223, 304, 278], [177, 395], [396, 397, 398, 399], [312, 340], [283, 304, 279, 223, 345, 301, 359], [283, 281, 278, 239, 280]]\n"
          ],
          "name": "stdout"
        }
      ]
    },
    {
      "cell_type": "code",
      "metadata": {
        "colab": {
          "resources": {
            "http://localhost:8080/nbextensions/google.colab/files.js": {
              "data": "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",
              "ok": true,
              "headers": [
                [
                  "content-type",
                  "application/javascript"
                ]
              ],
              "status": 200,
              "status_text": ""
            }
          },
          "base_uri": "https://localhost:8080/",
          "height": 361
        },
        "id": "LYf8LEHnjVRt",
        "outputId": "e996ba57-b51d-4045-f544-0b700d776ebf"
      },
      "source": [
        "!apt-get install openjdk-8-jdk-headless -qq > /dev/null\n",
        "!wget -q https://downloads.apache.org/spark/spark-3.1.1/spark-3.1.1-bin-hadoop3.2.tgz    \n",
        "!tar xf spark-3.1.1-bin-hadoop3.2.tgz\n",
        "!pip3 install -q findspark\n",
        "!pip3 install -q pyspark\n",
        "!pip3 install -q kaggle\n",
        "\n",
        "from google.colab import files\n",
        "files.upload()\n",
        "!mkdir -p ~/.kaggle\n",
        "!cp kaggle.json ~/.kaggle/\n",
        "!ls ~/.kaggle\n",
        "!chmod 600 /root/.kaggle/kaggle.json\n",
        "\n",
        "# print(\"Upload sample file\")\n",
        "# files.upload()\n",
        "!kaggle datasets files \"ashirwadsangwan/imdb-dataset\"\n",
        "!kaggle datasets download \"ashirwadsangwan/imdb-dataset\" -f \"title.principals.tsv.gz\"\n",
        "!unzip \"title.principals.tsv.gz.zip\"\n",
        "!rm \"title.principals.tsv.gz.zip\"\n",
        "!gunzip -k \"title.principals.tsv.gz\"\n",
        "!rm \"title.principals.tsv.gz\""
      ],
      "execution_count": 2,
      "outputs": [
        {
          "output_type": "stream",
          "text": [
            "\u001b[K     |████████████████████████████████| 212.3MB 60kB/s \n",
            "\u001b[K     |████████████████████████████████| 204kB 16.6MB/s \n",
            "\u001b[?25h  Building wheel for pyspark (setup.py) ... \u001b[?25l\u001b[?25hdone\n"
          ],
          "name": "stdout"
        },
        {
          "output_type": "display_data",
          "data": {
            "text/html": [
              "\n",
              "     <input type=\"file\" id=\"files-cbe23048-f8b8-491e-84d5-98bce41e3eab\" name=\"files[]\" multiple disabled\n",
              "        style=\"border:none\" />\n",
              "     <output id=\"result-cbe23048-f8b8-491e-84d5-98bce41e3eab\">\n",
              "      Upload widget is only available when the cell has been executed in the\n",
              "      current browser session. Please rerun this cell to enable.\n",
              "      </output>\n",
              "      <script src=\"/nbextensions/google.colab/files.js\"></script> "
            ],
            "text/plain": [
              "<IPython.core.display.HTML object>"
            ]
          },
          "metadata": {
            "tags": []
          }
        },
        {
          "output_type": "stream",
          "text": [
            "Saving kaggle.json to kaggle.json\n",
            "kaggle.json\n",
            "Warning: Looks like you're using an outdated API Version, please consider updating (server 1.5.12 / client 1.5.4)\n",
            "name                      size  creationDate         \n",
            "-----------------------  -----  -------------------  \n",
            "title.akas.tsv.gz        158MB  2019-11-18 18:36:47  \n",
            "name.basics.tsv.gz       180MB  2019-11-18 18:36:47  \n",
            "title.ratings.tsv.gz       5MB  2019-11-18 18:36:47  \n",
            "title.principals.tsv.gz  290MB  2019-11-18 18:36:47  \n",
            "title.basics.tsv.gz      108MB  2019-11-18 18:36:47  \n",
            "Downloading title.principals.tsv.gz.zip to /content\n",
            " 99% 285M/287M [00:02<00:00, 63.8MB/s]\n",
            "100% 287M/287M [00:02<00:00, 101MB/s] \n",
            "Archive:  title.principals.tsv.gz.zip\n",
            "  inflating: title.principals.tsv.gz  \n"
          ],
          "name": "stdout"
        }
      ]
    },
    {
      "cell_type": "code",
      "metadata": {
        "id": "CRV-pFU7nl8Q"
      },
      "source": [
        "os.environ[\"JAVA_HOME\"] = \"/usr/lib/jvm/java-8-openjdk-amd64\"\n",
        "os.environ[\"SPARK_HOME\"] = \"/content/spark-3.1.1-bin-hadoop3.2\"\n",
        "\n",
        "home = os.environ[\"SPARK_HOME\"]\n",
        "os.environ[\"PYTHONPATH\"] = home+\"/python\"+home+\"/python/lib/py4j-0.10.9-src.zip:\"+os.environ[\"PYTHONPATH\"]"
      ],
      "execution_count": 3,
      "outputs": []
    },
    {
      "cell_type": "code",
      "metadata": {
        "id": "nj2Stk8SjVRu"
      },
      "source": [
        "import findspark\n",
        "from pyspark.sql import SparkSession\n",
        "import pyspark\n",
        "from pyspark import SparkConf\n",
        "findspark.init()\n",
        "conf = SparkConf()\n",
        "conf.set(\"spark.driver.memory\", \"5g\")\n",
        "conf.set(\"spark.executor.memory\", \"5g\")\n",
        "spark = SparkSession.builder.config(conf = conf).master(\"local[*]\").getOrCreate()"
      ],
      "execution_count": 4,
      "outputs": []
    },
    {
      "cell_type": "code",
      "metadata": {
        "id": "ImqZKjluxmRC"
      },
      "source": [
        "sourceFile = 'title.principals.tsv'\n",
        "\n",
        "data = spark.read.options(delimiter = \"\\t\", header=True).csv(sourceFile)\n",
        "\n",
        "from pyspark.sql.window import Window\n",
        "\n",
        "from pyspark.sql.functions import monotonically_increasing_id,row_number\n",
        "\n",
        "rdd_result = data.select(['nconst', 'category'])\\\n",
        "            .where(\"category == 'actress' or category == 'actor' \")\\\n",
        "            .select(['nconst'])\\\n",
        "            .distinct()\n",
        "\n",
        "rdd_result = rdd_result.withColumn(\"idx\",row_number().over(Window.orderBy(monotonically_increasing_id())))\n"
      ],
      "execution_count": 7,
      "outputs": []
    },
    {
      "cell_type": "code",
      "metadata": {
        "id": "dOwTBoHkJNg2"
      },
      "source": [
        "#rdd_result.toJSON().saveAsTextFile('actorIdToInt.json')\n",
        "\n",
        "# with open('actorIdToInt.json', 'w') as outfile:\n",
        "#     json.dump(j, outfile)"
      ],
      "execution_count": null,
      "outputs": []
    },
    {
      "cell_type": "code",
      "metadata": {
        "id": "PNx2es-PyJjG"
      },
      "source": [
        "# from pyspark.sql import SQLContext\n",
        "# sqlContext = SQLContext(spark)\n",
        "# df = sqlContext.createDataFrame(res, ['item', 'value']).select('item')\n",
        "# df.coalesce(1).write.format('com.databricks.spark.csv').save(\"folder.csv\")"
      ],
      "execution_count": null,
      "outputs": []
    },
    {
      "cell_type": "code",
      "metadata": {
        "id": "wg9C8d_468yJ"
      },
      "source": [
        "# !mv folder.csv/*.csv actorIdToInt"
      ],
      "execution_count": null,
      "outputs": []
    },
    {
      "cell_type": "code",
      "metadata": {
        "id": "nJU7dJnP1i-f"
      },
      "source": [
        "# !rm -rf actorIdToInt.csv/"
      ],
      "execution_count": null,
      "outputs": []
    },
    {
      "cell_type": "markdown",
      "metadata": {
        "id": "ikFnITsQxnJD"
      },
      "source": [
        "Create preprocessed file"
      ]
    },
    {
      "cell_type": "code",
      "metadata": {
        "colab": {
          "base_uri": "https://localhost:8080/"
        },
        "id": "bUbdH6a5jVRv",
        "outputId": "8d36b722-9142-44a2-f06c-d31c41d6a825"
      },
      "source": [
        "# sourceFile = 'title.principals.tsv'\n",
        "\n",
        "# data = spark.read.options(delimiter = \";\", header=True).csv(sourceFile)\n",
        "\n",
        "# #Get a list of actorIDs, their position is the encoding\n",
        "# actorToId = [el._c0 for el in spark.read.options(delimiter = \";\", header=False).csv(\"actorIdToInt.csv\").collect()]"
      ],
      "execution_count": null,
      "outputs": [
        {
          "output_type": "execute_result",
          "data": {
            "text/plain": [
              "list"
            ]
          },
          "metadata": {
            "tags": []
          },
          "execution_count": 39
        }
      ]
    },
    {
      "cell_type": "code",
      "metadata": {
        "id": "JCTrxZrOMcwW"
      },
      "source": [
        "#dictionary = rdd_result.toJSON().collect()\n",
        "dictionary = {key:value for (key, value) in rdd_result.collect()}\n"
      ],
      "execution_count": 8,
      "outputs": []
    },
    {
      "cell_type": "code",
      "metadata": {
        "id": "2OIEKc7VtoOs"
      },
      "source": [
        "\n",
        "filter_actors = lambda row: row[\"category\"] in [\"actor\", \"actress\"]\n",
        "\n",
        "map_actors = lambda row: (row[\"tconst\"], dictionary[row[\"nconst\"]]) \n",
        "\n",
        "rdd_basketId = data.rdd.filter(filter_actors).map(map_actors).groupByKey().mapValues(list).values()\n",
        "# res = rdd_basketId.collect()\n",
        "# with open('preprocessed.csv', 'w', newline='') as f:\n",
        "#     writer = csv.writer(f, delimiter=\";\")\n",
        "#     writer.writerows(res)\n",
        "# rdd_basketId.saveAsTextFile('preprocesed.csv')"
      ],
      "execution_count": 12,
      "outputs": []
    },
    {
      "cell_type": "code",
      "metadata": {
        "colab": {
          "base_uri": "https://localhost:8080/"
        },
        "id": "2UHo7O-50eZC",
        "outputId": "f13265ab-d120-4a04-927f-6476dba69b58"
      },
      "source": [
        "# data = spark.read.options(delimiter = \";\", header=True).csv(\"preprocessed.csv\")\n",
        "rdd_basketId.cache()"
      ],
      "execution_count": 13,
      "outputs": [
        {
          "output_type": "execute_result",
          "data": {
            "text/plain": [
              "PythonRDD[37] at RDD at PythonRDD.scala:53"
            ]
          },
          "metadata": {
            "tags": []
          },
          "execution_count": 13
        }
      ]
    },
    {
      "cell_type": "code",
      "metadata": {
        "colab": {
          "base_uri": "https://localhost:8080/"
        },
        "id": "rrX6fDQs3CGu",
        "outputId": "cdb32a5f-41ae-4783-efb9-b55439d67716"
      },
      "source": [
        "# rdd_basketId.take(10)\n",
        "\n",
        "rdd_basketId_flatten = rdd_basketId.flatMap(lambda x: [y for y in x])\n",
        "\n",
        "rdd_basketId_flatten.map(lambda item: (item, 1)).reduceByKey(lambda a, b: a+b).filter(lambda x: x[1]>30).take(10)"
      ],
      "execution_count": 39,
      "outputs": [
        {
          "output_type": "execute_result",
          "data": {
            "text/plain": [
              "[(673023, 179),\n",
              " (1858740, 127),\n",
              " (1437683, 253),\n",
              " (560898, 65),\n",
              " (1512771, 157),\n",
              " (1391169, 53),\n",
              " (1326299, 85),\n",
              " (990444, 50),\n",
              " (224393, 45),\n",
              " (1727804, 86)]"
            ]
          },
          "metadata": {
            "tags": []
          },
          "execution_count": 39
        }
      ]
    }
  ]
}