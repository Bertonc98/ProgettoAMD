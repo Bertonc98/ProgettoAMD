{
 "cells": [
  {
   "cell_type": "code",
   "execution_count": 12,
   "metadata": {},
   "outputs": [
    {
     "name": "stdout",
     "output_type": "stream",
     "text": [
      "name                      size  creationDate         \n",
      "-----------------------  -----  -------------------  \n",
      "title.principals.tsv.gz  290MB  2019-11-18 18:36:47  \n",
      "title.akas.tsv.gz        158MB  2019-11-18 18:36:47  \n",
      "title.ratings.tsv.gz       5MB  2019-11-18 18:36:47  \n",
      "name.basics.tsv.gz       180MB  2019-11-18 18:36:47  \n",
      "title.basics.tsv.gz      108MB  2019-11-18 18:36:47  \n"
     ]
    },
    {
     "name": "stderr",
     "output_type": "stream",
     "text": [
      "usage: kaggle [-h] [-v] {competitions,c,datasets,d,kernels,k,config} ...\n",
      "kaggle: error: unrecognized arguments: title.ratings.tsv.gz\n"
     ]
    }
   ],
   "source": [
    "!kaggle datasets files \"ashirwadsangwan/imdb-dataset\"\n",
    "!kaggle datasets download \"ashirwadsangwan/imdb-dataset\" --unzip -f \"title.ratings.tsv.gz\" "
   ]
  },
  {
   "cell_type": "code",
   "execution_count": 22,
   "metadata": {},
   "outputs": [],
   "source": [
    "import csv\n",
    "import json\n",
    "def createBaskets(sourceFile, destFile):\n",
    "    tsv = csv.reader(open(sourceFile, encoding=\"utf-8\"), delimiter=\"\\t\")\n",
    "    c=0\n",
    "    tuples = {}\n",
    "    for row in tsv:\n",
    "        if row[3]!=\"actor\" and row[3]!=\"actress\":\n",
    "            continue\n",
    "        if c == 0:\n",
    "            c = c+1\n",
    "            continue\n",
    "        if row[0] in tuples.keys():\n",
    "            tuples[row[0]] = tuples[row[0]] + [row[2]]\n",
    "        else:\n",
    "            tuples[row[0]] = [row[2]]\n",
    "\n",
    "        if c==101:\n",
    "            break;\n",
    "        c = c+1\n",
    "    json.dump(tuples, open(destFile+'.json', 'w'))"
   ]
  },
  {
   "cell_type": "code",
   "execution_count": 23,
   "metadata": {},
   "outputs": [],
   "source": [
    "createBaskets(\"data.tsv\", \"preprocessed\")"
   ]
  },
  {
   "cell_type": "code",
   "execution_count": 30,
   "metadata": {},
   "outputs": [
    {
     "data": {
      "text/plain": [
       "{'tt0000001': ['nm0005690', 'nm0374658'],\n",
       " 'tt0000002': ['nm0721526', 'nm1335271'],\n",
       " 'tt0000003': ['nm0721526', 'nm5442194', 'nm1335271', 'nm5442200'],\n",
       " 'tt0000004': ['nm0721526', 'nm1335271'],\n",
       " 'tt0000005': ['nm0443482', 'nm0653042', 'nm0005690', 'nm0249379'],\n",
       " 'tt0000006': ['nm0005690'],\n",
       " 'tt0000007': ['nm0179163',\n",
       "  'nm0183947',\n",
       "  'nm0005690',\n",
       "  'nm0374658',\n",
       "  'nm0249379'],\n",
       " 'tt0000008': ['nm0653028', 'nm0005690', 'nm0374658'],\n",
       " 'tt0000009': ['nm0063086', 'nm0183823', 'nm1309758', 'nm0085156'],\n",
       " 'tt0000010': ['nm0525910'],\n",
       " 'tt0000011': ['nm3692297', 'nm0804434'],\n",
       " 'tt0000012': ['nm2880396',\n",
       "  'nm9735580',\n",
       "  'nm0525900',\n",
       "  'nm9735581',\n",
       "  'nm0525908',\n",
       "  'nm0525910',\n",
       "  'nm9735579',\n",
       "  'nm9653419'],\n",
       " 'tt0000013': ['nm0525908', 'nm1715062', 'nm0525910'],\n",
       " 'tt0000014': ['nm0166380', 'nm0244989', 'nm0525910'],\n",
       " 'tt0000015': ['nm0721526'],\n",
       " 'tt0000016': ['nm0525900', 'nm9735581', 'nm0525910'],\n",
       " 'tt0000017': ['nm3691272', 'nm3692829', 'nm1587194', 'nm0804434'],\n",
       " 'tt0000018': ['nm3692071', 'nm0804434'],\n",
       " 'tt0000019': ['nm0932055'],\n",
       " 'tt0000020': ['nm0010291', 'nm0666972'],\n",
       " 'tt0000022': ['nm0525910'],\n",
       " 'tt0000023': ['nm0525910'],\n",
       " 'tt0000024': ['nm0256651', 'nm0435118', 'nm0010291', 'nm0666972'],\n",
       " 'tt0000025': ['nm0010291', 'nm0666972'],\n",
       " 'tt0000026': ['nm2350007',\n",
       "  'nm0525907',\n",
       "  'nm1151424',\n",
       "  'nm2354154',\n",
       "  'nm0525910'],\n",
       " 'tt0000027': ['nm0525910'],\n",
       " 'tt0000028': ['nm2350838', 'nm0525908', 'nm0525910'],\n",
       " 'tt0000029': ['nm0525908', 'nm0525900', 'nm2350838', 'nm0525910'],\n",
       " 'tt0000030': ['nm0010291', 'nm0666972'],\n",
       " 'tt0000031': ['nm0525910'],\n",
       " 'tt0000032': ['nm3692479', 'nm0804434'],\n",
       " 'tt0000033': ['nm0525910'],\n",
       " 'tt0000034': ['nm0617588'],\n",
       " 'tt0000035': ['nm0617588'],\n",
       " 'tt0000036': ['nm0420198', 'nm0005690', 'nm0410331', 'nm0005658'],\n",
       " 'tt0000037': ['nm0617588'],\n",
       " 'tt0000038': ['nm2960633', 'nm0340719', 'nm2958402', 'nm0374658'],\n",
       " 'tt0000039': ['nm0666972'],\n",
       " 'tt0000040': ['nm0617588'],\n",
       " 'tt0000041': ['nm0525910', 'nm0525908'],\n",
       " 'tt0000042': ['nm0617588'],\n",
       " 'tt0000043': ['nm0617588']}"
      ]
     },
     "execution_count": 30,
     "metadata": {},
     "output_type": "execute_result"
    }
   ],
   "source": [
    "loaded = json.load(open(\"preprocessed.json\", encoding=\"utf-8\"))"
   ]
  },
  {
   "cell_type": "code",
   "execution_count": 24,
   "metadata": {},
   "outputs": [
    {
     "name": "stdout",
     "output_type": "stream",
     "text": [
      "['nm0617588', 'Georges Méliès', '1861', '1938', 'director,actor,producer', 'tt0000499,tt0002113,tt0000091,tt0223267']\n"
     ]
    }
   ],
   "source": [
    "tsv = csv.reader(open(\"name.tsv\", encoding=\"utf-8\"), delimiter=\"\\t\")\n",
    "for row in tsv:\n",
    "    if row[0] == \"nm0617588\":\n",
    "        print(row)"
   ]
  }
 ],
 "metadata": {
  "kernelspec": {
   "display_name": "Python 3",
   "language": "python",
   "name": "python3"
  },
  "language_info": {
   "codemirror_mode": {
    "name": "ipython",
    "version": 3
   },
   "file_extension": ".py",
   "mimetype": "text/x-python",
   "name": "python",
   "nbconvert_exporter": "python",
   "pygments_lexer": "ipython3",
   "version": "3.8.5"
  }
 },
 "nbformat": 4,
 "nbformat_minor": 4
}
