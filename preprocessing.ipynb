{
  "nbformat": 4,
  "nbformat_minor": 0,
  "metadata": {
    "colab": {
      "name": "preprocessing.ipynb",
      "provenance": []
    },
    "kernelspec": {
      "display_name": "Python 3",
      "language": "python",
      "name": "python3"
    },
    "language_info": {
      "codemirror_mode": {
        "name": "ipython",
        "version": 3
      },
      "file_extension": ".py",
      "mimetype": "text/x-python",
      "name": "python",
      "nbconvert_exporter": "python",
      "pygments_lexer": "ipython3",
      "version": "3.8.5"
    }
  },
  "cells": [
    {
      "cell_type": "code",
      "metadata": {
        "id": "7Xs1S3VcjVRk"
      },
      "source": [
        "import csv\n",
        "import json\n",
        "import sys\n",
        "import pandas as pd\n",
        "import os\n",
        "import copy\n",
        "import math\n",
        "import json\n",
        "\n",
        "from collections import defaultdict\n",
        "import numpy as np\n",
        "import itertools as it\n"
      ],
      "execution_count": 2,
      "outputs": []
    },
    {
      "cell_type": "code",
      "metadata": {
        "colab": {
          "resources": {
            "http://localhost:8080/nbextensions/google.colab/files.js": {
              "data": "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",
              "ok": true,
              "headers": [
                [
                  "content-type",
                  "application/javascript"
                ]
              ],
              "status": 200,
              "status_text": ""
            }
          },
          "base_uri": "https://localhost:8080/",
          "height": 412
        },
        "id": "LYf8LEHnjVRt",
        "outputId": "49ec784b-97bd-4b3e-ea42-4f36f935506f"
      },
      "source": [
        "!apt-get install openjdk-8-jdk-headless -qq > /dev/null\n",
        "!wget -q https://downloads.apache.org/spark/spark-3.1.1/spark-3.1.1-bin-hadoop3.2.tgz    \n",
        "!tar xf spark-3.1.1-bin-hadoop3.2.tgz\n",
        "!pip3 install -q findspark\n",
        "!pip3 install -q pyspark\n",
        "!pip3 install -q kaggle\n",
        "!pip3 install bitmap\n",
        "from bitmap import BitMap\n",
        "\n",
        "from google.colab import files\n",
        "print(\"Upload kaggle.json to use kaggle APIs\")\n",
        "files.upload()\n",
        "!mkdir -p ~/.kaggle\n",
        "!cp kaggle.json ~/.kaggle/\n",
        "!ls ~/.kaggle\n",
        "!chmod 600 /root/.kaggle/kaggle.json\n",
        "\n",
        "# !curl -OL https://raw.githubusercontent.com/Bertonc98/ProgettoAMD/main/sample.csv\n",
        "\n",
        "!kaggle datasets files \"ashirwadsangwan/imdb-dataset\"\n",
        "!kaggle datasets download \"ashirwadsangwan/imdb-dataset\" -f \"title.principals.tsv.gz\"\n",
        "!unzip \"title.principals.tsv.gz.zip\"\n",
        "!rm \"title.principals.tsv.gz.zip\"\n",
        "!gunzip -k \"title.principals.tsv.gz\"\n",
        "!rm \"title.principals.tsv.gz\""
      ],
      "execution_count": 2,
      "outputs": [
        {
          "output_type": "stream",
          "text": [
            "\u001b[K     |████████████████████████████████| 212.3MB 68kB/s \n",
            "\u001b[K     |████████████████████████████████| 204kB 24.4MB/s \n",
            "\u001b[?25h  Building wheel for pyspark (setup.py) ... \u001b[?25l\u001b[?25hdone\n",
            "Requirement already satisfied: bitmap in /usr/local/lib/python3.7/dist-packages (0.0.7)\n",
            "Requirement already satisfied: future in /usr/local/lib/python3.7/dist-packages (from bitmap) (0.16.0)\n",
            "Upload kaggle.json to use kaggle APIs\n"
          ],
          "name": "stdout"
        },
        {
          "output_type": "display_data",
          "data": {
            "text/html": [
              "\n",
              "     <input type=\"file\" id=\"files-30d1229a-2c03-4e47-8d24-9703d2113912\" name=\"files[]\" multiple disabled\n",
              "        style=\"border:none\" />\n",
              "     <output id=\"result-30d1229a-2c03-4e47-8d24-9703d2113912\">\n",
              "      Upload widget is only available when the cell has been executed in the\n",
              "      current browser session. Please rerun this cell to enable.\n",
              "      </output>\n",
              "      <script src=\"/nbextensions/google.colab/files.js\"></script> "
            ],
            "text/plain": [
              "<IPython.core.display.HTML object>"
            ]
          },
          "metadata": {
            "tags": []
          }
        },
        {
          "output_type": "stream",
          "text": [
            "Saving kaggle.json to kaggle.json\n",
            "kaggle.json\n",
            "Warning: Looks like you're using an outdated API Version, please consider updating (server 1.5.12 / client 1.5.4)\n",
            "name                      size  creationDate         \n",
            "-----------------------  -----  -------------------  \n",
            "name.basics.tsv.gz       180MB  2019-11-18 18:36:47  \n",
            "title.basics.tsv.gz      108MB  2019-11-18 18:36:47  \n",
            "title.ratings.tsv.gz       5MB  2019-11-18 18:36:47  \n",
            "title.akas.tsv.gz        158MB  2019-11-18 18:36:47  \n",
            "title.principals.tsv.gz  290MB  2019-11-18 18:36:47  \n",
            "Downloading title.principals.tsv.gz.zip to /content\n",
            " 98% 280M/287M [00:05<00:00, 56.8MB/s]\n",
            "100% 287M/287M [00:05<00:00, 55.8MB/s]\n",
            "Archive:  title.principals.tsv.gz.zip\n",
            "  inflating: title.principals.tsv.gz  \n"
          ],
          "name": "stdout"
        }
      ]
    },
    {
      "cell_type": "code",
      "metadata": {
        "id": "CRV-pFU7nl8Q"
      },
      "source": [
        "os.environ[\"JAVA_HOME\"] = \"/usr/lib/jvm/java-8-openjdk-amd64\"\n",
        "os.environ[\"SPARK_HOME\"] = \"/content/spark-3.1.1-bin-hadoop3.2\"\n",
        "\n",
        "home = os.environ[\"SPARK_HOME\"]\n",
        "os.environ[\"PYTHONPATH\"] = home+\"/python\"+home+\"/python/lib/py4j-0.10.9-src.zip:\"+os.environ[\"PYTHONPATH\"]"
      ],
      "execution_count": 3,
      "outputs": []
    },
    {
      "cell_type": "code",
      "metadata": {
        "id": "nj2Stk8SjVRu"
      },
      "source": [
        "import findspark\n",
        "from pyspark.sql import SparkSession\n",
        "import pyspark\n",
        "from pyspark import SparkConf\n",
        "findspark.init()\n",
        "conf = SparkConf()\n",
        "conf.set(\"spark.driver.memory\", \"5g\")\n",
        "conf.set(\"spark.executor.memory\", \"5g\")\n",
        "spark = SparkSession.builder.config(conf = conf).master(\"local[*]\").getOrCreate()"
      ],
      "execution_count": 4,
      "outputs": []
    },
    {
      "cell_type": "code",
      "metadata": {
        "id": "ImqZKjluxmRC"
      },
      "source": [
        "sourceFile = 'title.principals.tsv'\n",
        "\n",
        "data = spark.read.options(delimiter = \"\\t\", header=True).csv(sourceFile)\n",
        "\n",
        "from pyspark.sql.window import Window\n",
        "\n",
        "from pyspark.sql.functions import monotonically_increasing_id,row_number\n",
        "\n",
        "rdd_result = data.select(['nconst', 'category'])\\\n",
        "            .where(\"category == 'actress' or category == 'actor' \")\\\n",
        "            .select(['nconst'])\\\n",
        "            .distinct()\n",
        "\n",
        "rdd_result = rdd_result.withColumn(\"idx\",row_number().over(Window.orderBy(monotonically_increasing_id())))\n",
        "\n",
        "#ALTERNATIVA\n",
        "# filter_actors = lambda row: row[\"category\"] in [\"actor\", \"actress\"]\n",
        "# map_actors = lambda row: (row[\"tconst\"], int(row[\"nconst\"][2:])) \n",
        "\n",
        "# rdd_basket = data.rdd.filter(filter_actors)\\\n",
        "#                  .map(map_actors)\\\n",
        "#                  .groupByKey()\\\n",
        "#                  .mapValues(list)\\\n",
        "#                  .values()"
      ],
      "execution_count": 5,
      "outputs": []
    },
    {
      "cell_type": "code",
      "metadata": {
        "id": "pnTeV3x8QZmv"
      },
      "source": [
        "sourceFile = 'title.principals.tsv'\n",
        "\n",
        "data = spark.read.options(delimiter = \"\\t\", header=True).csv(sourceFile)\n",
        "\n",
        "from pyspark.sql.window import Window\n",
        "\n",
        "from pyspark.sql.functions import monotonically_increasing_id,row_number\n",
        "\n",
        "\n"
      ],
      "execution_count": 5,
      "outputs": []
    },
    {
      "cell_type": "code",
      "metadata": {
        "id": "JCTrxZrOMcwW"
      },
      "source": [
        "# this dictionary maps all the items to an int\n",
        "itemToInt = {key:value for (key, value) in rdd_result.collect()}"
      ],
      "execution_count": 6,
      "outputs": []
    },
    {
      "cell_type": "code",
      "metadata": {
        "id": "2OIEKc7VtoOs"
      },
      "source": [
        "filter_actors = lambda row: row[\"category\"] in [\"actor\", \"actress\"]\n",
        "\n",
        "map_actors = lambda row: (row[\"tconst\"], itemToInt[row[\"nconst\"]]) \n",
        "\n",
        "rdd_basket = data.rdd.filter(filter_actors)\\\n",
        "                 .map(map_actors)\\\n",
        "                 .groupByKey()\\\n",
        "                 .mapValues(list)\\\n",
        "                 .values()\n",
        "# res = rdd_basketId.collect()\n",
        "# with open('preprocessed.csv', 'w', newline='') as f:\n",
        "#     writer = csv.writer(f, delimiter=\";\")\n",
        "#     writer.writerows(res)"
      ],
      "execution_count": 7,
      "outputs": []
    },
    {
      "cell_type": "code",
      "metadata": {
        "id": "IyFCSJti3taz"
      },
      "source": [
        "with open('intToItem.csv', 'w', encoding = \"utf-8\") as f:\n",
        "    writer = csv.writer(f, delimiter=\";\")\n",
        "    writer.writerows(zip(itemToInt.values(), itemToInt.keys()))\n",
        "del itemToInt"
      ],
      "execution_count": 8,
      "outputs": []
    },
    {
      "cell_type": "code",
      "metadata": {
        "id": "0Z3slbhWZpBZ"
      },
      "source": [
        "sample = rdd_basket.sample(False, 0.001)\n",
        "# sample.cache()"
      ],
      "execution_count": 6,
      "outputs": []
    },
    {
      "cell_type": "code",
      "metadata": {
        "colab": {
          "base_uri": "https://localhost:8080/"
        },
        "id": "xQhFC0RTRSCV",
        "outputId": "7eca2455-8b3d-4b9f-be78-313d6f49e1ae"
      },
      "source": [
        "sample.count()"
      ],
      "execution_count": 7,
      "outputs": [
        {
          "output_type": "execute_result",
          "data": {
            "text/plain": [
              "3605"
            ]
          },
          "metadata": {
            "tags": []
          },
          "execution_count": 7
        }
      ]
    },
    {
      "cell_type": "code",
      "metadata": {
        "id": "DWFUy7JwdFvp"
      },
      "source": [
        "# SON\n",
        "\n",
        "# phase 1 scan all baskets \n",
        "# -input: id_movie, list(int_actor)\n",
        "# -compute frequency (count)\n",
        "# -count combinations (size 2) into hashmap\n",
        "# -filter frequent singletons (count >= s)\n",
        "# -output: int_actor: count\n",
        "\n",
        "def hashF(element, size):\n",
        "    return hash(element)%size\n",
        "\n",
        "def get_combinations(basket, size):\n",
        "    return it.combinations(sorted(basket), size)\n",
        "\n",
        "def update_frequency(l, item):\n",
        "    if item + 1 > len(l):\n",
        "        l.extend((item+1-len(l))*[0])\n",
        "    l[item] += 1\n",
        "    \n",
        "def singleton_pairs_frequency(chunk, hash_size, threshold):\n",
        "    singleton_freq = []\n",
        "    hashmap = np.zeros(hash_size)\n",
        "    for basket in chunk:\n",
        "        basket = list(map(int, basket))\n",
        "        for item in basket:\n",
        "            update_frequency(singleton_freq, item)\n",
        "        for pair in get_combinations(basket, 2):\n",
        "            hashmap[hashF(pair, hash_size)] += 1\n",
        "    return filter_singletons(singleton_freq, threshold), hashmap\n",
        "\n",
        "# this function filter the given singletons with the absolute freqeuncy, deleting the ones with\n",
        "# frequency below the threshold\n",
        "def filter_singletons(singleton, threshold):\n",
        "    return [(iid,) for iid, freq in enumerate(singleton) if freq>threshold]    \n",
        "\n",
        "# this function collapse the hashmap given in input into a bitmap of size \"size\" and set a 1 in the bitmap if the value in\n",
        "# the hashmap is over the the given threshold\n",
        "def hash_to_bitmap(hashmap, size, threshold):\n",
        "    bmap = BitMap(size)\n",
        "    for position in range(len(hashmap)):\n",
        "        if hashmap[position] >= threshold:\n",
        "            bmap.set(position)\n",
        "    del hashmap\n",
        "    return bmap\n",
        "\n",
        "def get_joins(tuples, k):\n",
        "    #implement join in this way\n",
        "    #to obtain an element of lenght k:\n",
        "    #join 2 elements of length k-1 with the first k-1 elements in common\n",
        "    l = []\n",
        "    for i in range(len(tuples)-1):\n",
        "        for j in range(i+1, len(tuples)):\n",
        "            if(tuples[i][:k-2] == tuples[j][:k-2]):\n",
        "                l += [tuples[i] + tuples[j][k-2:]]\n",
        "    return l\n",
        "\n",
        "def get_kth(chunk, precedents, hash_size, bmap, threshold, k):\n",
        "#     tuple of length k with corresponding bitmap value = 1\n",
        "    kth = [tpl for tpl in get_joins(precedents, k) if bmap[hashF(tpl, hash_size)]]\n",
        "    \n",
        "#     counts the absolute frequency of the tuple in kth\n",
        "    counters = np.zeros(len(kth))\n",
        "#     hashmap for the tuples of length k+1\n",
        "    next_hashmap = np.zeros(hash_size)\n",
        "    \n",
        "    for basket in chunk:\n",
        "        basket = list(map(int, basket))\n",
        "        tpls = list(get_combinations(basket, k))\n",
        "        for i in range(len(kth)):\n",
        "            if kth[i] in tpls:\n",
        "                counters[i] += 1\n",
        "        for kth_tuples in get_combinations(basket, k+1):\n",
        "            next_hashmap[hashF(kth_tuples, hash_size)] += 1\n",
        "\n",
        "    return [kth[i] for i in range(len(kth)) if counters[i]>=threshold], next_hashmap\n"
      ],
      "execution_count": 7,
      "outputs": []
    },
    {
      "cell_type": "code",
      "metadata": {
        "id": "Xv-3FjDA1sib"
      },
      "source": [
        "def pcy(threshold, hash_size):\n",
        "# def main(chunk, threshold, hash_size):\n",
        "  def main(partition):\n",
        "      generator, chunk = it.tee(partition, 2)\n",
        "      frequent_sets = []\n",
        "\n",
        "  #     phase 1: compute frequency of singletons and pairs; filter nonfrequent singletons\n",
        "      singleton, hashmap = singleton_pairs_frequency(chunk, hash_size, threshold)\n",
        "  #     phase 2: collpse the hahsmap into a bitmap\n",
        "      bitmap = hash_to_bitmap(hashmap, hash_size, threshold)\n",
        "  #     phase 3\n",
        "  #     frequent_sets contains all the sets of all the kth length that are frequent\n",
        "  #     bitmap is the bitmap mapping the sets of length k+1\n",
        "  #     frequent_sets, bitmap = frequent_couple(data, singleton, hash_size, bitmap, threshold)\n",
        "      frequent_sets += singleton\n",
        "      \n",
        "      k = 2\n",
        "      result = [\"placeholder\"]\n",
        "      while result != []:\n",
        "          precedents = [i for i in frequent_sets if len(i) == k-1 ]\n",
        "          chunk = copy.copy(generator)\n",
        "          result, hashmap = get_kth(chunk, precedents, hash_size, bitmap, threshold, k)\n",
        "          bitmap = hash_to_bitmap(hashmap, hash_size, threshold)\n",
        "          frequent_sets = frequent_sets + result\n",
        "          print(\"Found frequent itemset of length: \",k)\n",
        "          k += 1\n",
        "          \n",
        "      return frequent_sets\n",
        "  return main"
      ],
      "execution_count": 8,
      "outputs": []
    },
    {
      "cell_type": "code",
      "metadata": {
        "id": "wKqNH4H32-Mk"
      },
      "source": [
        "p = 1/sample.getNumPartitions()\n",
        "#to fix\n",
        "s = math.ceil(sample.count()/1000)\n",
        "# threshold = math.ceil(0.95 * s * p)\n",
        "threshold = 1\n",
        "hash_size = 504\n",
        "candidates = sample.mapPartitions(pcy(threshold, hash_size))\\\n",
        "                   .map(lambda item: (1,[item]))\\\n",
        "                   .reduceByKey(lambda a, b: list(set(a + b )))\\\n",
        "                   .mapValues(list)\\\n",
        "                   .values()\\\n",
        "                   .collect()[0]"
      ],
      "execution_count": 9,
      "outputs": []
    },
    {
      "cell_type": "code",
      "metadata": {
        "id": "_GmaRxEiHdnS"
      },
      "source": [
        "def son(candidates):\n",
        "  def son_main(partition):\n",
        "    count = {item: 0 for item in candidates}\n",
        "    for basket in partition:\n",
        "      for c in candidates:\n",
        "          if c in get_combinations(basket, len(c)):\n",
        "            count[c] += 1\n",
        "    return [(k, v) for k, v in count.items()]\n",
        "  return son_main\n",
        "\n",
        "frequent = sample.mapPartitions(son(candidates))\\\n",
        "                 .reduceByKey(lambda a,b: a+b)\\\n",
        "                 .filter(lambda item: item[1] >= s)\\"
      ],
      "execution_count": 10,
      "outputs": []
    },
    {
      "cell_type": "code",
      "metadata": {
        "id": "-WZlRVjkHtYR"
      },
      "source": [
        "f = csv.reader(open(\"intToItem.csv\", encoding=\"utf-8\", newline=\"\\n\"), delimiter=\";\")\n",
        "intToItem = { int(k):v for (k, v) in f}"
      ],
      "execution_count": 15,
      "outputs": []
    },
    {
      "cell_type": "code",
      "metadata": {
        "id": "DBAvWudHWfMR"
      },
      "source": [
        "# def getItemIdFromInt(l):\n",
        "#   return [intToItem[k] for k in l[0]]\n",
        "def getItemIdFromInt(l):\n",
        "  return [\"nm\" + str(k).zfill(7) if len(str(k))<7 else  \"nm\" + str(k) for k in l[0]]\n",
        "\n",
        "frequentId = frequent.map(getItemIdFromInt)"
      ],
      "execution_count": 97,
      "outputs": []
    },
    {
      "cell_type": "code",
      "metadata": {
        "colab": {
          "base_uri": "https://localhost:8080/"
        },
        "id": "L9g2zehpJDqc",
        "outputId": "54350031-e571-4e83-fd70-0181142c9f3f"
      },
      "source": [
        "!kaggle datasets download \"ashirwadsangwan/imdb-dataset\" -f \"name.basics.tsv.gz\"\n",
        "!unzip \"name.basics.tsv.gz.zip\"\n",
        "!rm \"name.basics.tsv.gz.zip\"\n",
        "!gunzip -k \"name.basics.tsv.gz\"\n",
        "!rm \"name.basics.tsv.gz\""
      ],
      "execution_count": 18,
      "outputs": [
        {
          "output_type": "stream",
          "text": [
            "Downloading name.basics.tsv.gz.zip to /content\n",
            " 94% 169M/180M [00:03<00:00, 40.6MB/s]\n",
            "100% 180M/180M [00:03<00:00, 56.9MB/s]\n",
            "Archive:  name.basics.tsv.gz.zip\n",
            "  inflating: name.basics.tsv.gz      \n"
          ],
          "name": "stdout"
        }
      ]
    },
    {
      "cell_type": "code",
      "metadata": {
        "id": "hy5HeYS_LBqV"
      },
      "source": [
        "nameTable = spark.read.options(delimiter = \"\\t\", header=True).csv(\"name.basics.tsv\")\n",
        "# idName = {id:name for (id, name) in nameTable.select([\"nconst\",\"primaryName\"]).collect()}"
      ],
      "execution_count": 95,
      "outputs": []
    },
    {
      "cell_type": "code",
      "metadata": {
        "id": "hn5feAdR1khJ",
        "outputId": "8f7c82eb-d6a5-4456-b4d7-8d85686a8dda",
        "colab": {
          "base_uri": "https://localhost:8080/"
        }
      },
      "source": [
        "flattened_frequentId = frequentId.flatMap(lambda xs: [x for x in xs]).collect()\n",
        "\n",
        "nameTable = nameTable.filter(nameTable.nconst.isin(flattened_frequentId))\\\n",
        "                     .select([\"nconst\", \"primaryName\"])\n",
        "nameTable.cache()"
      ],
      "execution_count": 98,
      "outputs": [
        {
          "output_type": "execute_result",
          "data": {
            "text/plain": [
              "DataFrame[nconst: string, primaryName: string]"
            ]
          },
          "metadata": {
            "tags": []
          },
          "execution_count": 98
        }
      ]
    },
    {
      "cell_type": "code",
      "metadata": {
        "colab": {
          "base_uri": "https://localhost:8080/"
        },
        "id": "PE4ciAOIOeGg",
        "outputId": "4893f113-8a81-4131-a704-c1c1a57d1ed7"
      },
      "source": [
        "frequentId = frequentId.collect()\n",
        "basket_translated = []\n",
        "for basket in frequentId:\n",
        "  l = []\n",
        "  for id in basket:\n",
        "    l += [nameTable.select([\"nconst\", \"primaryName\"]).where(nameTable.nconst == id).collect()]\n",
        "  basket_translated.append(l)\n",
        "basket_translated"
      ],
      "execution_count": 99,
      "outputs": [
        {
          "output_type": "execute_result",
          "data": {
            "text/plain": [
              "[[[Row(nconst='nm10504225', primaryName='Sandipta Sen')]],\n",
              " [[Row(nconst='nm0210690', primaryName='Juca de Oliveira')]],\n",
              " [[Row(nconst='nm0261568', primaryName='Maria Estela')]],\n",
              " [[Row(nconst='nm0090894', primaryName='Bastián Bodenhöfer')]],\n",
              " [[Row(nconst='nm0135629', primaryName='Herson Capri')]],\n",
              " [[Row(nconst='nm0136994', primaryName='Macdonald Carey')],\n",
              "  [Row(nconst='nm0164818', primaryName='John Clarke')],\n",
              "  [Row(nconst='nm0717265', primaryName='Frances Reid')]],\n",
              " [[Row(nconst='nm0164818', primaryName='John Clarke')]],\n",
              " [[Row(nconst='nm0547647', primaryName='Margarida Marinho')]],\n",
              " [[Row(nconst='nm0785479', primaryName='Eduardo Serrano')]],\n",
              " [[Row(nconst='nm0510626', primaryName='Altair Lima')]],\n",
              " [[Row(nconst='nm0136994', primaryName='Macdonald Carey')],\n",
              "  [Row(nconst='nm0717265', primaryName='Frances Reid')]],\n",
              " [[Row(nconst='nm1518529', primaryName='Carolina Gómez')]],\n",
              " [[Row(nconst='nm0781899', primaryName='Pamela Adlon')]],\n",
              " [[Row(nconst='nm0102597', primaryName='Bartho Braat')]],\n",
              " [[Row(nconst='nm0683831', primaryName='Silvia Pinal')]],\n",
              " [[Row(nconst='nm0151534', primaryName='Sudha Chandran')]],\n",
              " [[Row(nconst='nm0576967', primaryName='Tarcísio Meira')]],\n",
              " [[Row(nconst='nm0609391', primaryName='Luis Eduardo Motoa')]],\n",
              " [[Row(nconst='nm3243311', primaryName='Karanvir Bohra')]],\n",
              " [[Row(nconst='nm0208296', primaryName='Rubens de Falco')]],\n",
              " [[Row(nconst='nm0045298', primaryName='Christian Bach')]],\n",
              " [[Row(nconst='nm0685123', primaryName='Glória Pires')]],\n",
              " [[Row(nconst='nm1336416', primaryName='Scott Clifton')]],\n",
              " [[Row(nconst='nm0180846', primaryName='Cláudio Corrêa e Castro')]],\n",
              " [[Row(nconst='nm0722863', primaryName='Isabel Ribeiro')]],\n",
              " [[Row(nconst='nm0037115', primaryName='Cliff Arquette')]],\n",
              " [[Row(nconst='nm0164818', primaryName='John Clarke')],\n",
              "  [Row(nconst='nm0717265', primaryName='Frances Reid')]],\n",
              " [[Row(nconst='nm0992986', primaryName='Kruttika Desai')]],\n",
              " [[Row(nconst='nm1288405', primaryName='Rafael Rosell')]],\n",
              " [[Row(nconst='nm3307985', primaryName='Zaijian Jaranilla')]],\n",
              " [[Row(nconst='nm0685142', primaryName='Paulo Pires')]],\n",
              " [[Row(nconst='nm0136994', primaryName='Macdonald Carey')]],\n",
              " [[Row(nconst='nm0717265', primaryName='Frances Reid')]],\n",
              " [[Row(nconst='nm0708802', primaryName='Tony Ramos')]],\n",
              " [[Row(nconst='nm0345324', primaryName='Maribel Guardia')]],\n",
              " [[Row(nconst='nm0643590', primaryName='Diether Ocampo')]],\n",
              " [[Row(nconst='nm6876590', primaryName='Enchantress Sahrye')]],\n",
              " [[Row(nconst='nm0224007', primaryName='John DiMaggio')]],\n",
              " [[Row(nconst='nm0485810', primaryName='Katherine Kelly Lang')]],\n",
              " [[Row(nconst='nm0333497', primaryName='Paulo Gracindo')]],\n",
              " [[Row(nconst='nm0136994', primaryName='Macdonald Carey')],\n",
              "  [Row(nconst='nm0164818', primaryName='John Clarke')]],\n",
              " [[Row(nconst='nm0525123', primaryName='Luz Stella Luengas')]],\n",
              " [[Row(nconst='nm0673205', primaryName='Rita Pereira')]],\n",
              " [[Row(nconst='nm0525123', primaryName='Luz Stella Luengas')],\n",
              "  [Row(nconst='nm0609391', primaryName='Luis Eduardo Motoa')]],\n",
              " [[Row(nconst='nm0028007', primaryName='Tuca Andrada')]],\n",
              " [[Row(nconst='nm0534809', primaryName='Malu Mader')]],\n",
              " [[Row(nconst='nm0929093', primaryName='José Wilker')]],\n",
              " [[Row(nconst='nm0747172', primaryName='Ronit Roy')]],\n",
              " [[Row(nconst='nm0932797', primaryName='Eva Wilma')]],\n",
              " [[Row(nconst='nm0070733', primaryName='Leonor Benedetto')]]]"
            ]
          },
          "metadata": {
            "tags": []
          },
          "execution_count": 99
        }
      ]
    },
    {
      "cell_type": "code",
      "metadata": {
        "colab": {
          "base_uri": "https://localhost:8080/"
        },
        "id": "fte1g3ebsVJk",
        "outputId": "03bcc63e-0809-47cf-eb76-6d0aa3d8a6db"
      },
      "source": [
        "frequentId"
      ],
      "execution_count": 78,
      "outputs": [
        {
          "output_type": "execute_result",
          "data": {
            "text/plain": [
              "[['nm10504225'],\n",
              " ['nm0210690'],\n",
              " ['nm0261568'],\n",
              " ['nm0090894'],\n",
              " ['nm0135629'],\n",
              " ['nm0136994', 'nm0164818', 'nm0717265'],\n",
              " ['nm0164818'],\n",
              " ['nm0547647'],\n",
              " ['nm0785479'],\n",
              " ['nm0510626'],\n",
              " ['nm0136994', 'nm0717265'],\n",
              " ['nm1518529'],\n",
              " ['nm0781899'],\n",
              " ['nm0102597'],\n",
              " ['nm0683831'],\n",
              " ['nm0151534'],\n",
              " ['nm0576967'],\n",
              " ['nm0609391'],\n",
              " ['nm3243311'],\n",
              " ['nm0208296'],\n",
              " ['nm0045298'],\n",
              " ['nm0685123'],\n",
              " ['nm1336416'],\n",
              " ['nm0180846'],\n",
              " ['nm0722863'],\n",
              " ['nm0037115'],\n",
              " ['nm0164818', 'nm0717265'],\n",
              " ['nm0992986'],\n",
              " ['nm1288405'],\n",
              " ['nm3307985'],\n",
              " ['nm0685142'],\n",
              " ['nm0136994'],\n",
              " ['nm0717265'],\n",
              " ['nm0708802'],\n",
              " ['nm0345324'],\n",
              " ['nm0643590'],\n",
              " ['nm6876590'],\n",
              " ['nm0224007'],\n",
              " ['nm0485810'],\n",
              " ['nm0333497'],\n",
              " ['nm0136994', 'nm0164818'],\n",
              " ['nm0525123'],\n",
              " ['nm0673205'],\n",
              " ['nm0525123', 'nm0609391'],\n",
              " ['nm0028007'],\n",
              " ['nm0534809'],\n",
              " ['nm0929093'],\n",
              " ['nm0747172'],\n",
              " ['nm0932797'],\n",
              " ['nm0070733']]"
            ]
          },
          "metadata": {
            "tags": []
          },
          "execution_count": 78
        }
      ]
    }
  ]
}