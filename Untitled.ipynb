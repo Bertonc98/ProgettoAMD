{
 "cells": [
  {
   "cell_type": "code",
   "execution_count": 2,
   "metadata": {},
   "outputs": [],
   "source": [
    "import json\n",
    "import csv\n",
    "from collections import defaultdict\n",
    "import numpy as np\n",
    "import itertools as it\n",
    "from bitmap import BitMap"
   ]
  },
  {
   "cell_type": "code",
   "execution_count": 2,
   "metadata": {},
   "outputs": [],
   "source": [
    "# phase 1 scan all baskets \n",
    "# -input: id_movie, list(int_actor)\n",
    "# -compute frequency (count)\n",
    "# -count combinations (size 2) into hashmap\n",
    "# -filter frequent singletons (count >= s)\n",
    "# -output: int_actor: count"
   ]
  },
  {
   "cell_type": "code",
   "execution_count": 3,
   "metadata": {},
   "outputs": [],
   "source": [
    "# read data\n",
    "data = json.load(open(\"preprocessed.json\", encoding=\"utf-8\"))"
   ]
  },
  {
   "cell_type": "code",
   "execution_count": 54,
   "metadata": {},
   "outputs": [
    {
     "data": {
      "text/plain": [
       "'000000010001101010010010000100010011100100101001000100111001101010010001001110010010000100011011100100101001000100101001001010011010001110010010100100010001000110100001001100110001001000010000001000011010100100001011100110101011000010110001101000110001101000001010100100011001000110101001001010111000101010010001001100010010100100000010100100101001000100110001001000010001001100111010100100010000000100101001000000111001001010010001001100000010101100000011100110101001000100111001101000010011000100010011'"
      ]
     },
     "execution_count": 54,
     "metadata": {},
     "output_type": "execute_result"
    }
   ],
   "source": [
    "def get_combinations(basket, size):\n",
    "    return it.combinations(sorted(basket), size)\n",
    "\n",
    "def hashF(el, size):\n",
    "    return el[0]**el[1]%size\n",
    "#     return hash(el)%size\n",
    "\n",
    "# this function computes the absolute frequency of an item in all the baskets and in the meanwhile\n",
    "# computes the absolute frequency of all the possible pairs in a basket mapped using an hashmap.\n",
    "# RETURNS: dictionary containing singleton frequency, the hashmap corresponding to the pairs frequency\n",
    "def singleton_pairs_frequency(data, hash_size):\n",
    "    #Contains the absolute frequency of an item in all the dataset, linked to the translated ID\n",
    "    singleton_freq = defaultdict(lambda: 0)\n",
    "    #Count pairs frequency\n",
    "    hashmap = np.zeros(hash_size)\n",
    "    for basket in data:\n",
    "        for item in basket:\n",
    "            singleton_freq[item] += 1\n",
    "        #combinations of basket and increment counter into hashmap\n",
    "        for pair in get_combinations(basket, 2):\n",
    "            hashmap[hashF(pair, hash_size)] += 1\n",
    "    return singleton_freq, hashmap\n",
    "\n",
    "# this function filter the given singletons with the absolute freqeuncy, deleting the ones with\n",
    "# frequency below the threshold\n",
    "def filter_singletons(singleton, threshold):\n",
    "    #filtering by frequency (singletons)\n",
    "    nItems = len(singleton)\n",
    "    pos = 0\n",
    "    while pos <= nItems:\n",
    "        if singleton[pos]<threshold:\n",
    "            del singleton[pos]\n",
    "        pos = pos + 1\n",
    "    return singleton\n",
    "\n",
    "# this function collapse the hashmap given in input into a bitmap of size \"size\" and set a 1 in the bitmap if the value in\n",
    "# the hashmap is over the the given threshold\n",
    "def hash_to_bitmap(hashmap, size, threshold):\n",
    "    bmap = BitMap(size)\n",
    "    for position in range(len(hashmap)):\n",
    "        if hashmap[position] >= threshold:\n",
    "            bmap.set(position)\n",
    "    return bmap\n",
    "\n",
    "###########################################################################################################################\n",
    "\n",
    "threshold = 2\n",
    "hash_size = 500\n",
    "# phase 1: compute frequency of singletons and pairs; filter nonfrequent singletons\n",
    "singleton, hashmap = singleton_pairs_frequency(data, hash_size)\n",
    "singleton = filter_singletons(singleton, threshold)\n",
    "# phase 2: collpse the hahsmap into a bitmap\n",
    "bitmap = hash_to_bitmap(hashmap, hash_size, threshold)\n",
    "bitmap.tostring()"
   ]
  },
  {
   "cell_type": "code",
   "execution_count": 86,
   "metadata": {},
   "outputs": [],
   "source": [
    "# phase 3\n",
    "# -scan all baskets to remove FP:\n",
    "# ---read all baskets: for each basket compute pairs with 1 in bitmap\n",
    "# ---for each couple compute frequency\n",
    "# ---filter each couple (count > s)"
   ]
  },
  {
   "cell_type": "code",
   "execution_count": 87,
   "metadata": {},
   "outputs": [],
   "source": [
    "# compute every pairs of frequent singletons\n",
    "# if the hash of a pair indicates a position in bitmap with \"1\", check how many times it appears in baskets\n",
    "# otehrwise not consider this pair\n",
    "# generare coppie dai singleton, filtrarle per chi ha 1 nella bitmap, cercare in data solo quelli sopravvissuti"
   ]
  },
  {
   "cell_type": "code",
   "execution_count": 88,
   "metadata": {},
   "outputs": [
    {
     "data": {
      "text/plain": [
       "[(21, 23), (39, 40)]"
      ]
     },
     "execution_count": 88,
     "metadata": {},
     "output_type": "execute_result"
    }
   ],
   "source": [
    "singletons = actor_freq.keys()\n",
    "pairs = []\n",
    "\n",
    "for pair in it.combinations(singletons, 2):\n",
    "    if bmap[hashF(pair)]:\n",
    "        pairs.append(pair)\n",
    "counters = np.zeros(len(pairs))\n",
    "#transalte items in basket into their codification, sort them and return the list of combination of size \"size\"\n",
    "def get_combinations(basket, size):\n",
    "    return it.combinations(sorted([nameToInt[el] for el in basket]), size)\n",
    "\n",
    "for basket in data.values():\n",
    "    couples = list(get_combinations(basket,2))\n",
    "    #print(couples)\n",
    "    for i in range(len(pairs)):\n",
    "        if pairs[i] in couples:\n",
    "            counters[i] += 1\n",
    "\n",
    "[pairs[i] for i in range(len(pairs)) if counters[i]>=threshold]"
   ]
  },
  {
   "cell_type": "code",
   "execution_count": 124,
   "metadata": {},
   "outputs": [
    {
     "name": "stdout",
     "output_type": "stream",
     "text": [
      "[['Auguste Lumière', 'Jules-Eugène Legris'], ['J. Stuart Blackton', 'Ferdinand Gýra']]\n"
     ]
    }
   ],
   "source": [
    "import csv\n",
    "def intToActor(integers):\n",
    "    counter = 0\n",
    "    ids = [tuple([list(nameToInt.keys())[item] for item in couple]) for couple in integers]\n",
    "    \n",
    "    for el in ids:\n",
    "        for i in el:\n",
    "            counter += 1\n",
    "            \n",
    "    translated = [[]]*len(ids)\n",
    "    \n",
    "    tsv = csv.reader(open(\"name.tsv\", encoding=\"utf-8\"), delimiter=\"\\t\")\n",
    "    for row in tsv:\n",
    "        for i in range(len(ids)):\n",
    "            if(row[0] in ids[i]):\n",
    "                translated[i] = translated[i] + [row[1]]\n",
    "                counter -= 1\n",
    "                continue\n",
    "        if counter == 0:\n",
    "            break\n",
    "    \n",
    "    return translated\n",
    "\n",
    "print(intToActor([(21, 23), (39, 40)]))"
   ]
  },
  {
   "cell_type": "code",
   "execution_count": 102,
   "metadata": {
    "scrolled": true
   },
   "outputs": [
    {
     "data": {
      "text/plain": [
       "'nm0179163'"
      ]
     },
     "execution_count": 102,
     "metadata": {},
     "output_type": "execute_result"
    }
   ],
   "source": [
    "list(nameToInt.keys())[1]"
   ]
  },
  {
   "cell_type": "code",
   "execution_count": 121,
   "metadata": {},
   "outputs": [
    {
     "data": {
      "text/plain": [
       "[[], [], [], [], [], [], []]"
      ]
     },
     "execution_count": 121,
     "metadata": {},
     "output_type": "execute_result"
    }
   ],
   "source": [
    "l = [[]]*7\n",
    "l"
   ]
  }
 ],
 "metadata": {
  "kernelspec": {
   "display_name": "Python 3",
   "language": "python",
   "name": "python3"
  },
  "language_info": {
   "codemirror_mode": {
    "name": "ipython",
    "version": 3
   },
   "file_extension": ".py",
   "mimetype": "text/x-python",
   "name": "python",
   "nbconvert_exporter": "python",
   "pygments_lexer": "ipython3",
   "version": "3.7.3"
  }
 },
 "nbformat": 4,
 "nbformat_minor": 4
}
