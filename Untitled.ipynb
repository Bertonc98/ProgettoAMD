{
 "cells": [
  {
   "cell_type": "code",
   "execution_count": 1,
   "metadata": {},
   "outputs": [],
   "source": [
    "import json\n",
    "import csv\n",
    "from collections import defaultdict\n",
    "import numpy as np\n",
    "import itertools as it\n",
    "from bitmap import BitMap\n",
    "import sys\n",
    "import pandas as pd"
   ]
  },
  {
   "cell_type": "code",
   "execution_count": 1,
   "metadata": {},
   "outputs": [],
   "source": [
    "# phase 1 scan all baskets \n",
    "# -input: id_movie, list(int_actor)\n",
    "# -compute frequency (count)\n",
    "# -count combinations (size 2) into hashmap\n",
    "# -filter frequent singletons (count >= s)\n",
    "# -output: int_actor: count"
   ]
  },
  {
   "cell_type": "code",
   "execution_count": 2,
   "metadata": {},
   "outputs": [],
   "source": [
    "# read data\n",
    "data = json.load(open(\"preprocessed.json\", encoding=\"utf-8\"))"
   ]
  },
  {
   "cell_type": "code",
   "execution_count": 3,
   "metadata": {},
   "outputs": [],
   "source": [
    "def hashF(element, size):\n",
    "    return hash(element)%size\n",
    "\n",
    "def get_combinations(basket, size):\n",
    "    return it.combinations(sorted(basket), size)\n",
    "\n",
    "def update_frequency(l, item):\n",
    "    if item + 1 > len(l):\n",
    "        l.extend((item+1-len(l))*[0])\n",
    "    l[item] += 1\n",
    "    \n",
    "def singleton_pairs_frequency(data, hash_size, threshold):\n",
    "    singleton_freq = []\n",
    "    hashmap = np.zeros(hash_size)\n",
    "    for basket in data:\n",
    "        for item in basket:\n",
    "            update_frequency(singleton_freq, item)\n",
    "        for pair in get_combinations(basket, 2):\n",
    "            hashmap[hashF(pair, hash_size)] += 1\n",
    "    return filter_singletons(singleton_freq, threshold), hashmap\n",
    "\n",
    "# this function filter the given singletons with the absolute freqeuncy, deleting the ones with\n",
    "# frequency below the threshold\n",
    "def filter_singletons(singleton, threshold):\n",
    "    return [[iid] for iid, freq in enumerate(singleton) if freq>threshold]    \n",
    "\n",
    "# this function collapse the hashmap given in input into a bitmap of size \"size\" and set a 1 in the bitmap if the value in\n",
    "# the hashmap is over the the given threshold\n",
    "def hash_to_bitmap(hashmap, size, threshold):\n",
    "    bmap = BitMap(size)\n",
    "    for position in range(len(hashmap)):\n",
    "        if hashmap[position] >= threshold:\n",
    "            bmap.set(position)\n",
    "    del hashmap\n",
    "    return bmap"
   ]
  },
  {
   "cell_type": "code",
   "execution_count": 23,
   "metadata": {},
   "outputs": [],
   "source": [
    "# phase 3\n",
    "# -scan all baskets to remove FP:\n",
    "# ---read all baskets: for each basket compute pairs with 1 in bitmap\n",
    "# ---for each couple compute frequency\n",
    "# ---filter each couple (count > s)"
   ]
  },
  {
   "cell_type": "code",
   "execution_count": 24,
   "metadata": {},
   "outputs": [],
   "source": [
    "# compute every pairs of frequent singletons\n",
    "# if the hash of a pair indicates a position in bitmap with \"1\", check how many times it appears in baskets\n",
    "# otehrwise not consider this pair\n",
    "# generare coppie dai singleton, filtrarle per chi ha 1 nella bitmap, cercare in data solo quelli sopravvissuti"
   ]
  },
  {
   "cell_type": "markdown",
   "metadata": {},
   "source": [
    "Get the k-th step, meanwhile creating the hashmap counter for the k+1"
   ]
  },
  {
   "cell_type": "code",
   "execution_count": 21,
   "metadata": {},
   "outputs": [],
   "source": [
    "def get_joins(tuples, k):\n",
    "    #implement join in this way\n",
    "    #to obtain an element of lenght k:\n",
    "    #join 2 elements of length k-1 with the first k-1 elements in common\n",
    "    if k > 2:\n",
    "        l = []\n",
    "        for i in range(len(tuples)-1):\n",
    "            for j in range(i+1, len(tuples)):\n",
    "                if(t[i][:k-2] == t[j][:k-2]):\n",
    "                    l += [t[i] + t[j][k-2:]]\n",
    "        return l\n",
    "    else:\n",
    "        return it.combinations(sorted([i[0] for i in tuples]), 2) \n",
    "\n",
    "# def frequent_couple(data, singletons, hash_size, bmap, threshold):\n",
    "#     pairs = [pair for pair in get_combinations(singletons, 2) if bmap[hashF(pair, hash_size)]]\n",
    "#     counters = np.zeros(len(pairs))\n",
    "    \n",
    "#     next_hashmap = np.zeros(len(pairs))\n",
    "\n",
    "#     for basket in data:\n",
    "#         couples = list(get_combinations(basket,2))\n",
    "#         for i in range(len(pairs)):\n",
    "#             if pairs[i] in couples:\n",
    "#                 counters[i] += 1\n",
    "#         for triple in get_combinations(basket, 3):\n",
    "#             next_hashmap[hashF(triple, hash_size)] += 1\n",
    "            \n",
    "#     return [pairs[i] for i in range(len(pairs)) if counters[i]>=threshold], next_hasmap\n",
    "\n",
    "def get_kth(data, precedents, hash_size, bmap, threshold, k):\n",
    "#     tuple of length k with corresponding bitmap value = 1\n",
    "    kth = [tpl for tpl in get_joins(precedents, k) if bmap[hashF(tpl, hash_size)]]\n",
    "    \n",
    "#     counts the absolute frequency of the tuple in kth\n",
    "    counters = np.zeros(len(kth))\n",
    "#     hashmap for the tuples of length k+1\n",
    "    next_hashmap = np.zeros(hash_size)\n",
    "    \n",
    "    for basket in data:\n",
    "        tpls = list(get_combinations(basket, k))\n",
    "        for i in range(len(kth)):\n",
    "            if kth[i] in tpls:\n",
    "                counters[i] += 1\n",
    "        for kth_tuples in get_combinations(basket, k+1):\n",
    "            next_hashmap[hashF(kth_tuples, hash_size)] += 1\n",
    "\n",
    "    return [kth[i] for i in range(len(kth)) if counters[i]>=threshold], next_hashmap"
   ]
  },
  {
   "cell_type": "code",
   "execution_count": 22,
   "metadata": {},
   "outputs": [
    {
     "name": "stdout",
     "output_type": "stream",
     "text": [
      "[[21], [181], [223], [224], [239], [276], [277], [278], [279], [281], [283], [301], [304]]\n",
      "2\n",
      "3\n"
     ]
    },
    {
     "ename": "NameError",
     "evalue": "name 't' is not defined",
     "output_type": "error",
     "traceback": [
      "\u001b[1;31m---------------------------------------------------------------------------\u001b[0m",
      "\u001b[1;31mNameError\u001b[0m                                 Traceback (most recent call last)",
      "\u001b[1;32m<ipython-input-22-85af45273950>\u001b[0m in \u001b[0;36m<module>\u001b[1;34m\u001b[0m\n\u001b[0;32m     24\u001b[0m     \u001b[1;32mreturn\u001b[0m \u001b[0mfrequent_sets\u001b[0m\u001b[1;33m\u001b[0m\u001b[1;33m\u001b[0m\u001b[0m\n\u001b[0;32m     25\u001b[0m \u001b[1;33m\u001b[0m\u001b[0m\n\u001b[1;32m---> 26\u001b[1;33m \u001b[0mfreq_sets\u001b[0m \u001b[1;33m=\u001b[0m \u001b[0mmain\u001b[0m\u001b[1;33m(\u001b[0m\u001b[0mdata\u001b[0m\u001b[1;33m,\u001b[0m \u001b[1;36m15\u001b[0m\u001b[1;33m,\u001b[0m \u001b[1;36m504\u001b[0m\u001b[1;33m)\u001b[0m\u001b[1;33m\u001b[0m\u001b[1;33m\u001b[0m\u001b[0m\n\u001b[0m",
      "\u001b[1;32m<ipython-input-22-85af45273950>\u001b[0m in \u001b[0;36mmain\u001b[1;34m(data, threshold, hash_size)\u001b[0m\n\u001b[0;32m     17\u001b[0m         \u001b[0mprecedents\u001b[0m \u001b[1;33m=\u001b[0m \u001b[1;33m[\u001b[0m\u001b[0mi\u001b[0m \u001b[1;32mfor\u001b[0m \u001b[0mi\u001b[0m \u001b[1;32min\u001b[0m \u001b[0mfrequent_sets\u001b[0m \u001b[1;32mif\u001b[0m \u001b[0mlen\u001b[0m\u001b[1;33m(\u001b[0m\u001b[0mi\u001b[0m\u001b[1;33m)\u001b[0m \u001b[1;33m==\u001b[0m \u001b[0mk\u001b[0m\u001b[1;33m-\u001b[0m\u001b[1;36m1\u001b[0m\u001b[1;33m]\u001b[0m\u001b[1;33m\u001b[0m\u001b[1;33m\u001b[0m\u001b[0m\n\u001b[0;32m     18\u001b[0m \u001b[1;33m\u001b[0m\u001b[0m\n\u001b[1;32m---> 19\u001b[1;33m         \u001b[0mresult\u001b[0m\u001b[1;33m,\u001b[0m \u001b[0mhashmap\u001b[0m \u001b[1;33m=\u001b[0m \u001b[0mget_kth\u001b[0m\u001b[1;33m(\u001b[0m\u001b[0mdata\u001b[0m\u001b[1;33m,\u001b[0m \u001b[0mprecedents\u001b[0m\u001b[1;33m,\u001b[0m \u001b[0mhash_size\u001b[0m\u001b[1;33m,\u001b[0m \u001b[0mbitmap\u001b[0m\u001b[1;33m,\u001b[0m \u001b[0mthreshold\u001b[0m\u001b[1;33m,\u001b[0m \u001b[0mk\u001b[0m\u001b[1;33m)\u001b[0m\u001b[1;33m\u001b[0m\u001b[1;33m\u001b[0m\u001b[0m\n\u001b[0m\u001b[0;32m     20\u001b[0m         \u001b[0mbitmap\u001b[0m \u001b[1;33m=\u001b[0m \u001b[0mhash_to_bitmap\u001b[0m\u001b[1;33m(\u001b[0m\u001b[0mhashmap\u001b[0m\u001b[1;33m,\u001b[0m \u001b[0mhash_size\u001b[0m\u001b[1;33m,\u001b[0m \u001b[0mthreshold\u001b[0m\u001b[1;33m)\u001b[0m\u001b[1;33m\u001b[0m\u001b[1;33m\u001b[0m\u001b[0m\n\u001b[0;32m     21\u001b[0m         \u001b[0mfrequent_sets\u001b[0m \u001b[1;33m=\u001b[0m \u001b[0mfrequent_sets\u001b[0m \u001b[1;33m+\u001b[0m \u001b[0mresult\u001b[0m\u001b[1;33m\u001b[0m\u001b[1;33m\u001b[0m\u001b[0m\n",
      "\u001b[1;32m<ipython-input-21-3901a6b735d3>\u001b[0m in \u001b[0;36mget_kth\u001b[1;34m(data, precedents, hash_size, bmap, threshold, k)\u001b[0m\n\u001b[0;32m     31\u001b[0m \u001b[1;32mdef\u001b[0m \u001b[0mget_kth\u001b[0m\u001b[1;33m(\u001b[0m\u001b[0mdata\u001b[0m\u001b[1;33m,\u001b[0m \u001b[0mprecedents\u001b[0m\u001b[1;33m,\u001b[0m \u001b[0mhash_size\u001b[0m\u001b[1;33m,\u001b[0m \u001b[0mbmap\u001b[0m\u001b[1;33m,\u001b[0m \u001b[0mthreshold\u001b[0m\u001b[1;33m,\u001b[0m \u001b[0mk\u001b[0m\u001b[1;33m)\u001b[0m\u001b[1;33m:\u001b[0m\u001b[1;33m\u001b[0m\u001b[1;33m\u001b[0m\u001b[0m\n\u001b[0;32m     32\u001b[0m \u001b[1;31m#     tuple of length k with corresponding bitmap value = 1\u001b[0m\u001b[1;33m\u001b[0m\u001b[1;33m\u001b[0m\u001b[1;33m\u001b[0m\u001b[0m\n\u001b[1;32m---> 33\u001b[1;33m     \u001b[0mkth\u001b[0m \u001b[1;33m=\u001b[0m \u001b[1;33m[\u001b[0m\u001b[0mtpl\u001b[0m \u001b[1;32mfor\u001b[0m \u001b[0mtpl\u001b[0m \u001b[1;32min\u001b[0m \u001b[0mget_joins\u001b[0m\u001b[1;33m(\u001b[0m\u001b[0mprecedents\u001b[0m\u001b[1;33m,\u001b[0m \u001b[0mk\u001b[0m\u001b[1;33m)\u001b[0m \u001b[1;32mif\u001b[0m \u001b[0mbmap\u001b[0m\u001b[1;33m[\u001b[0m\u001b[0mhashF\u001b[0m\u001b[1;33m(\u001b[0m\u001b[0mtpl\u001b[0m\u001b[1;33m,\u001b[0m \u001b[0mhash_size\u001b[0m\u001b[1;33m)\u001b[0m\u001b[1;33m]\u001b[0m\u001b[1;33m]\u001b[0m\u001b[1;33m\u001b[0m\u001b[1;33m\u001b[0m\u001b[0m\n\u001b[0m\u001b[0;32m     34\u001b[0m \u001b[1;33m\u001b[0m\u001b[0m\n\u001b[0;32m     35\u001b[0m \u001b[1;31m#     counts the absolute frequency of the tuple in kth\u001b[0m\u001b[1;33m\u001b[0m\u001b[1;33m\u001b[0m\u001b[1;33m\u001b[0m\u001b[0m\n",
      "\u001b[1;32m<ipython-input-21-3901a6b735d3>\u001b[0m in \u001b[0;36mget_joins\u001b[1;34m(tuples, k)\u001b[0m\n\u001b[0;32m      7\u001b[0m         \u001b[1;32mfor\u001b[0m \u001b[0mi\u001b[0m \u001b[1;32min\u001b[0m \u001b[0mrange\u001b[0m\u001b[1;33m(\u001b[0m\u001b[0mlen\u001b[0m\u001b[1;33m(\u001b[0m\u001b[0mtuples\u001b[0m\u001b[1;33m)\u001b[0m\u001b[1;33m-\u001b[0m\u001b[1;36m1\u001b[0m\u001b[1;33m)\u001b[0m\u001b[1;33m:\u001b[0m\u001b[1;33m\u001b[0m\u001b[1;33m\u001b[0m\u001b[0m\n\u001b[0;32m      8\u001b[0m             \u001b[1;32mfor\u001b[0m \u001b[0mj\u001b[0m \u001b[1;32min\u001b[0m \u001b[0mrange\u001b[0m\u001b[1;33m(\u001b[0m\u001b[0mi\u001b[0m\u001b[1;33m+\u001b[0m\u001b[1;36m1\u001b[0m\u001b[1;33m,\u001b[0m \u001b[0mlen\u001b[0m\u001b[1;33m(\u001b[0m\u001b[0mtuples\u001b[0m\u001b[1;33m)\u001b[0m\u001b[1;33m)\u001b[0m\u001b[1;33m:\u001b[0m\u001b[1;33m\u001b[0m\u001b[1;33m\u001b[0m\u001b[0m\n\u001b[1;32m----> 9\u001b[1;33m                 \u001b[1;32mif\u001b[0m\u001b[1;33m(\u001b[0m\u001b[0mt\u001b[0m\u001b[1;33m[\u001b[0m\u001b[0mi\u001b[0m\u001b[1;33m]\u001b[0m\u001b[1;33m[\u001b[0m\u001b[1;33m:\u001b[0m\u001b[0mk\u001b[0m\u001b[1;33m-\u001b[0m\u001b[1;36m2\u001b[0m\u001b[1;33m]\u001b[0m \u001b[1;33m==\u001b[0m \u001b[0mt\u001b[0m\u001b[1;33m[\u001b[0m\u001b[0mj\u001b[0m\u001b[1;33m]\u001b[0m\u001b[1;33m[\u001b[0m\u001b[1;33m:\u001b[0m\u001b[0mk\u001b[0m\u001b[1;33m-\u001b[0m\u001b[1;36m2\u001b[0m\u001b[1;33m]\u001b[0m\u001b[1;33m)\u001b[0m\u001b[1;33m:\u001b[0m\u001b[1;33m\u001b[0m\u001b[1;33m\u001b[0m\u001b[0m\n\u001b[0m\u001b[0;32m     10\u001b[0m                     \u001b[0ml\u001b[0m \u001b[1;33m+=\u001b[0m \u001b[1;33m[\u001b[0m\u001b[0mt\u001b[0m\u001b[1;33m[\u001b[0m\u001b[0mi\u001b[0m\u001b[1;33m]\u001b[0m \u001b[1;33m+\u001b[0m \u001b[0mt\u001b[0m\u001b[1;33m[\u001b[0m\u001b[0mj\u001b[0m\u001b[1;33m]\u001b[0m\u001b[1;33m[\u001b[0m\u001b[0mk\u001b[0m\u001b[1;33m-\u001b[0m\u001b[1;36m2\u001b[0m\u001b[1;33m:\u001b[0m\u001b[1;33m]\u001b[0m\u001b[1;33m]\u001b[0m\u001b[1;33m\u001b[0m\u001b[1;33m\u001b[0m\u001b[0m\n\u001b[0;32m     11\u001b[0m         \u001b[1;32mreturn\u001b[0m \u001b[0ml\u001b[0m\u001b[1;33m\u001b[0m\u001b[1;33m\u001b[0m\u001b[0m\n",
      "\u001b[1;31mNameError\u001b[0m: name 't' is not defined"
     ]
    }
   ],
   "source": [
    "def main(data, threshold, hash_size):\n",
    "    frequent_sets = []\n",
    "#     phase 1: compute frequency of singletons and pairs; filter nonfrequent singletons\n",
    "    singleton, hashmap = singleton_pairs_frequency(data, hash_size, threshold)\n",
    "#     phase 2: collpse the hahsmap into a bitmap\n",
    "    bitmap = hash_to_bitmap(hashmap, hash_size, threshold)\n",
    "#     phase 3\n",
    "#     frequent_sets contains all the sets of all the kth length that are frequent\n",
    "#     bitmap is the bitmap mapping the sets of length k+1\n",
    "#     frequent_sets, bitmap = frequent_couple(data, singleton, hash_size, bitmap, threshold)\n",
    "    frequent_sets += singleton\n",
    "    print(frequent_sets)\n",
    "    k = 2\n",
    "    result = [\"placeholder\"]\n",
    "    while result != []:\n",
    "        print(k)\n",
    "        precedents = [i for i in frequent_sets if len(i) == k-1]\n",
    "        \n",
    "        result, hashmap = get_kth(data, precedents, hash_size, bitmap, threshold, k)\n",
    "        bitmap = hash_to_bitmap(hashmap, hash_size, threshold)\n",
    "        frequent_sets = frequent_sets + result\n",
    "        k += 1\n",
    "        \n",
    "    return frequent_sets\n",
    "    \n",
    "freq_sets = main(data, 15, 504)"
   ]
  },
  {
   "cell_type": "code",
   "execution_count": 31,
   "metadata": {},
   "outputs": [],
   "source": [
    "import csv\n",
    "csv = csv.reader(open('actorIdToInt.csv', newline='\\n'), delimiter='\\n')\n",
    "actorIds = []\n",
    "for row in csv:\n",
    "    actorIds.append(row[0])"
   ]
  },
  {
   "cell_type": "code",
   "execution_count": 41,
   "metadata": {},
   "outputs": [
    {
     "name": "stdout",
     "output_type": "stream",
     "text": [
      "[['Linda Arvidson', 'Harry Solter'], ['Linda Arvidson', 'Arthur V. Johnson'], ['Linda Arvidson', 'Charles Inslee'], ['Linda Arvidson', 'Florence Lawrence'], ['Linda Arvidson', 'George Gebhardt'], ['D.W. Griffith', 'Edward Dillon'], ['Charles Inslee', 'Harry Solter'], ['Florence Lawrence', 'Harry Solter'], ['George Gebhardt', 'Harry Solter'], ['Charles Inslee', 'Arthur V. Johnson'], ['Arthur V. Johnson', 'Florence Lawrence'], ['George Gebhardt', 'Arthur V. Johnson'], ['Charles Inslee', 'Florence Lawrence'], ['George Gebhardt', 'Charles Inslee'], ['George Gebhardt', 'Florence Lawrence'], ['George Gebhardt', 'Mack Sennett']]\n"
     ]
    }
   ],
   "source": [
    "import csv\n",
    "def intToItem(integers, actorIds):\n",
    "    counter = 0\n",
    "    ids = [tuple([actorIds[item] for item in couple]) for couple in integers]\n",
    "    #total actors in ids, with repetition\n",
    "    for el in ids:\n",
    "        counter += len(el)\n",
    "    translated = [[]]*len(ids)\n",
    "    \n",
    "    c = 2\n",
    "    tsv = csv.reader(open(\"name.tsv\", encoding=\"utf-8\"), delimiter=\"\\t\")\n",
    "    for row in tsv:\n",
    "        for pos in range(len(ids)):\n",
    "            if row[0] in ids[pos]:\n",
    "                translated[pos] = translated[pos] + [row[1]]\n",
    "                counter -= 1\n",
    "        if counter == 0:\n",
    "            break\n",
    "    return translated\n",
    "\n",
    "print(intToItem(freq_sets, actorIds))"
   ]
  }
 ],
 "metadata": {
  "kernelspec": {
   "display_name": "Python 3",
   "language": "python",
   "name": "python3"
  },
  "language_info": {
   "codemirror_mode": {
    "name": "ipython",
    "version": 3
   },
   "file_extension": ".py",
   "mimetype": "text/x-python",
   "name": "python",
   "nbconvert_exporter": "python",
   "pygments_lexer": "ipython3",
   "version": "3.7.3"
  }
 },
 "nbformat": 4,
 "nbformat_minor": 4
}
