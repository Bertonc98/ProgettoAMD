{
 "cells": [
  {
   "cell_type": "code",
   "execution_count": 1,
   "metadata": {},
   "outputs": [],
   "source": [
    "import json\n",
    "import csv\n",
    "from collections import defaultdict\n",
    "import numpy as np\n",
    "import itertools as it\n",
    "from bitmap import BitMap\n",
    "import sys\n",
    "import pandas as pd\n",
    "import tqdm"
   ]
  },
  {
   "cell_type": "code",
   "execution_count": 88,
   "metadata": {},
   "outputs": [],
   "source": [
    "# phase 1 scan all baskets \n",
    "# -input: id_movie, list(int_actor)\n",
    "# -compute frequency (count)\n",
    "# -count combinations (size 2) into hashmap\n",
    "# -filter frequent singletons (count >= s)\n",
    "# -output: int_actor: count"
   ]
  },
  {
   "cell_type": "code",
   "execution_count": 2,
   "metadata": {},
   "outputs": [],
   "source": [
    "# read data\n",
    "data = json.load(open(\"preprocessed.json\", encoding=\"utf-8\"))"
   ]
  },
  {
   "cell_type": "code",
   "execution_count": 3,
   "metadata": {},
   "outputs": [],
   "source": [
    "def hashF(element, size):\n",
    "    return hash(element)%size\n",
    "\n",
    "def get_combinations(basket, size):\n",
    "    return it.combinations(sorted(basket), size)\n",
    "\n",
    "def update_frequency(l, item):\n",
    "    if item + 1 > len(l):\n",
    "        l.extend((item+1-len(l))*[0])\n",
    "    l[item] += 1\n",
    "            \n",
    "def singleton_pairs_frequency(data, hash_size):\n",
    "    singleton_freq = []\n",
    "    hashmap = np.zeros(hash_size)\n",
    "    for basket in data:\n",
    "        for item in basket:\n",
    "            update_frequency(singleton_freq, item)\n",
    "        for pair in get_combinations(basket, 2):\n",
    "            hashmap[hashF(pair, hash_size)] += 1\n",
    "    return enumerate(singleton_freq), hashmap\n",
    "\n",
    "# this function filter the given singletons with the absolute freqeuncy, deleting the ones with\n",
    "# frequency below the threshold\n",
    "def filter_singletons(singleton, threshold):\n",
    "    return [[iid, freq] for iid, freq in singleton if freq>threshold]\n",
    "\n",
    "# this function collapse the hashmap given in input into a bitmap of size \"size\" and set a 1 in the bitmap if the value in\n",
    "# the hashmap is over the the given threshold\n",
    "def hash_to_bitmap(hashmap, size, threshold):\n",
    "    bmap = BitMap(size)\n",
    "    for position in range(len(hashmap)):\n",
    "        if hashmap[position] >= threshold:\n",
    "            bmap.set(position)\n",
    "    del hashmap\n",
    "    return bmap"
   ]
  },
  {
   "cell_type": "code",
   "execution_count": 4,
   "metadata": {},
   "outputs": [
    {
     "data": {
      "text/plain": [
       "'000110000000000000010000000000000000000000101000000000000000000010000000000000000000000000000010000000000000000000000100000000000000000000000010000000000001000000000000000000000000000000000000000000000000000000000000000000000000000000000000000000000010000000000010000000000001000000001000000000000000000100000000000000000000000000000000010000000000001000000000000000000000000000000000000000000100000000000000010000000000000000000000000000000000000000000001000000000010000001000000000000000000000000000000'"
      ]
     },
     "execution_count": 4,
     "metadata": {},
     "output_type": "execute_result"
    }
   ],
   "source": [
    "threshold = 15\n",
    "hash_size = 504\n",
    "# phase 1: compute frequency of singletons and pairs; filter nonfrequent singletons\n",
    "singleton, hashmap = singleton_pairs_frequency(data, hash_size)\n",
    "singleton = filter_singletons(singleton, threshold)\n",
    "# phase 2: collpse the hahsmap into a bitmap\n",
    "bitmap = hash_to_bitmap(hashmap, hash_size, threshold)\n",
    "bitmap.tostring()"
   ]
  },
  {
   "cell_type": "code",
   "execution_count": 108,
   "metadata": {},
   "outputs": [],
   "source": [
    "# phase 3\n",
    "# -scan all baskets to remove FP:\n",
    "# ---read all baskets: for each basket compute pairs with 1 in bitmap\n",
    "# ---for each couple compute frequency\n",
    "# ---filter each couple (count > s)"
   ]
  },
  {
   "cell_type": "code",
   "execution_count": 127,
   "metadata": {},
   "outputs": [],
   "source": [
    "# compute every pairs of frequent singletons\n",
    "# if the hash of a pair indicates a position in bitmap with \"1\", check how many times it appears in baskets\n",
    "# otehrwise not consider this pair\n",
    "# generare coppie dai singleton, filtrarle per chi ha 1 nella bitmap, cercare in data solo quelli sopravvissuti"
   ]
  },
  {
   "cell_type": "code",
   "execution_count": 5,
   "metadata": {},
   "outputs": [
    {
     "data": {
      "text/plain": [
       "[(239, 278),\n",
       " (239, 279),\n",
       " (239, 281),\n",
       " (239, 283),\n",
       " (239, 301),\n",
       " (276, 277),\n",
       " (278, 281),\n",
       " (278, 283),\n",
       " (278, 301),\n",
       " (279, 281),\n",
       " (279, 283),\n",
       " (279, 301),\n",
       " (281, 283),\n",
       " (281, 301),\n",
       " (283, 301),\n",
       " (301, 304)]"
      ]
     },
     "execution_count": 5,
     "metadata": {},
     "output_type": "execute_result"
    }
   ],
   "source": [
    "def frequent_couple(data, singleton, hash_size, bmap, threshold):\n",
    "    singletons = [el[0] for el in singleton]\n",
    "    pairs = []\n",
    "#     for pair in it.combinations(singletons, 2):\n",
    "#         if bmap[hashF(pair, hash_size)]:\n",
    "#             pairs.append(pair)\n",
    "    pairs = [pair for pair in get_combinations(singletons, 2) if bmap[hashF(pair, hash_size)]]\n",
    "    counters = np.zeros(len(pairs))\n",
    "\n",
    "    for basket in data:\n",
    "        couples = list(get_combinations(basket,2))\n",
    "        for i in range(len(pairs)):\n",
    "            if pairs[i] in couples:\n",
    "                counters[i] += 1\n",
    "\n",
    "    return [pairs[i] for i in range(len(pairs)) if counters[i]>=threshold]\n",
    "\n",
    "frequent_couple(data, singleton, hash_size, bitmap, threshold)"
   ]
  },
  {
   "cell_type": "code",
   "execution_count": 8,
   "metadata": {},
   "outputs": [],
   "source": [
    "import csv\n",
    "csv = csv.reader(open('actorIdToInt.csv', newline='\\n'), delimiter='\\n')\n",
    "actorIds = []\n",
    "for row in csv:\n",
    "    actorIds.append(row[0])"
   ]
  },
  {
   "cell_type": "code",
   "execution_count": 9,
   "metadata": {},
   "outputs": [
    {
     "name": "stdout",
     "output_type": "stream",
     "text": [
      "nm0038106 nm0813603\n"
     ]
    }
   ],
   "source": [
    "print(actorIds[239],actorIds[278])"
   ]
  },
  {
   "cell_type": "code",
   "execution_count": 13,
   "metadata": {},
   "outputs": [
    {
     "name": "stdout",
     "output_type": "stream",
     "text": [
      "[['Linda Arvidson', 'Harry Solter'], ['Linda Arvidson', 'Arthur V. Johnson'], ['Linda Arvidson', 'Charles Inslee'], ['Linda Arvidson', 'Florence Lawrence'], ['Linda Arvidson', 'George Gebhardt'], ['D.W. Griffith', 'Edward Dillon'], ['Charles Inslee', 'Harry Solter'], ['Florence Lawrence', 'Harry Solter'], ['George Gebhardt', 'Harry Solter'], ['Charles Inslee', 'Arthur V. Johnson'], ['Arthur V. Johnson', 'Florence Lawrence'], ['George Gebhardt', 'Arthur V. Johnson'], ['Charles Inslee', 'Florence Lawrence'], ['George Gebhardt', 'Charles Inslee'], ['George Gebhardt', 'Florence Lawrence'], ['George Gebhardt', 'Mack Sennett']]\n"
     ]
    }
   ],
   "source": [
    "import csv\n",
    "def intToItem(integers, actorIds):\n",
    "    counter = 0\n",
    "    ids = [tuple([actorIds[item] for item in couple]) for couple in integers]\n",
    "    #total actors in ids, with repetition\n",
    "    for el in ids:\n",
    "        counter += len(el)\n",
    "    translated = [[]]*len(ids)\n",
    "    \n",
    "    c = 2\n",
    "    tsv = csv.reader(open(\"name.tsv\", encoding=\"utf-8\"), delimiter=\"\\t\")\n",
    "    for row in tsv:\n",
    "        for pos in range(len(ids)):\n",
    "            if row[0] in ids[pos]:\n",
    "                translated[pos] = translated[pos] + [row[1]]\n",
    "                counter -= 1\n",
    "        if counter == 0:\n",
    "            break\n",
    "    return translated\n",
    "\n",
    "print(intToItem(frequent_couple(data, singleton, hash_size, bitmap, threshold), actorIds))"
   ]
  },
  {
   "cell_type": "code",
   "execution_count": 34,
   "metadata": {},
   "outputs": [
    {
     "data": {
      "text/plain": [
       "False"
      ]
     },
     "execution_count": 34,
     "metadata": {},
     "output_type": "execute_result"
    }
   ],
   "source": [
    "'tt000069wfq2' in ('tt0000692', 'tt0000743')"
   ]
  }
 ],
 "metadata": {
  "kernelspec": {
   "display_name": "Python 3",
   "language": "python",
   "name": "python3"
  },
  "language_info": {
   "codemirror_mode": {
    "name": "ipython",
    "version": 3
   },
   "file_extension": ".py",
   "mimetype": "text/x-python",
   "name": "python",
   "nbconvert_exporter": "python",
   "pygments_lexer": "ipython3",
   "version": "3.8.5"
  }
 },
 "nbformat": 4,
 "nbformat_minor": 4
}
