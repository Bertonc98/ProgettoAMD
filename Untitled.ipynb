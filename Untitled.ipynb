{
 "cells": [
  {
   "cell_type": "code",
   "execution_count": null,
   "metadata": {},
   "outputs": [],
   "source": [
    "import json\n",
    "import csv\n",
    "from collections import defaultdict\n",
    "import numpy as np\n",
    "import itertools as it\n",
    "from bitmap import BitMap"
   ]
  },
  {
   "cell_type": "code",
   "execution_count": 2,
   "metadata": {},
   "outputs": [],
   "source": [
    "# phase 1 scan all baskets \n",
    "# -input: id_movie, list(int_actor)\n",
    "# -compute frequency (count)\n",
    "# -count combinations (size 2) into hashmap\n",
    "# -filter frequent singletons (count >= s)\n",
    "# -output: int_actor: count"
   ]
  },
  {
   "cell_type": "code",
   "execution_count": null,
   "metadata": {},
   "outputs": [],
   "source": [
    "# read data\n",
    "data = json.load(open(\"preprocessed.json\", encoding=\"utf-8\"))"
   ]
  },
  {
   "cell_type": "code",
   "execution_count": 83,
   "metadata": {},
   "outputs": [
    {
     "data": {
      "text/plain": [
       "defaultdict(<function __main__.<lambda>()>,\n",
       "            {19: 8, 21: 19, 23: 7, 31: 4, 37: 3, 39: 3, 40: 2, 41: 3})"
      ]
     },
     "execution_count": 83,
     "metadata": {},
     "output_type": "execute_result"
    }
   ],
   "source": [
    "threshold = 2\n",
    "\n",
    "def get_combinations(basket, size):\n",
    "    return it.combinations(sorted([nameToInt[el] for el in basket]), size)\n",
    "\n",
    "def hashF(el):\n",
    "    return hash(el)%200\n",
    "\n",
    "def count_singletons():\n",
    "\n",
    "#Count pairs frequency\n",
    "hashmap = np.zeros(200)\n",
    "#Contains the translations from actorID into sequential integer\n",
    "nameToInt = {}\n",
    "#Contains the absolute frequency of an actor in all the dataset, linked to the translated actorID\n",
    "actor_freq = defaultdict(lambda: 0)\n",
    "counter = 1\n",
    "#Count of singleton frequences and mapping name->integer\n",
    "for movie in data:\n",
    "    for actor in data[movie]:\n",
    "        if actor not in nameToInt.keys():\n",
    "            nameToInt[actor] = counter\n",
    "            counter += 1\n",
    "        actor_freq[nameToInt[actor]] += 1\n",
    "    #combinations of data[movie] and increment counter into hashmap\n",
    "    for el in get_combinations(data[movie], 2):\n",
    "        hashmap[hashF(el)] += 1\n",
    "\n",
    "#filtering by frequency (singletons)\n",
    "nActors = len(actor_freq)\n",
    "pos = 1\n",
    "while pos <= nActors:\n",
    "    if actor_freq[pos]<threshold:\n",
    "        del actor_freq[pos]\n",
    "    pos = pos + 1\n",
    "actor_freq"
   ]
  },
  {
   "cell_type": "code",
   "execution_count": 84,
   "metadata": {},
   "outputs": [],
   "source": [
    "# phase 2\n",
    "# -collapse hashmap -->bitmap n_bucket:1/0"
   ]
  },
  {
   "cell_type": "code",
   "execution_count": 85,
   "metadata": {},
   "outputs": [
    {
     "data": {
      "text/plain": [
       "'00000000000000000100000001010000000000000000000000000000000000000000000000000100000000000000000000000010010100000000000000000000000000000000000000000000000000000000000000000000010000000000000000000000'"
      ]
     },
     "execution_count": 85,
     "metadata": {},
     "output_type": "execute_result"
    }
   ],
   "source": [
    "#collapse hashmap into bitmap\n",
    "from bitmap import BitMap\n",
    "bmap = BitMap(200)\n",
    "for position in range(len(hashmap)):\n",
    "    if hashmap[position] >= threshold:\n",
    "        bmap.set(position)\n",
    "bmap.tostring()"
   ]
  },
  {
   "cell_type": "code",
   "execution_count": 86,
   "metadata": {},
   "outputs": [],
   "source": [
    "# phase 3\n",
    "# -scan all baskets to remove FP:\n",
    "# ---read all baskets: for each basket compute pairs with 1 in bitmap\n",
    "# ---for each couple compute frequency\n",
    "# ---filter each couple (count > s)"
   ]
  },
  {
   "cell_type": "code",
   "execution_count": 87,
   "metadata": {},
   "outputs": [],
   "source": [
    "# compute every pairs of frequent singletons\n",
    "# if the hash of a pair indicates a position in bitmap with \"1\", check how many times it appears in baskets\n",
    "# otehrwise not consider this pair\n",
    "# generare coppie dai singleton, filtrarle per chi ha 1 nella bitmap, cercare in data solo quelli sopravvissuti"
   ]
  },
  {
   "cell_type": "code",
   "execution_count": 88,
   "metadata": {},
   "outputs": [
    {
     "data": {
      "text/plain": [
       "[(21, 23), (39, 40)]"
      ]
     },
     "execution_count": 88,
     "metadata": {},
     "output_type": "execute_result"
    }
   ],
   "source": [
    "singletons = actor_freq.keys()\n",
    "pairs = []\n",
    "\n",
    "for pair in it.combinations(singletons, 2):\n",
    "    if bmap[hashF(pair)]:\n",
    "        pairs.append(pair)\n",
    "counters = np.zeros(len(pairs))\n",
    "#transalte items in basket into their codification, sort them and return the list of combination of size \"size\"\n",
    "def get_combinations(basket, size):\n",
    "    return it.combinations(sorted([nameToInt[el] for el in basket]), size)\n",
    "\n",
    "for basket in data.values():\n",
    "    couples = list(get_combinations(basket,2))\n",
    "    #print(couples)\n",
    "    for i in range(len(pairs)):\n",
    "        if pairs[i] in couples:\n",
    "            counters[i] += 1\n",
    "\n",
    "[pairs[i] for i in range(len(pairs)) if counters[i]>=threshold]"
   ]
  },
  {
   "cell_type": "code",
   "execution_count": 124,
   "metadata": {},
   "outputs": [
    {
     "name": "stdout",
     "output_type": "stream",
     "text": [
      "[['Auguste Lumière', 'Jules-Eugène Legris'], ['J. Stuart Blackton', 'Ferdinand Gýra']]\n"
     ]
    }
   ],
   "source": [
    "import csv\n",
    "def intToActor(integers):\n",
    "    counter = 0\n",
    "    ids = [tuple([list(nameToInt.keys())[item] for item in couple]) for couple in integers]\n",
    "    \n",
    "    for el in ids:\n",
    "        for i in el:\n",
    "            counter += 1\n",
    "            \n",
    "    translated = [[]]*len(ids)\n",
    "    \n",
    "    tsv = csv.reader(open(\"name.tsv\", encoding=\"utf-8\"), delimiter=\"\\t\")\n",
    "    for row in tsv:\n",
    "        for i in range(len(ids)):\n",
    "            if(row[0] in ids[i]):\n",
    "                translated[i] = translated[i] + [row[1]]\n",
    "                counter -= 1\n",
    "                continue\n",
    "        if counter == 0:\n",
    "            break\n",
    "    \n",
    "    return translated\n",
    "\n",
    "print(intToActor([(21, 23), (39, 40)]))"
   ]
  },
  {
   "cell_type": "code",
   "execution_count": 102,
   "metadata": {
    "scrolled": true
   },
   "outputs": [
    {
     "data": {
      "text/plain": [
       "'nm0179163'"
      ]
     },
     "execution_count": 102,
     "metadata": {},
     "output_type": "execute_result"
    }
   ],
   "source": [
    "list(nameToInt.keys())[1]"
   ]
  },
  {
   "cell_type": "code",
   "execution_count": 121,
   "metadata": {},
   "outputs": [
    {
     "data": {
      "text/plain": [
       "[[], [], [], [], [], [], []]"
      ]
     },
     "execution_count": 121,
     "metadata": {},
     "output_type": "execute_result"
    }
   ],
   "source": [
    "l = [[]]*7\n",
    "l"
   ]
  }
 ],
 "metadata": {
  "kernelspec": {
   "display_name": "Python 3",
   "language": "python",
   "name": "python3"
  },
  "language_info": {
   "codemirror_mode": {
    "name": "ipython",
    "version": 3
   },
   "file_extension": ".py",
   "mimetype": "text/x-python",
   "name": "python",
   "nbconvert_exporter": "python",
   "pygments_lexer": "ipython3",
   "version": "3.7.3"
  }
 },
 "nbformat": 4,
 "nbformat_minor": 4
}
