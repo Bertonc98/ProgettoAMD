{
 "cells": [
  {
   "cell_type": "code",
   "execution_count": 1,
   "metadata": {},
   "outputs": [],
   "source": [
    "import json\n",
    "import csv\n",
    "from collections import defaultdict\n",
    "import numpy as np\n",
    "import itertools as it\n",
    "from bitmap import BitMap\n",
    "import sys\n",
    "import pandas as pd"
   ]
  },
  {
   "cell_type": "code",
   "execution_count": 1,
   "metadata": {},
   "outputs": [],
   "source": [
    "# phase 1 scan all baskets \n",
    "# -input: id_movie, list(int_actor)\n",
    "# -compute frequency (count)\n",
    "# -count combinations (size 2) into hashmap\n",
    "# -filter frequent singletons (count >= s)\n",
    "# -output: int_actor: count"
   ]
  },
  {
   "cell_type": "code",
   "execution_count": 21,
   "metadata": {},
   "outputs": [],
   "source": [
    "# read data\n",
    "data = json.load(open(\"preprocessed.json\", encoding=\"utf-8\"))"
   ]
  },
  {
   "cell_type": "code",
   "execution_count": 3,
   "metadata": {},
   "outputs": [],
   "source": [
    "def hashF(element, size):\n",
    "    return hash(element)%size\n",
    "\n",
    "def get_combinations(basket, size):\n",
    "    return it.combinations(sorted(basket), size)\n",
    "\n",
    "def update_frequency(l, item):\n",
    "    if item + 1 > len(l):\n",
    "        l.extend((item+1-len(l))*[0])\n",
    "    l[item] += 1\n",
    "\n",
    "# this function filter the given singletons with the absolute freqeuncy, deleting the ones with\n",
    "# frequency below the threshold\n",
    "def filter_singletons(singleton, threshold):\n",
    "    return [[iid, freq] for iid, freq in enumerate(singleton) if freq>threshold]    \n",
    "\n",
    "def singleton_pairs_frequency(data, hash_size, threshold):\n",
    "    singleton_freq = []\n",
    "    hashmap = np.zeros(hash_size)\n",
    "    for basket in data:\n",
    "        for item in basket:\n",
    "            update_frequency(singleton_freq, item)\n",
    "        for pair in get_combinations(basket, 2):\n",
    "            hashmap[hashF(pair, hash_size)] += 1\n",
    "    return filter_singletons(singleton_freq, threshold), hashmap\n",
    "\n",
    "\n",
    "\n",
    "# this function collapse the hashmap given in input into a bitmap of size \"size\" and set a 1 in the bitmap if the value in\n",
    "# the hashmap is over the the given threshold\n",
    "def hash_to_bitmap(hashmap, size, threshold):\n",
    "    bmap = BitMap(size)\n",
    "    for position in range(len(hashmap)):\n",
    "        if hashmap[position] >= threshold:\n",
    "            bmap.set(position)\n",
    "    del hashmap\n",
    "    return bmap"
   ]
  },
  {
   "cell_type": "code",
   "execution_count": 23,
   "metadata": {},
   "outputs": [],
   "source": [
    "# phase 3\n",
    "# -scan all baskets to remove FP:\n",
    "# ---read all baskets: for each basket compute pairs with 1 in bitmap\n",
    "# ---for each couple compute frequency\n",
    "# ---filter each couple (count > s)"
   ]
  },
  {
   "cell_type": "code",
   "execution_count": 24,
   "metadata": {},
   "outputs": [],
   "source": [
    "# compute every pairs of frequent singletons\n",
    "# if the hash of a pair indicates a position in bitmap with \"1\", check how many times it appears in baskets\n",
    "# otehrwise not consider this pair\n",
    "# generare coppie dai singleton, filtrarle per chi ha 1 nella bitmap, cercare in data solo quelli sopravvissuti"
   ]
  },
  {
   "cell_type": "code",
   "execution_count": 4,
   "metadata": {},
   "outputs": [],
   "source": [
    "def frequent_couple(data, singleton, hash_size, bmap, threshold):\n",
    "    singletons = [el[0] for el in singleton]\n",
    "    pairs = []\n",
    "    pairs = [pair for pair in get_combinations(singletons, 2) if bmap[hashF(pair, hash_size)]]\n",
    "    counters = np.zeros(len(pairs))\n",
    "\n",
    "    for basket in data:\n",
    "        couples = list(get_combinations(basket,2))\n",
    "        for i in range(len(pairs)):\n",
    "            if pairs[i] in couples:\n",
    "                counters[i] += 1\n",
    "\n",
    "    return [pairs[i] for i in range(len(pairs)) if counters[i]>=threshold]"
   ]
  },
  {
   "cell_type": "code",
   "execution_count": 40,
   "metadata": {},
   "outputs": [],
   "source": [
    "def main(data, threshold, hash_size):\n",
    "    # phase 1: compute frequency of singletons and pairs; filter nonfrequent singletons\n",
    "    singleton, hashmap = singleton_pairs_frequency(data, hash_size, threshold)\n",
    "    # phase 2: collpse the hahsmap into a bitmap\n",
    "    bitmap = hash_to_bitmap(hashmap, hash_size, threshold)\n",
    "    #phase 3\n",
    "    return frequent_couple(data, singleton, hash_size, bitmap, threshold)\n",
    "#Join singleton and pairs, with list    \n",
    "freq_sets = main(data, 15, 504)"
   ]
  },
  {
   "cell_type": "markdown",
   "metadata": {},
   "source": [
    "Get the k-th step, meanwhile creating the hashmap counter for the k+1"
   ]
  },
  {
   "cell_type": "code",
   "execution_count": 19,
   "metadata": {},
   "outputs": [],
   "source": [
    "def get_joins(tuples, k):\n",
    "    #implement join in this way\n",
    "    #to obtain an element of lenght k:\n",
    "    #join 2 elements of length k-1 with the first k-1 elements in common\n",
    "    if k > 2:\n",
    "        l = []\n",
    "        for i in range(len(t)-1):\n",
    "            for j in range(i+1, len(t)):\n",
    "                if(t[i][:k-2] == t[j][:k-2]):\n",
    "                    l += [t[i] + t[j][k-2:]]\n",
    "        return l\n",
    "    else:\n",
    "        return get_combinations(tuples, 2)\n",
    "            \n",
    "    \n",
    "def get_kth(data, precedents, hash_size, bmap, threshold, k, size):\n",
    "    kth = []\n",
    "    kth = [tpl for tpl in get_joins(precedents) if bmap[hashF(tpl, hash_size)]]\n",
    "    counters = np.zeros(len(kth))\n",
    "    \n",
    "    next_hashmap = Bitmap(size)\n",
    "    \n",
    "    for basket in data:\n",
    "        tpls_k_lengt = list(get_combinations(basket, k))\n",
    "        for i in range(len(kth)):\n",
    "            if kth[i] in tpls_k_lengt:\n",
    "                counters[i] += 1\n",
    "        for kth_tuples in get_combinations(basket, k+1):\n",
    "            next_hashmap[hashF(kth_tuples)] += 1\n",
    "\n",
    "    return [kth[i] for i in range(len(kth)) if counters[i]>=threshold], next_hashmap"
   ]
  },
  {
   "cell_type": "code",
   "execution_count": 22,
   "metadata": {},
   "outputs": [
    {
     "ename": "TypeError",
     "evalue": "'int' object is not subscriptable",
     "output_type": "error",
     "traceback": [
      "\u001b[1;31m---------------------------------------------------------------------------\u001b[0m",
      "\u001b[1;31mTypeError\u001b[0m                                 Traceback (most recent call last)",
      "\u001b[1;32m<ipython-input-22-79703316cfba>\u001b[0m in \u001b[0;36m<module>\u001b[1;34m\u001b[0m\n\u001b[0;32m      1\u001b[0m \u001b[0mt\u001b[0m \u001b[1;33m=\u001b[0m \u001b[1;33m[\u001b[0m\u001b[1;33m(\u001b[0m\u001b[1;36m1\u001b[0m\u001b[1;33m)\u001b[0m\u001b[1;33m,\u001b[0m \u001b[1;33m(\u001b[0m\u001b[1;36m1\u001b[0m\u001b[1;33m)\u001b[0m\u001b[1;33m]\u001b[0m\u001b[1;33m\u001b[0m\u001b[1;33m\u001b[0m\u001b[0m\n\u001b[1;32m----> 2\u001b[1;33m \u001b[0mget_joins\u001b[0m\u001b[1;33m(\u001b[0m\u001b[0mt\u001b[0m \u001b[1;33m,\u001b[0m \u001b[1;36m5\u001b[0m\u001b[1;33m)\u001b[0m\u001b[1;33m\u001b[0m\u001b[1;33m\u001b[0m\u001b[0m\n\u001b[0m",
      "\u001b[1;32m<ipython-input-19-f26fcd6ae50b>\u001b[0m in \u001b[0;36mget_joins\u001b[1;34m(tuples, k)\u001b[0m\n\u001b[0;32m      6\u001b[0m     \u001b[1;32mfor\u001b[0m \u001b[0mi\u001b[0m \u001b[1;32min\u001b[0m \u001b[0mrange\u001b[0m\u001b[1;33m(\u001b[0m\u001b[0mlen\u001b[0m\u001b[1;33m(\u001b[0m\u001b[0mt\u001b[0m\u001b[1;33m)\u001b[0m\u001b[1;33m-\u001b[0m\u001b[1;36m1\u001b[0m\u001b[1;33m)\u001b[0m\u001b[1;33m:\u001b[0m\u001b[1;33m\u001b[0m\u001b[1;33m\u001b[0m\u001b[0m\n\u001b[0;32m      7\u001b[0m         \u001b[1;32mfor\u001b[0m \u001b[0mj\u001b[0m \u001b[1;32min\u001b[0m \u001b[0mrange\u001b[0m\u001b[1;33m(\u001b[0m\u001b[0mi\u001b[0m\u001b[1;33m+\u001b[0m\u001b[1;36m1\u001b[0m\u001b[1;33m,\u001b[0m \u001b[0mlen\u001b[0m\u001b[1;33m(\u001b[0m\u001b[0mt\u001b[0m\u001b[1;33m)\u001b[0m\u001b[1;33m)\u001b[0m\u001b[1;33m:\u001b[0m\u001b[1;33m\u001b[0m\u001b[1;33m\u001b[0m\u001b[0m\n\u001b[1;32m----> 8\u001b[1;33m             \u001b[1;32mif\u001b[0m\u001b[1;33m(\u001b[0m\u001b[0mt\u001b[0m\u001b[1;33m[\u001b[0m\u001b[0mi\u001b[0m\u001b[1;33m]\u001b[0m\u001b[1;33m[\u001b[0m\u001b[1;33m:\u001b[0m\u001b[0mk\u001b[0m\u001b[1;33m-\u001b[0m\u001b[1;36m2\u001b[0m\u001b[1;33m]\u001b[0m \u001b[1;33m==\u001b[0m \u001b[0mt\u001b[0m\u001b[1;33m[\u001b[0m\u001b[0mj\u001b[0m\u001b[1;33m]\u001b[0m\u001b[1;33m[\u001b[0m\u001b[1;33m:\u001b[0m\u001b[0mk\u001b[0m\u001b[1;33m-\u001b[0m\u001b[1;36m2\u001b[0m\u001b[1;33m]\u001b[0m\u001b[1;33m)\u001b[0m\u001b[1;33m:\u001b[0m\u001b[1;33m\u001b[0m\u001b[1;33m\u001b[0m\u001b[0m\n\u001b[0m\u001b[0;32m      9\u001b[0m                 \u001b[0ml\u001b[0m \u001b[1;33m+=\u001b[0m \u001b[1;33m[\u001b[0m\u001b[0mt\u001b[0m\u001b[1;33m[\u001b[0m\u001b[0mi\u001b[0m\u001b[1;33m]\u001b[0m \u001b[1;33m+\u001b[0m \u001b[0mt\u001b[0m\u001b[1;33m[\u001b[0m\u001b[0mj\u001b[0m\u001b[1;33m]\u001b[0m\u001b[1;33m[\u001b[0m\u001b[0mk\u001b[0m\u001b[1;33m-\u001b[0m\u001b[1;36m2\u001b[0m\u001b[1;33m:\u001b[0m\u001b[1;33m]\u001b[0m\u001b[1;33m]\u001b[0m\u001b[1;33m\u001b[0m\u001b[1;33m\u001b[0m\u001b[0m\n\u001b[0;32m     10\u001b[0m     \u001b[1;32mreturn\u001b[0m \u001b[0ml\u001b[0m\u001b[1;33m\u001b[0m\u001b[1;33m\u001b[0m\u001b[0m\n",
      "\u001b[1;31mTypeError\u001b[0m: 'int' object is not subscriptable"
     ]
    }
   ],
   "source": [
    "t = [(1), (1)]\n",
    "get_joins(t , 5)\n"
   ]
  },
  {
   "cell_type": "code",
   "execution_count": null,
   "metadata": {},
   "outputs": [],
   "source": [
    "def main(data, threshold, hash_size):\n",
    "    frequent_sets = []\n",
    "    # phase 1: compute frequency of singletons and pairs; filter nonfrequent singletons\n",
    "    singleton, hashmap = singleton_pairs_frequency(data, hash_size, threshold)\n",
    "    # phase 2: collpse the hahsmap into a bitmap\n",
    "    bitmap = hash_to_bitmap(hashmap, hash_size, threshold)\n",
    "    #phase 3\n",
    "    frequent_sets, bitmap = frequent_couple(data, singleton, hash_size, bitmap, threshold) + singleton\n",
    "    \n",
    "    k = 3\n",
    "    result = [\"placeholder\"]\n",
    "    while result not []:\n",
    "        result = get_kth(data, precedents, hash_size, bitmap, threshold)\n",
    "        frequent_sets = frequent_sets + result\n",
    "    return frequent_sets\n",
    "    \n",
    "freq_sets = main(data, 15, 504)"
   ]
  },
  {
   "cell_type": "code",
   "execution_count": 31,
   "metadata": {},
   "outputs": [],
   "source": [
    "import csv\n",
    "csv = csv.reader(open('actorIdToInt.csv', newline='\\n'), delimiter='\\n')\n",
    "actorIds = []\n",
    "for row in csv:\n",
    "    actorIds.append(row[0])"
   ]
  },
  {
   "cell_type": "code",
   "execution_count": 41,
   "metadata": {},
   "outputs": [
    {
     "name": "stdout",
     "output_type": "stream",
     "text": [
      "[['Linda Arvidson', 'Harry Solter'], ['Linda Arvidson', 'Arthur V. Johnson'], ['Linda Arvidson', 'Charles Inslee'], ['Linda Arvidson', 'Florence Lawrence'], ['Linda Arvidson', 'George Gebhardt'], ['D.W. Griffith', 'Edward Dillon'], ['Charles Inslee', 'Harry Solter'], ['Florence Lawrence', 'Harry Solter'], ['George Gebhardt', 'Harry Solter'], ['Charles Inslee', 'Arthur V. Johnson'], ['Arthur V. Johnson', 'Florence Lawrence'], ['George Gebhardt', 'Arthur V. Johnson'], ['Charles Inslee', 'Florence Lawrence'], ['George Gebhardt', 'Charles Inslee'], ['George Gebhardt', 'Florence Lawrence'], ['George Gebhardt', 'Mack Sennett']]\n"
     ]
    }
   ],
   "source": [
    "import csv\n",
    "def intToItem(integers, actorIds):\n",
    "    counter = 0\n",
    "    ids = [tuple([actorIds[item] for item in couple]) for couple in integers]\n",
    "    #total actors in ids, with repetition\n",
    "    for el in ids:\n",
    "        counter += len(el)\n",
    "    translated = [[]]*len(ids)\n",
    "    \n",
    "    c = 2\n",
    "    tsv = csv.reader(open(\"name.tsv\", encoding=\"utf-8\"), delimiter=\"\\t\")\n",
    "    for row in tsv:\n",
    "        for pos in range(len(ids)):\n",
    "            if row[0] in ids[pos]:\n",
    "                translated[pos] = translated[pos] + [row[1]]\n",
    "                counter -= 1\n",
    "        if counter == 0:\n",
    "            break\n",
    "    return translated\n",
    "\n",
    "print(intToItem(freq_sets, actorIds))"
   ]
  }
 ],
 "metadata": {
  "kernelspec": {
   "display_name": "Python 3",
   "language": "python",
   "name": "python3"
  },
  "language_info": {
   "codemirror_mode": {
    "name": "ipython",
    "version": 3
   },
   "file_extension": ".py",
   "mimetype": "text/x-python",
   "name": "python",
   "nbconvert_exporter": "python",
   "pygments_lexer": "ipython3",
   "version": "3.7.3"
  }
 },
 "nbformat": 4,
 "nbformat_minor": 4
}
